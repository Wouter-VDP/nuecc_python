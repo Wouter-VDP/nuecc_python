{
 "cells": [
  {
   "cell_type": "markdown",
   "metadata": {},
   "source": [
    "### Detector Systematics \n",
    "- Load the DetVar samples, applies the nue selection on them\n",
    "- The after selection pickl is used to study the variations\n",
    "\n",
    "-- efficieny at different stages\n",
    "\n",
    "-- in function of a variable (plot)"
   ]
  },
  {
   "cell_type": "code",
   "execution_count": 2,
   "metadata": {},
   "outputs": [],
   "source": [
    "import nue_selection_helper as nue_helper\n",
    "from helpers import helpfunction as helper\n",
    "import glob\n",
    "import pandas as pd\n",
    "import numpy as np"
   ]
  },
  {
   "cell_type": "code",
   "execution_count": 2,
   "metadata": {},
   "outputs": [],
   "source": [
    "write_pickle = False\n",
    "outfile = './input/Jun2020/lite/sys_after_training.pckl'\n",
    "input_dir = \"./input/Jun2020/syst/\"\n",
    "output_dir = \"./output/\""
   ]
  },
  {
   "cell_type": "code",
   "execution_count": 3,
   "metadata": {
    "tags": []
   },
   "outputs": [],
   "source": [
    "samples = ['_'.join(f.split('/')[-1].split('.')[0].split('_')[:-1]) for f in glob.glob(input_dir+'*.pckl')]"
   ]
  },
  {
   "cell_type": "code",
   "execution_count": 4,
   "metadata": {
    "tags": []
   },
   "outputs": [],
   "source": [
    "if write_pickle:\n",
    "    nue_helper.CreateAfterTraining(samples, input_dir, one_file=outfile)\n",
    "data = pd.read_pickle(outfile)"
   ]
  },
  {
   "cell_type": "code",
   "execution_count": 5,
   "metadata": {
    "tags": []
   },
   "outputs": [
    {
     "output_type": "execute_result",
     "data": {
      "text/plain": "dict_keys(['nue_DetVar_WireModAngleYZ', 'nue_DetVar_LYRayleigh', 'nue_DetVar_LYAttenuation', 'nue_DetVar_wiremod_ScaleYZ', 'nue_DetVar_LYDown', 'nue_DetVar_wiremod_ScaledEdX', 'nue_DetVar_WireModAngleXZ', 'nue_DetVar_CV', 'nue_DetVar_wiremod_ScaleX'])"
     },
     "metadata": {},
     "execution_count": 5
    }
   ],
   "source": [
    "data.keys()"
   ]
  },
  {
   "cell_type": "code",
   "execution_count": 6,
   "metadata": {
    "tags": []
   },
   "outputs": [],
   "source": [
    "# We grouped by 'event' was this a smart choice?\n",
    "for sample in samples:\n",
    "    assert len(np.unique(data[sample]['daughters'].xs(0, level='daughter').index)) == len(data[sample]['daughters'].xs(0, level='daughter').index)"
   ]
  },
  {
   "cell_type": "code",
   "execution_count": 27,
   "metadata": {
    "tags": []
   },
   "outputs": [
    {
     "output_type": "stream",
     "name": "stdout",
     "text": "nue_DetVar_WireModAngleYZ     \t Efficiency: 84.2%+-0.2%\nnue_DetVar_LYRayleigh         \t Efficiency: 84.1%+-0.2%\nnue_DetVar_LYAttenuation      \t Efficiency: 83.8%+-0.2%\nnue_DetVar_wiremod_ScaleYZ    \t Efficiency: 83.8%+-0.2%\nnue_DetVar_LYDown             \t Efficiency: 84.6%+-0.2%\nnue_DetVar_wiremod_ScaledEdX  \t Efficiency: 83.6%+-0.2%\nnue_DetVar_WireModAngleXZ     \t Efficiency: 84.0%+-0.2%\nnue_DetVar_CV                 \t Efficiency: 84.1%+-0.2%\nnue_DetVar_wiremod_ScaleX     \t Efficiency: 83.8%+-0.2%\n"
    }
   ],
   "source": [
    "for sample in samples:\n",
    "    data[sample]['daughters']['nueccinc_new'] = data[sample]['daughters']['category'].isin([1,10,11])\n",
    "    num_w = data[sample]['daughters'].eval('nueccinc*weightSplineTimesTune').xs(0, level='daughter')\n",
    "    den_w = data[sample]['mc']['weightSplineTimesTune'][data[sample]['mc']['nueccinc']]\n",
    "    print('{:<30}\\t Efficiency: {:0.1%}+-{:0.1%}'.format(sample, *helper.effErr(num_w, den_w) ))"
   ]
  },
  {
   "cell_type": "code",
   "execution_count": null,
   "metadata": {},
   "outputs": [],
   "source": []
  }
 ],
 "metadata": {
  "kernelspec": {
   "display_name": "uproot env",
   "language": "python",
   "name": "uproot"
  },
  "language_info": {
   "codemirror_mode": {
    "name": "ipython",
    "version": 3
   },
   "file_extension": ".py",
   "mimetype": "text/x-python",
   "name": "python",
   "nbconvert_exporter": "python",
   "pygments_lexer": "ipython3",
   "version": "3.7.7"
  }
 },
 "nbformat": 4,
 "nbformat_minor": 4
}