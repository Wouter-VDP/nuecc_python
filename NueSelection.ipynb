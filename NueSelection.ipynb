{
 "cells": [
  {
   "cell_type": "markdown",
   "metadata": {},
   "source": [
    "### Input"
   ]
  },
  {
   "cell_type": "code",
   "execution_count": 1,
   "metadata": {},
   "outputs": [
    {
     "data": {
      "application/javascript": [
       "\n",
       "            setTimeout(function() {\n",
       "                var nbb_cell_id = 1;\n",
       "                var nbb_formatted_code = \"%load_ext autoreload\\n%matplotlib inline\\n%load_ext nb_black\";\n",
       "                var nbb_cells = Jupyter.notebook.get_cells();\n",
       "                for (var i = 0; i < nbb_cells.length; ++i) {\n",
       "                    if (nbb_cells[i].input_prompt_number == nbb_cell_id) {\n",
       "                        nbb_cells[i].set_text(nbb_formatted_code);\n",
       "                        break;\n",
       "                    }\n",
       "                }\n",
       "            }, 500);\n",
       "            "
      ],
      "text/plain": [
       "<IPython.core.display.Javascript object>"
      ]
     },
     "metadata": {},
     "output_type": "display_data"
    }
   ],
   "source": [
    "%load_ext autoreload\n",
    "%matplotlib inline\n",
    "%load_ext nb_black"
   ]
  },
  {
   "cell_type": "code",
   "execution_count": 2,
   "metadata": {},
   "outputs": [
    {
     "data": {
      "application/javascript": [
       "\n",
       "            setTimeout(function() {\n",
       "                var nbb_cell_id = 2;\n",
       "                var nbb_formatted_code = \"import numpy as np\\nimport pandas as pd\\nimport matplotlib.pyplot as plt\\nfrom xgboost import XGBClassifier\\nfrom sklearn.metrics import roc_curve, auc, classification_report, accuracy_score\\nfrom sklearn.model_selection import validation_curve, train_test_split\\nfrom joblib import dump, load\\nimport pickle\\nimport copy\\nimport gc\\nimport os\\n\\nfrom helpers import helpfunction as helper\\n\\npd.set_option(\\\"display.max_columns\\\", 500)\";\n",
       "                var nbb_cells = Jupyter.notebook.get_cells();\n",
       "                for (var i = 0; i < nbb_cells.length; ++i) {\n",
       "                    if (nbb_cells[i].input_prompt_number == nbb_cell_id) {\n",
       "                        nbb_cells[i].set_text(nbb_formatted_code);\n",
       "                        break;\n",
       "                    }\n",
       "                }\n",
       "            }, 500);\n",
       "            "
      ],
      "text/plain": [
       "<IPython.core.display.Javascript object>"
      ]
     },
     "metadata": {},
     "output_type": "display_data"
    }
   ],
   "source": [
    "import numpy as np\n",
    "import pandas as pd\n",
    "import matplotlib.pyplot as plt\n",
    "from xgboost import XGBClassifier\n",
    "from sklearn.metrics import roc_curve, auc, classification_report, accuracy_score\n",
    "from sklearn.model_selection import validation_curve, train_test_split\n",
    "from joblib import dump, load\n",
    "import pickle\n",
    "import copy\n",
    "import gc\n",
    "import os\n",
    "\n",
    "from helpers import helpfunction as helper\n",
    "\n",
    "pd.set_option(\"display.max_columns\", 500)"
   ]
  },
  {
   "cell_type": "code",
   "execution_count": 3,
   "metadata": {},
   "outputs": [
    {
     "data": {
      "application/javascript": [
       "\n",
       "            setTimeout(function() {\n",
       "                var nbb_cell_id = 3;\n",
       "                var nbb_formatted_code = \"%autoreload\";\n",
       "                var nbb_cells = Jupyter.notebook.get_cells();\n",
       "                for (var i = 0; i < nbb_cells.length; ++i) {\n",
       "                    if (nbb_cells[i].input_prompt_number == nbb_cell_id) {\n",
       "                        nbb_cells[i].set_text(nbb_formatted_code);\n",
       "                        break;\n",
       "                    }\n",
       "                }\n",
       "            }, 500);\n",
       "            "
      ],
      "text/plain": [
       "<IPython.core.display.Javascript object>"
      ]
     },
     "metadata": {},
     "output_type": "display_data"
    }
   ],
   "source": [
    "%autoreload"
   ]
  },
  {
   "cell_type": "markdown",
   "metadata": {},
   "source": [
    "### Constants"
   ]
  },
  {
   "cell_type": "code",
   "execution_count": 4,
   "metadata": {},
   "outputs": [
    {
     "data": {
      "application/javascript": [
       "\n",
       "            setTimeout(function() {\n",
       "                var nbb_cell_id = 4;\n",
       "                var nbb_formatted_code = \"input_dir = \\\"./input/Jun2020/\\\"\\noutput_dir = \\\"./output/\\\"\\nmodel_dir = \\\"./models/\\\"\";\n",
       "                var nbb_cells = Jupyter.notebook.get_cells();\n",
       "                for (var i = 0; i < nbb_cells.length; ++i) {\n",
       "                    if (nbb_cells[i].input_prompt_number == nbb_cell_id) {\n",
       "                        nbb_cells[i].set_text(nbb_formatted_code);\n",
       "                        break;\n",
       "                    }\n",
       "                }\n",
       "            }, 500);\n",
       "            "
      ],
      "text/plain": [
       "<IPython.core.display.Javascript object>"
      ]
     },
     "metadata": {},
     "output_type": "display_data"
    }
   ],
   "source": [
    "input_dir = \"./input/Jun2020/\"\n",
    "output_dir = \"./output/\"\n",
    "model_dir = \"./models/\""
   ]
  },
  {
   "cell_type": "code",
   "execution_count": 5,
   "metadata": {},
   "outputs": [
    {
     "data": {
      "application/javascript": [
       "\n",
       "            setTimeout(function() {\n",
       "                var nbb_cell_id = 5;\n",
       "                var nbb_formatted_code = \"x_sce_magic = 1.03\\ngrouper = [\\\"sample\\\", \\\"Run\\\", \\\"event\\\"]\";\n",
       "                var nbb_cells = Jupyter.notebook.get_cells();\n",
       "                for (var i = 0; i < nbb_cells.length; ++i) {\n",
       "                    if (nbb_cells[i].input_prompt_number == nbb_cell_id) {\n",
       "                        nbb_cells[i].set_text(nbb_formatted_code);\n",
       "                        break;\n",
       "                    }\n",
       "                }\n",
       "            }, 500);\n",
       "            "
      ],
      "text/plain": [
       "<IPython.core.display.Javascript object>"
      ]
     },
     "metadata": {},
     "output_type": "display_data"
    }
   ],
   "source": [
    "x_sce_magic = 1.03\n",
    "grouper = [\"sample\", \"Run\", \"event\"]"
   ]
  },
  {
   "cell_type": "code",
   "execution_count": 6,
   "metadata": {},
   "outputs": [
    {
     "data": {
      "application/javascript": [
       "\n",
       "            setTimeout(function() {\n",
       "                var nbb_cell_id = 6;\n",
       "                var nbb_formatted_code = \"write_output_to_pickle = False\\nretrain = False\\ntrain_ana = True\\nseed = 7\\ntest_size = 0.25\\nlee_focus = 1.0\\n# this number needs to be the same as was used in the loader on the gpvm.\\npot_target = 1e21\";\n",
       "                var nbb_cells = Jupyter.notebook.get_cells();\n",
       "                for (var i = 0; i < nbb_cells.length; ++i) {\n",
       "                    if (nbb_cells[i].input_prompt_number == nbb_cell_id) {\n",
       "                        nbb_cells[i].set_text(nbb_formatted_code);\n",
       "                        break;\n",
       "                    }\n",
       "                }\n",
       "            }, 500);\n",
       "            "
      ],
      "text/plain": [
       "<IPython.core.display.Javascript object>"
      ]
     },
     "metadata": {},
     "output_type": "display_data"
    }
   ],
   "source": [
    "write_output_to_pickle = False\n",
    "retrain = False\n",
    "train_ana = True\n",
    "seed = 7\n",
    "test_size = 0.25\n",
    "lee_focus = 1.0\n",
    "# this number needs to be the same as was used in the loader on the gpvm.\n",
    "pot_target = 1e21"
   ]
  },
  {
   "cell_type": "code",
   "execution_count": 7,
   "metadata": {},
   "outputs": [
    {
     "data": {
      "application/javascript": [
       "\n",
       "            setTimeout(function() {\n",
       "                var nbb_cell_id = 7;\n",
       "                var nbb_formatted_code = \"train_sample = \\\"train_new\\\"\\nplot_samples = [\\\"on\\\", \\\"off\\\", \\\"nu\\\", \\\"dirt\\\", \\\"sideband\\\"]\";\n",
       "                var nbb_cells = Jupyter.notebook.get_cells();\n",
       "                for (var i = 0; i < nbb_cells.length; ++i) {\n",
       "                    if (nbb_cells[i].input_prompt_number == nbb_cell_id) {\n",
       "                        nbb_cells[i].set_text(nbb_formatted_code);\n",
       "                        break;\n",
       "                    }\n",
       "                }\n",
       "            }, 500);\n",
       "            "
      ],
      "text/plain": [
       "<IPython.core.display.Javascript object>"
      ]
     },
     "metadata": {},
     "output_type": "display_data"
    }
   ],
   "source": [
    "train_sample = \"train_new\"\n",
    "plot_samples = [\"on\", \"off\", \"nu\", \"dirt\", \"sideband\"]"
   ]
  },
  {
   "cell_type": "code",
   "execution_count": 8,
   "metadata": {},
   "outputs": [
    {
     "data": {
      "application/javascript": [
       "\n",
       "            setTimeout(function() {\n",
       "                var nbb_cell_id = 8;\n",
       "                var nbb_formatted_code = \"# Preselection queries\\ne_cand_str = \\\"pfp_clusters_v==3 & \\\\\\n              trk_score_v<0.3 & \\\\\\n              shr_tkfit_2cm_nhits_Y >0 & \\\\\\n              pfp_generation_v==2 & \\\\\\n              trk_llr_pid_score_v>0.4\\\"\\n\\nquery_preselect = \\\"optical_filter & \\\\\\n                   e_candidate & \\\\\\n                   slpdg==12 &\\\\\\n                   reco_fid_vol & \\\\\\n                   shr_energy_y_v>100 & \\\\\\n                   CosmicIPAll3D>30 & \\\\\\n                   CosmicDirAll3D>-0.98 & \\\\\\n                   CosmicDirAll3D<0.98 & \\\\\\n                   topological_score > 0.15 & \\\\\\n                   contained_fraction>0.4\\\"\";\n",
       "                var nbb_cells = Jupyter.notebook.get_cells();\n",
       "                for (var i = 0; i < nbb_cells.length; ++i) {\n",
       "                    if (nbb_cells[i].input_prompt_number == nbb_cell_id) {\n",
       "                        nbb_cells[i].set_text(nbb_formatted_code);\n",
       "                        break;\n",
       "                    }\n",
       "                }\n",
       "            }, 500);\n",
       "            "
      ],
      "text/plain": [
       "<IPython.core.display.Javascript object>"
      ]
     },
     "metadata": {},
     "output_type": "display_data"
    }
   ],
   "source": [
    "# Preselection queries\n",
    "e_cand_str = \"pfp_clusters_v==3 & \\\n",
    "              trk_score_v<0.3 & \\\n",
    "              shr_tkfit_2cm_nhits_Y >0 & \\\n",
    "              pfp_generation_v==2 & \\\n",
    "              trk_llr_pid_score_v>0.4\"\n",
    "\n",
    "query_preselect = \"optical_filter & \\\n",
    "                   e_candidate & \\\n",
    "                   slpdg==12 &\\\n",
    "                   reco_fid_vol & \\\n",
    "                   shr_energy_y_v>100 & \\\n",
    "                   CosmicIPAll3D>30 & \\\n",
    "                   CosmicDirAll3D>-0.98 & \\\n",
    "                   CosmicDirAll3D<0.98 & \\\n",
    "                   topological_score > 0.15 & \\\n",
    "                   contained_fraction>0.4\""
   ]
  },
  {
   "cell_type": "markdown",
   "metadata": {},
   "source": [
    "### Load Samples"
   ]
  },
  {
   "cell_type": "code",
   "execution_count": 9,
   "metadata": {},
   "outputs": [
    {
     "name": "stdout",
     "output_type": "stream",
     "text": [
      "['nu_new_slimmed.pckl', 'train_new_slimmed.pckl', 'beam_sideband_slimmed.pckl', 'beam_on_slimmed.pckl', 'dirt_slimmed.pckl', 'beam_off_slimmed.pckl', 'after_training.pckl']\n",
      "CPU times: user 3.86 s, sys: 8.1 s, total: 12 s\n",
      "Wall time: 1min 19s\n"
     ]
    },
    {
     "data": {
      "application/javascript": [
       "\n",
       "            setTimeout(function() {\n",
       "                var nbb_cell_id = 9;\n",
       "                var nbb_formatted_code = \"%%time\\ntrain = pd.read_pickle(input_dir+\\\"{}_slimmed.pckl\\\".format(train_sample))\\n\\navailable_samples = os.listdir(input_dir)\\nprint(available_samples)\\nall_samples = {\\n    s: pd.read_pickle(input_dir+min([f for f in available_samples if s in f], key=len)) for s in plot_samples\\n}\\nall_samples['train'] = train\";\n",
       "                var nbb_cells = Jupyter.notebook.get_cells();\n",
       "                for (var i = 0; i < nbb_cells.length; ++i) {\n",
       "                    if (nbb_cells[i].input_prompt_number == nbb_cell_id) {\n",
       "                        nbb_cells[i].set_text(nbb_formatted_code);\n",
       "                        break;\n",
       "                    }\n",
       "                }\n",
       "            }, 500);\n",
       "            "
      ],
      "text/plain": [
       "<IPython.core.display.Javascript object>"
      ]
     },
     "metadata": {},
     "output_type": "display_data"
    }
   ],
   "source": [
    "%%time\n",
    "train = pd.read_pickle(input_dir+\"{}_slimmed.pckl\".format(train_sample))\n",
    "\n",
    "available_samples = os.listdir(input_dir)\n",
    "print(available_samples)\n",
    "all_samples = {\n",
    "    s: pd.read_pickle(input_dir+min([f for f in available_samples if s in f], key=len)) for s in plot_samples\n",
    "}\n",
    "all_samples['train'] = train"
   ]
  },
  {
   "cell_type": "code",
   "execution_count": 10,
   "metadata": {},
   "outputs": [
    {
     "data": {
      "text/plain": [
       "122"
      ]
     },
     "execution_count": 10,
     "metadata": {},
     "output_type": "execute_result"
    },
    {
     "data": {
      "application/javascript": [
       "\n",
       "            setTimeout(function() {\n",
       "                var nbb_cell_id = 10;\n",
       "                var nbb_formatted_code = \"# Convert weights from jagged to numpy:\\nfor s in plot_samples:\\n    if s not in helper.data_samples:\\n        for w in helper.syst_weights:\\n            all_samples[s][\\\"mc\\\"][w] = np.clip(\\n                np.nan_to_num(\\n                    all_samples[s][\\\"mc\\\"][w][\\n                        all_samples[s][\\\"mc\\\"][w].counts > 0\\n                    ].regular(),\\n                    nan=1,\\n                    posinf=1,\\n                    neginf=1,\\n                ),\\n                0,\\n                100,\\n            )\\ngc.collect()\";\n",
       "                var nbb_cells = Jupyter.notebook.get_cells();\n",
       "                for (var i = 0; i < nbb_cells.length; ++i) {\n",
       "                    if (nbb_cells[i].input_prompt_number == nbb_cell_id) {\n",
       "                        nbb_cells[i].set_text(nbb_formatted_code);\n",
       "                        break;\n",
       "                    }\n",
       "                }\n",
       "            }, 500);\n",
       "            "
      ],
      "text/plain": [
       "<IPython.core.display.Javascript object>"
      ]
     },
     "metadata": {},
     "output_type": "display_data"
    }
   ],
   "source": [
    "# Convert weights from jagged to numpy:\n",
    "for s in plot_samples:\n",
    "    if s not in helper.data_samples:\n",
    "        for w in helper.syst_weights:\n",
    "            all_samples[s][\"mc\"][w] = np.clip(\n",
    "                np.nan_to_num(\n",
    "                    all_samples[s][\"mc\"][w][\n",
    "                        all_samples[s][\"mc\"][w].counts > 0\n",
    "                    ].regular(),\n",
    "                    nan=1,\n",
    "                    posinf=1,\n",
    "                    neginf=1,\n",
    "                ),\n",
    "                0,\n",
    "                100,\n",
    "            )\n",
    "gc.collect()"
   ]
  },
  {
   "cell_type": "code",
   "execution_count": 11,
   "metadata": {},
   "outputs": [
    {
     "name": "stdout",
     "output_type": "stream",
     "text": [
      "Training set constructed with 2743560 entries.\n"
     ]
    },
    {
     "data": {
      "application/javascript": [
       "\n",
       "            setTimeout(function() {\n",
       "                var nbb_cell_id = 11;\n",
       "                var nbb_formatted_code = \"print(\\\"Training set constructed with {} entries.\\\".format(train[\\\"numentries\\\"]))\";\n",
       "                var nbb_cells = Jupyter.notebook.get_cells();\n",
       "                for (var i = 0; i < nbb_cells.length; ++i) {\n",
       "                    if (nbb_cells[i].input_prompt_number == nbb_cell_id) {\n",
       "                        nbb_cells[i].set_text(nbb_formatted_code);\n",
       "                        break;\n",
       "                    }\n",
       "                }\n",
       "            }, 500);\n",
       "            "
      ],
      "text/plain": [
       "<IPython.core.display.Javascript object>"
      ]
     },
     "metadata": {},
     "output_type": "display_data"
    }
   ],
   "source": [
    "print(\"Training set constructed with {} entries.\".format(train[\"numentries\"]))"
   ]
  },
  {
   "cell_type": "markdown",
   "metadata": {},
   "source": [
    "### Explore Tree"
   ]
  },
  {
   "cell_type": "code",
   "execution_count": 12,
   "metadata": {
    "scrolled": true
   },
   "outputs": [
    {
     "data": {
      "application/javascript": [
       "\n",
       "            setTimeout(function() {\n",
       "                var nbb_cell_id = 12;\n",
       "                var nbb_formatted_code = \"all_samples[\\\"dirt\\\"][\\\"mc\\\"][\\\"event_scale\\\"] = np.full(\\n    len(all_samples[\\\"dirt\\\"][\\\"mc\\\"][\\\"Run\\\"]),\\n    pot_target / sum(all_samples[\\\"dirt\\\"][\\\"pot\\\"].values()),\\n)\";\n",
       "                var nbb_cells = Jupyter.notebook.get_cells();\n",
       "                for (var i = 0; i < nbb_cells.length; ++i) {\n",
       "                    if (nbb_cells[i].input_prompt_number == nbb_cell_id) {\n",
       "                        nbb_cells[i].set_text(nbb_formatted_code);\n",
       "                        break;\n",
       "                    }\n",
       "                }\n",
       "            }, 500);\n",
       "            "
      ],
      "text/plain": [
       "<IPython.core.display.Javascript object>"
      ]
     },
     "metadata": {},
     "output_type": "display_data"
    }
   ],
   "source": [
    "all_samples[\"dirt\"][\"mc\"][\"event_scale\"] = np.full(\n",
    "    len(all_samples[\"dirt\"][\"mc\"][\"Run\"]),\n",
    "    pot_target / sum(all_samples[\"dirt\"][\"pot\"].values()),\n",
    ")"
   ]
  },
  {
   "cell_type": "code",
   "execution_count": 13,
   "metadata": {
    "scrolled": true
   },
   "outputs": [
    {
     "data": {
      "application/javascript": [
       "\n",
       "            setTimeout(function() {\n",
       "                var nbb_cell_id = 13;\n",
       "                var nbb_formatted_code = \"pot_scale = all_samples[\\\"on\\\"][\\\"pot\\\"] / pot_target\";\n",
       "                var nbb_cells = Jupyter.notebook.get_cells();\n",
       "                for (var i = 0; i < nbb_cells.length; ++i) {\n",
       "                    if (nbb_cells[i].input_prompt_number == nbb_cell_id) {\n",
       "                        nbb_cells[i].set_text(nbb_formatted_code);\n",
       "                        break;\n",
       "                    }\n",
       "                }\n",
       "            }, 500);\n",
       "            "
      ],
      "text/plain": [
       "<IPython.core.display.Javascript object>"
      ]
     },
     "metadata": {},
     "output_type": "display_data"
    }
   ],
   "source": [
    "pot_scale = all_samples[\"on\"][\"pot\"] / pot_target"
   ]
  },
  {
   "cell_type": "code",
   "execution_count": 14,
   "metadata": {
    "scrolled": true
   },
   "outputs": [
    {
     "data": {
      "application/javascript": [
       "\n",
       "            setTimeout(function() {\n",
       "                var nbb_cell_id = 14;\n",
       "                var nbb_formatted_code = \"# shr_fields\";\n",
       "                var nbb_cells = Jupyter.notebook.get_cells();\n",
       "                for (var i = 0; i < nbb_cells.length; ++i) {\n",
       "                    if (nbb_cells[i].input_prompt_number == nbb_cell_id) {\n",
       "                        nbb_cells[i].set_text(nbb_formatted_code);\n",
       "                        break;\n",
       "                    }\n",
       "                }\n",
       "            }, 500);\n",
       "            "
      ],
      "text/plain": [
       "<IPython.core.display.Javascript object>"
      ]
     },
     "metadata": {},
     "output_type": "display_data"
    }
   ],
   "source": [
    "# shr_fields"
   ]
  },
  {
   "cell_type": "code",
   "execution_count": 15,
   "metadata": {
    "scrolled": true
   },
   "outputs": [
    {
     "data": {
      "application/javascript": [
       "\n",
       "            setTimeout(function() {\n",
       "                var nbb_cell_id = 15;\n",
       "                var nbb_formatted_code = \"# backracked_fields\";\n",
       "                var nbb_cells = Jupyter.notebook.get_cells();\n",
       "                for (var i = 0; i < nbb_cells.length; ++i) {\n",
       "                    if (nbb_cells[i].input_prompt_number == nbb_cell_id) {\n",
       "                        nbb_cells[i].set_text(nbb_formatted_code);\n",
       "                        break;\n",
       "                    }\n",
       "                }\n",
       "            }, 500);\n",
       "            "
      ],
      "text/plain": [
       "<IPython.core.display.Javascript object>"
      ]
     },
     "metadata": {},
     "output_type": "display_data"
    }
   ],
   "source": [
    "# backracked_fields"
   ]
  },
  {
   "cell_type": "code",
   "execution_count": 16,
   "metadata": {
    "scrolled": true
   },
   "outputs": [
    {
     "data": {
      "application/javascript": [
       "\n",
       "            setTimeout(function() {\n",
       "                var nbb_cell_id = 16;\n",
       "                var nbb_formatted_code = \"# other_fields\";\n",
       "                var nbb_cells = Jupyter.notebook.get_cells();\n",
       "                for (var i = 0; i < nbb_cells.length; ++i) {\n",
       "                    if (nbb_cells[i].input_prompt_number == nbb_cell_id) {\n",
       "                        nbb_cells[i].set_text(nbb_formatted_code);\n",
       "                        break;\n",
       "                    }\n",
       "                }\n",
       "            }, 500);\n",
       "            "
      ],
      "text/plain": [
       "<IPython.core.display.Javascript object>"
      ]
     },
     "metadata": {},
     "output_type": "display_data"
    }
   ],
   "source": [
    "# other_fields"
   ]
  },
  {
   "cell_type": "code",
   "execution_count": 17,
   "metadata": {
    "scrolled": false
   },
   "outputs": [
    {
     "data": {
      "application/javascript": [
       "\n",
       "            setTimeout(function() {\n",
       "                var nbb_cell_id = 17;\n",
       "                var nbb_formatted_code = \"pot_scale = all_samples[\\\"on\\\"][\\\"pot\\\"] / pot_target\";\n",
       "                var nbb_cells = Jupyter.notebook.get_cells();\n",
       "                for (var i = 0; i < nbb_cells.length; ++i) {\n",
       "                    if (nbb_cells[i].input_prompt_number == nbb_cell_id) {\n",
       "                        nbb_cells[i].set_text(nbb_formatted_code);\n",
       "                        break;\n",
       "                    }\n",
       "                }\n",
       "            }, 500);\n",
       "            "
      ],
      "text/plain": [
       "<IPython.core.display.Javascript object>"
      ]
     },
     "metadata": {},
     "output_type": "display_data"
    }
   ],
   "source": [
    "pot_scale = all_samples[\"on\"][\"pot\"] / pot_target"
   ]
  },
  {
   "cell_type": "code",
   "execution_count": 18,
   "metadata": {},
   "outputs": [
    {
     "data": {
      "text/plain": [
       "Index(['n_showers', 'evt', 'secondshower_Y_eigenratio', 'shrclusfrac2',\n",
       "       'shr_tkfit_2cm_dedx_U', 'backtracked_start_x', 'secondshower_Y_dot',\n",
       "       'hits_ratio', 'shr_tkfit_nhits_v', 'shr_tkfit_2cm_nhits_V',\n",
       "       'secondshower_Y_dir', 'reco_nu_vtx_sce_z', 'trkshrhitdist2',\n",
       "       'pfp_generation_v', 'backtracked_start_y', 'backtracked_pdg',\n",
       "       'shr_tkfit_2cm_nhits_U', 'trk_theta_v', 'shr_tkfit_2cm_dedx_Y',\n",
       "       'shr_energy_y_v', 'backtracked_px', 'slclustfrac', 'shr_tkfit_dedx_v_v',\n",
       "       'shr_tkfit_2cm_nhits_Y', 'shr_phi_v', 'NeutrinoEnergy2',\n",
       "       'contained_fraction', 'CosmicDirAll3D', 'trk_sce_end_x_v',\n",
       "       'pfpplanesubclusters_U', 'shr_tkfit_2cm_dedx_V',\n",
       "       'shr_tkfit_dedx_nhits_u_v', 'SliceCaloEnergy2', 'pfp_trk_daughters_v',\n",
       "       'n_pfps', 'trk_score_v', 'shr_tkfit_dedx_nhits_y_v', 'trk_len_v',\n",
       "       'reco_nu_vtx_x', 'backtracked_completeness', 'trk_llr_pid_score_v',\n",
       "       'trk_sce_start_x_v', 'topological_score', 'trk_energy_proton_v',\n",
       "       'pfnhits', 'shr_tkfit_dedx_nhits_v_v', 'trk_range_muon_mom_v',\n",
       "       'shr_tkfit_gap10_dedx_y_v', 'CosmicIP', 'backtracked_overlay_purity',\n",
       "       'reco_nu_vtx_y', 'trk_phi_v', 'n_showers_contained', 'run',\n",
       "       'shrclusdir2', 'shr_tkfit_dedx_u_v', 'pfpplanesubclusters_V', 'slpdg',\n",
       "       'backtracked_e', 'reco_nu_vtx_sce_y', 'shr_tkfit_dedx_y_v',\n",
       "       'trk_sce_start_y_v', 'shr_moliere_avg_v', 'merge_bestdist',\n",
       "       'trk_sce_start_z_v', 'merge_bestdot', 'n_tracks', 'trk_mcs_muon_mom_v',\n",
       "       'shr_theta_v', 'shr_dist_v', 'crtveto', 'pfp_shr_daughters_v',\n",
       "       'ismerged', 'backtracked_py', 'backtracked_start_z', 'reco_nu_vtx_z',\n",
       "       'n_tracks_contained', 'secondshower_Y_vtxdist', 'trk_sce_end_y_v',\n",
       "       'backtracked_purity', 'trk_distance_v', 'trk_sce_end_z_v',\n",
       "       'pfpplanesubclusters_Y', 'sub', 'reco_nu_vtx_sce_x',\n",
       "       'nu_flashmatch_score', 'trk_calo_energy_y_v', 'backtracked_pz',\n",
       "       'secondshower_Y_nhit', 'crthitpe', 'CosmicIPAll3D',\n",
       "       '_closestNuCosmicDist', 'reco_e'],\n",
       "      dtype='object')"
      ]
     },
     "execution_count": 18,
     "metadata": {},
     "output_type": "execute_result"
    },
    {
     "data": {
      "application/javascript": [
       "\n",
       "            setTimeout(function() {\n",
       "                var nbb_cell_id = 18;\n",
       "                var nbb_formatted_code = \"train[\\\"daughters\\\"].keys()\";\n",
       "                var nbb_cells = Jupyter.notebook.get_cells();\n",
       "                for (var i = 0; i < nbb_cells.length; ++i) {\n",
       "                    if (nbb_cells[i].input_prompt_number == nbb_cell_id) {\n",
       "                        nbb_cells[i].set_text(nbb_formatted_code);\n",
       "                        break;\n",
       "                    }\n",
       "                }\n",
       "            }, 500);\n",
       "            "
      ],
      "text/plain": [
       "<IPython.core.display.Javascript object>"
      ]
     },
     "metadata": {},
     "output_type": "display_data"
    }
   ],
   "source": [
    "train[\"daughters\"].keys()"
   ]
  },
  {
   "cell_type": "code",
   "execution_count": 19,
   "metadata": {},
   "outputs": [
    {
     "data": {
      "text/plain": [
       "dict_keys(['nu_e', 'nu_pdg', 'nu_purity_from_pfp', 'true_nu_vtx_z', 'mc_pdg', 'leeweight', 'true_nu_vtx_y', 'mc_E', 'interaction', 'nproton', 'ccnc', 'n_pfps', 'true_nu_vtx_x', 'theta', 'nelec', 'weightSpline', 'nmuon', 'lep_e', 'nu_completeness_from_pfp', 'weightSplineTimesTune', 'npi0', 'npion', 'nueccinc', 'Run', 'sample', 'filter', 'optical_filter'])"
      ]
     },
     "execution_count": 19,
     "metadata": {},
     "output_type": "execute_result"
    },
    {
     "data": {
      "application/javascript": [
       "\n",
       "            setTimeout(function() {\n",
       "                var nbb_cell_id = 19;\n",
       "                var nbb_formatted_code = \"train[\\\"mc\\\"].keys()\";\n",
       "                var nbb_cells = Jupyter.notebook.get_cells();\n",
       "                for (var i = 0; i < nbb_cells.length; ++i) {\n",
       "                    if (nbb_cells[i].input_prompt_number == nbb_cell_id) {\n",
       "                        nbb_cells[i].set_text(nbb_formatted_code);\n",
       "                        break;\n",
       "                    }\n",
       "                }\n",
       "            }, 500);\n",
       "            "
      ],
      "text/plain": [
       "<IPython.core.display.Javascript object>"
      ]
     },
     "metadata": {},
     "output_type": "display_data"
    }
   ],
   "source": [
    "train[\"mc\"].keys()"
   ]
  },
  {
   "cell_type": "code",
   "execution_count": 20,
   "metadata": {},
   "outputs": [
    {
     "data": {
      "application/javascript": [
       "\n",
       "            setTimeout(function() {\n",
       "                var nbb_cell_id = 20;\n",
       "                var nbb_formatted_code = \"pot_scale = all_samples[\\\"on\\\"][\\\"pot\\\"] / pot_target\";\n",
       "                var nbb_cells = Jupyter.notebook.get_cells();\n",
       "                for (var i = 0; i < nbb_cells.length; ++i) {\n",
       "                    if (nbb_cells[i].input_prompt_number == nbb_cell_id) {\n",
       "                        nbb_cells[i].set_text(nbb_formatted_code);\n",
       "                        break;\n",
       "                    }\n",
       "                }\n",
       "            }, 500);\n",
       "            "
      ],
      "text/plain": [
       "<IPython.core.display.Javascript object>"
      ]
     },
     "metadata": {},
     "output_type": "display_data"
    }
   ],
   "source": [
    "pot_scale = all_samples[\"on\"][\"pot\"] / pot_target"
   ]
  },
  {
   "cell_type": "code",
   "execution_count": 21,
   "metadata": {},
   "outputs": [
    {
     "data": {
      "application/javascript": [
       "\n",
       "            setTimeout(function() {\n",
       "                var nbb_cell_id = 21;\n",
       "                var nbb_formatted_code = \"# Columns for dedx:\\ndedx_cols = {\\n    \\\"shr_tkfit_dedx_u_v\\\",\\n    \\\"shr_tkfit_dedx_v_v\\\",\\n    \\\"shr_tkfit_dedx_y_v\\\",\\n    \\\"shr_tkfit_dedx_nhits_u_v\\\",\\n    \\\"shr_tkfit_dedx_nhits_v_v\\\",\\n    \\\"shr_tkfit_dedx_nhits_y_v\\\",\\n    \\\"shr_tkfit_2cm_dedx_Y\\\",\\n    \\\"shr_tkfit_2cm_nhits_Y\\\",\\n    \\\"shr_tkfit_gap10_dedx_y_v\\\",\\n}\\n# Columns to remove:\\npop_cols = {\\n    \\\"shr_tkfit_2cm_dedx_V\\\",\\n    \\\"shr_tkfit_2cm_nhits_U\\\",\\n    \\\"shr_tkfit_2cm_dedx_U\\\",\\n    \\\"shr_tkfit_dedx_v_v\\\",\\n    \\\"shr_tkfit_dedx_u_v\\\",\\n    \\\"shr_tkfit_dedx_nhits_u_v\\\",\\n    \\\"shr_tkfit_dedx_nhits_v_v\\\",\\n    \\\"slclustfrac\\\",\\n    \\\"shrclusfrac2\\\",\\n    \\\"shrclusdir2\\\",\\n    \\\"trkshrhitdist2\\\",\\n    \\\"pfpplanesubclusters_U\\\",\\n    \\\"pfpplanesubclusters_V\\\",\\n    \\\"pfpplanesubclusters_Y\\\",\\n    \\\"trk_range_muon_mom_v\\\",\\n    \\\"trk_mcs_muon_mom_v\\\",\\n    \\\"trk_calo_energy_y_v\\\",\\n    \\\"trk_energy_proton_v\\\",\\n    \\\"nu_flashmatch_score\\\",\\n    \\\"_closestNuCosmicDist\\\",\\n    \\\"crtveto\\\",\\n    \\\"crthitpe\\\",\\n    \\\"CosmicIP\\\",\\n    \\\"merge_bestdot\\\",\\n    \\\"merge_bestdist\\\",\\n    \\\"ismerged\\\",\\n    \\\"secondshower_Y_vtxdist\\\",\\n    \\\"secondshower_Y_eigenratio\\\",\\n    \\\"secondshower_Y_dir\\\",\\n    \\\"secondshower_Y_dot\\\",\\n}\\n# Columns to add to daughter frames:\\nadd_mc_fields = {\\n    \\\"interaction\\\",\\n    \\\"weightSplineTimesTune\\\",\\n    \\\"leeweight\\\",\\n    \\\"nu_e\\\",\\n    \\\"nu_pdg\\\",\\n    \\\"nueccinc\\\",\\n    \\\"npion\\\",\\n    \\\"npi0\\\",\\n    \\\"nproton\\\",\\n    \\\"nelec\\\",\\n    \\\"nmuon\\\",\\n    \\\"nu_purity_from_pfp\\\",\\n    \\\"optical_filter\\\",\\n    \\\"event_scale\\\",\\n}\";\n",
       "                var nbb_cells = Jupyter.notebook.get_cells();\n",
       "                for (var i = 0; i < nbb_cells.length; ++i) {\n",
       "                    if (nbb_cells[i].input_prompt_number == nbb_cell_id) {\n",
       "                        nbb_cells[i].set_text(nbb_formatted_code);\n",
       "                        break;\n",
       "                    }\n",
       "                }\n",
       "            }, 500);\n",
       "            "
      ],
      "text/plain": [
       "<IPython.core.display.Javascript object>"
      ]
     },
     "metadata": {},
     "output_type": "display_data"
    }
   ],
   "source": [
    "# Columns for dedx:\n",
    "dedx_cols = {\n",
    "    \"shr_tkfit_dedx_u_v\",\n",
    "    \"shr_tkfit_dedx_v_v\",\n",
    "    \"shr_tkfit_dedx_y_v\",\n",
    "    \"shr_tkfit_dedx_nhits_u_v\",\n",
    "    \"shr_tkfit_dedx_nhits_v_v\",\n",
    "    \"shr_tkfit_dedx_nhits_y_v\",\n",
    "    \"shr_tkfit_2cm_dedx_Y\",\n",
    "    \"shr_tkfit_2cm_nhits_Y\",\n",
    "    \"shr_tkfit_gap10_dedx_y_v\",\n",
    "}\n",
    "# Columns to remove:\n",
    "pop_cols = {\n",
    "    \"shr_tkfit_2cm_dedx_V\",\n",
    "    \"shr_tkfit_2cm_nhits_U\",\n",
    "    \"shr_tkfit_2cm_dedx_U\",\n",
    "    \"shr_tkfit_dedx_v_v\",\n",
    "    \"shr_tkfit_dedx_u_v\",\n",
    "    \"shr_tkfit_dedx_nhits_u_v\",\n",
    "    \"shr_tkfit_dedx_nhits_v_v\",\n",
    "    \"slclustfrac\",\n",
    "    \"shrclusfrac2\",\n",
    "    \"shrclusdir2\",\n",
    "    \"trkshrhitdist2\",\n",
    "    \"pfpplanesubclusters_U\",\n",
    "    \"pfpplanesubclusters_V\",\n",
    "    \"pfpplanesubclusters_Y\",\n",
    "    \"trk_range_muon_mom_v\",\n",
    "    \"trk_mcs_muon_mom_v\",\n",
    "    \"trk_calo_energy_y_v\",\n",
    "    \"trk_energy_proton_v\",\n",
    "    \"nu_flashmatch_score\",\n",
    "    \"_closestNuCosmicDist\",\n",
    "    \"crtveto\",\n",
    "    \"crthitpe\",\n",
    "    \"CosmicIP\",\n",
    "    \"merge_bestdot\",\n",
    "    \"merge_bestdist\",\n",
    "    \"ismerged\",\n",
    "    \"secondshower_Y_vtxdist\",\n",
    "    \"secondshower_Y_eigenratio\",\n",
    "    \"secondshower_Y_dir\",\n",
    "    \"secondshower_Y_dot\",\n",
    "}\n",
    "# Columns to add to daughter frames:\n",
    "add_mc_fields = {\n",
    "    \"interaction\",\n",
    "    \"weightSplineTimesTune\",\n",
    "    \"leeweight\",\n",
    "    \"nu_e\",\n",
    "    \"nu_pdg\",\n",
    "    \"nueccinc\",\n",
    "    \"npion\",\n",
    "    \"npi0\",\n",
    "    \"nproton\",\n",
    "    \"nelec\",\n",
    "    \"nmuon\",\n",
    "    \"nu_purity_from_pfp\",\n",
    "    \"optical_filter\",\n",
    "    \"event_scale\",\n",
    "}"
   ]
  },
  {
   "cell_type": "markdown",
   "metadata": {},
   "source": [
    "### Provide the correct scaling"
   ]
  },
  {
   "cell_type": "code",
   "execution_count": 22,
   "metadata": {},
   "outputs": [
    {
     "data": {
      "application/javascript": [
       "\n",
       "            setTimeout(function() {\n",
       "                var nbb_cell_id = 22;\n",
       "                var nbb_formatted_code = \"pot_scale = all_samples[\\\"on\\\"][\\\"pot\\\"] / pot_target\";\n",
       "                var nbb_cells = Jupyter.notebook.get_cells();\n",
       "                for (var i = 0; i < nbb_cells.length; ++i) {\n",
       "                    if (nbb_cells[i].input_prompt_number == nbb_cell_id) {\n",
       "                        nbb_cells[i].set_text(nbb_formatted_code);\n",
       "                        break;\n",
       "                    }\n",
       "                }\n",
       "            }, 500);\n",
       "            "
      ],
      "text/plain": [
       "<IPython.core.display.Javascript object>"
      ]
     },
     "metadata": {},
     "output_type": "display_data"
    }
   ],
   "source": [
    "pot_scale = all_samples[\"on\"][\"pot\"] / pot_target"
   ]
  },
  {
   "cell_type": "code",
   "execution_count": 23,
   "metadata": {},
   "outputs": [
    {
     "data": {
      "application/javascript": [
       "\n",
       "            setTimeout(function() {\n",
       "                var nbb_cell_id = 23;\n",
       "                var nbb_formatted_code = \"all_samples[\\\"dirt\\\"][\\\"mc\\\"][\\\"event_scale\\\"] = np.full(\\n    len(all_samples[\\\"dirt\\\"][\\\"mc\\\"][\\\"Run\\\"]),\\n    pot_target / sum(all_samples[\\\"dirt\\\"][\\\"pot\\\"].values()),\\n)\";\n",
       "                var nbb_cells = Jupyter.notebook.get_cells();\n",
       "                for (var i = 0; i < nbb_cells.length; ++i) {\n",
       "                    if (nbb_cells[i].input_prompt_number == nbb_cell_id) {\n",
       "                        nbb_cells[i].set_text(nbb_formatted_code);\n",
       "                        break;\n",
       "                    }\n",
       "                }\n",
       "            }, 500);\n",
       "            "
      ],
      "text/plain": [
       "<IPython.core.display.Javascript object>"
      ]
     },
     "metadata": {},
     "output_type": "display_data"
    }
   ],
   "source": [
    "all_samples[\"dirt\"][\"mc\"][\"event_scale\"] = np.full(\n",
    "    len(all_samples[\"dirt\"][\"mc\"][\"Run\"]),\n",
    "    pot_target / sum(all_samples[\"dirt\"][\"pot\"].values()),\n",
    ")"
   ]
  },
  {
   "cell_type": "markdown",
   "metadata": {},
   "source": [
    "### Add fields"
   ]
  },
  {
   "cell_type": "code",
   "execution_count": 24,
   "metadata": {
    "scrolled": false
   },
   "outputs": [
    {
     "name": "stdout",
     "output_type": "stream",
     "text": [
      "on\n",
      "off\n",
      "nu\n"
     ]
    },
    {
     "name": "stderr",
     "output_type": "stream",
     "text": [
      "/home/wouter/Binaries/miniconda3/envs/uproot/lib/python3.7/site-packages/IPython/core/interactiveshell.py:3331: PerformanceWarning: indexing past lexsort depth may impact performance.\n",
      "  exec(code_obj, self.user_global_ns, self.user_ns)\n"
     ]
    },
    {
     "name": "stdout",
     "output_type": "stream",
     "text": [
      "dirt\n",
      "sideband\n",
      "train\n"
     ]
    },
    {
     "name": "stderr",
     "output_type": "stream",
     "text": [
      "/home/wouter/Binaries/miniconda3/envs/uproot/lib/python3.7/site-packages/IPython/core/interactiveshell.py:3331: PerformanceWarning: indexing past lexsort depth may impact performance.\n",
      "  exec(code_obj, self.user_global_ns, self.user_ns)\n"
     ]
    },
    {
     "name": "stdout",
     "output_type": "stream",
     "text": [
      "CPU times: user 16.9 s, sys: 6.21 s, total: 23.1 s\n",
      "Wall time: 23.2 s\n"
     ]
    },
    {
     "data": {
      "application/javascript": [
       "\n",
       "            setTimeout(function() {\n",
       "                var nbb_cell_id = 24;\n",
       "                var nbb_formatted_code = \"%%time\\n# For all samples\\nfor k, v in all_samples.items():\\n    print(k)\\n    # calibration of shower energy.\\n    v['daughters']['shr_energy_y_v']/=0.83 \\n    v['daughters']['trk_energy_proton_v']*=1000\\n    v['daughters']['shr_energy_y_v'].clip(0, 9999, inplace=True)\\n    v['daughters']['trk_energy_proton_v'].clip(0, 9999, inplace=True)\\n    \\n    # Add fiducial reco sce vtx\\n    v[\\\"daughters\\\"][\\\"reco_fid_vol\\\"] = np.repeat(\\n       helper.is_fid(\\n           *v[\\\"daughters\\\"][\\n               [\\\"reco_nu_vtx_sce_x\\\", \\\"reco_nu_vtx_sce_y\\\", \\\"reco_nu_vtx_sce_z\\\"]\\n           ]\\n           .xs(0, level=\\\"daughter\\\")\\n           .values.T\\n       ),\\n       v[\\\"daughters\\\"][\\\"n_pfps\\\"].xs(0, level=\\\"daughter\\\"),\\n    )\\n    \\n    # Add pfp at vtx and tracks at vtx:\\n    v[\\\"daughters\\\"].eval(\\\"n_pfpvtx = trk_distance_v<3 & trk_distance_v>=0\\\", inplace=True)\\n    v[\\\"daughters\\\"][\\\"n_pfpvtx\\\"] = v[\\\"daughters\\\"]['n_pfpvtx'].groupby(grouper, sort=False).transform(sum)\\n    v[\\\"daughters\\\"].eval(\\\"n_pfp_farvtx = n_pfps-n_pfpvtx\\\", inplace=True)\\n    v[\\\"daughters\\\"].eval(\\\"trk_at_vtx = trk_distance_v<3 & trk_distance_v>=0 & trk_score_v>0.3\\\", inplace=True)\\n    v[\\\"daughters\\\"][\\\"trk_at_vtx\\\"] = v[\\\"daughters\\\"][\\\"trk_at_vtx\\\"].groupby(grouper, sort=False).transform(sum)\\n    \\n    # Number clusters and subclusters in the particle:\\n    v[\\\"daughters\\\"][\\\"pfp_clusters_v\\\"] = v[\\\"daughters\\\"][['pfpplanesubclusters_U', 'pfpplanesubclusters_V', 'pfpplanesubclusters_Y']].astype(bool).sum(axis=1)\\n    v[\\\"daughters\\\"].eval('shr_subclusters_v = pfpplanesubclusters_U+pfpplanesubclusters_V+pfpplanesubclusters_Y', inplace=True)\\n\\n    e_cand_bool = v[\\\"daughters\\\"].eval(e_cand_str)\\n    e_cand_maxe = v[\\\"daughters\\\"][e_cand_bool][\\\"shr_energy_y_v\\\"].groupby(grouper, sort=False).transform(max) == v[\\\"daughters\\\"][e_cand_bool][\\\"shr_energy_y_v\\\"]\\n    v[\\\"daughters\\\"][\\\"e_candidate\\\"] = False\\n    v[\\\"daughters\\\"].loc[e_cand_maxe[e_cand_maxe == True].index, \\\"e_candidate\\\"] = True\\n    \\n    # Add weighted dedx:\\n    ## clip to reasonable values\\n    for col in dedx_cols:\\n        v['daughters'][col] = np.clip(np.nan_to_num(v['daughters'][col], nan=0, posinf=20, neginf=0), 0, 20)\\n    ## for the first 4 cm\\n    str_dedx_weighted_mean='(shr_tkfit_dedx_u_v*shr_tkfit_dedx_nhits_u_v+\\\\\\n                             shr_tkfit_dedx_v_v*shr_tkfit_dedx_nhits_v_v+\\\\\\n                             shr_tkfit_dedx_y_v*shr_tkfit_dedx_nhits_y_v)/\\\\\\n                            (shr_tkfit_dedx_nhits_u_v+shr_tkfit_dedx_nhits_v_v+shr_tkfit_dedx_nhits_y_v)'\\n    v[\\\"daughters\\\"]['shr_tkfit_4cm_dedx_wm_v']= v[\\\"daughters\\\"].eval(str_dedx_weighted_mean)\\n    \\n    ## for the first 2 cm\\n    str_dedx_weighted_mean='(shr_tkfit_2cm_dedx_U*shr_tkfit_2cm_nhits_U+\\\\\\n                             shr_tkfit_2cm_dedx_V*shr_tkfit_2cm_nhits_V+\\\\\\n                             shr_tkfit_2cm_dedx_Y*shr_tkfit_2cm_nhits_Y)/\\\\\\n                            (shr_tkfit_2cm_nhits_U+shr_tkfit_2cm_nhits_V+shr_tkfit_2cm_nhits_Y)'\\n    v[\\\"daughters\\\"]['shr_tkfit_2cm_dedx_wm_v']= v[\\\"daughters\\\"].eval(str_dedx_weighted_mean)\\n    \\n    # Add the number of hits per length:\\n    v[\\\"daughters\\\"].eval('hits_per_tklen_v = pfnhits/trk_len_v', inplace=True)\\n    # Add the sum of shower subclusters:\\n    v[\\\"daughters\\\"].eval('shr_tkfit_hitratio_v = shr_tkfit_nhits_v/pfnhits', inplace=True)\\n    # Explore mcs muon momentum:\\n    v[\\\"daughters\\\"].eval('trk_muon_hypothesis_ratio_v = trk_mcs_muon_mom_v/trk_range_muon_mom_v', inplace=True)\\n    # Explore track energy:\\n    v[\\\"daughters\\\"].eval(\\\"trk_proton_hypothesis_ratio_v = trk_calo_energy_y_v/trk_energy_proton_v\\\", inplace=True)\\n\\n    v['daughters'].drop(pop_cols, axis=1, inplace=True)\\n    gc.collect\";\n",
       "                var nbb_cells = Jupyter.notebook.get_cells();\n",
       "                for (var i = 0; i < nbb_cells.length; ++i) {\n",
       "                    if (nbb_cells[i].input_prompt_number == nbb_cell_id) {\n",
       "                        nbb_cells[i].set_text(nbb_formatted_code);\n",
       "                        break;\n",
       "                    }\n",
       "                }\n",
       "            }, 500);\n",
       "            "
      ],
      "text/plain": [
       "<IPython.core.display.Javascript object>"
      ]
     },
     "metadata": {},
     "output_type": "display_data"
    }
   ],
   "source": [
    "%%time\n",
    "# For all samples\n",
    "for k, v in all_samples.items():\n",
    "    print(k)\n",
    "    # calibration of shower energy.\n",
    "    v['daughters']['shr_energy_y_v']/=0.83 \n",
    "    v['daughters']['trk_energy_proton_v']*=1000\n",
    "    v['daughters']['shr_energy_y_v'].clip(0, 9999, inplace=True)\n",
    "    v['daughters']['trk_energy_proton_v'].clip(0, 9999, inplace=True)\n",
    "    \n",
    "    # Add fiducial reco sce vtx\n",
    "    v[\"daughters\"][\"reco_fid_vol\"] = np.repeat(\n",
    "       helper.is_fid(\n",
    "           *v[\"daughters\"][\n",
    "               [\"reco_nu_vtx_sce_x\", \"reco_nu_vtx_sce_y\", \"reco_nu_vtx_sce_z\"]\n",
    "           ]\n",
    "           .xs(0, level=\"daughter\")\n",
    "           .values.T\n",
    "       ),\n",
    "       v[\"daughters\"][\"n_pfps\"].xs(0, level=\"daughter\"),\n",
    "    )\n",
    "    \n",
    "    # Add pfp at vtx and tracks at vtx:\n",
    "    v[\"daughters\"].eval(\"n_pfpvtx = trk_distance_v<3 & trk_distance_v>=0\", inplace=True)\n",
    "    v[\"daughters\"][\"n_pfpvtx\"] = v[\"daughters\"]['n_pfpvtx'].groupby(grouper, sort=False).transform(sum)\n",
    "    v[\"daughters\"].eval(\"n_pfp_farvtx = n_pfps-n_pfpvtx\", inplace=True)\n",
    "    v[\"daughters\"].eval(\"trk_at_vtx = trk_distance_v<3 & trk_distance_v>=0 & trk_score_v>0.3\", inplace=True)\n",
    "    v[\"daughters\"][\"trk_at_vtx\"] = v[\"daughters\"][\"trk_at_vtx\"].groupby(grouper, sort=False).transform(sum)\n",
    "    \n",
    "    # Number clusters and subclusters in the particle:\n",
    "    v[\"daughters\"][\"pfp_clusters_v\"] = v[\"daughters\"][['pfpplanesubclusters_U', 'pfpplanesubclusters_V', 'pfpplanesubclusters_Y']].astype(bool).sum(axis=1)\n",
    "    v[\"daughters\"].eval('shr_subclusters_v = pfpplanesubclusters_U+pfpplanesubclusters_V+pfpplanesubclusters_Y', inplace=True)\n",
    "\n",
    "    e_cand_bool = v[\"daughters\"].eval(e_cand_str)\n",
    "    e_cand_maxe = v[\"daughters\"][e_cand_bool][\"shr_energy_y_v\"].groupby(grouper, sort=False).transform(max) == v[\"daughters\"][e_cand_bool][\"shr_energy_y_v\"]\n",
    "    v[\"daughters\"][\"e_candidate\"] = False\n",
    "    v[\"daughters\"].loc[e_cand_maxe[e_cand_maxe == True].index, \"e_candidate\"] = True\n",
    "    \n",
    "    # Add weighted dedx:\n",
    "    ## clip to reasonable values\n",
    "    for col in dedx_cols:\n",
    "        v['daughters'][col] = np.clip(np.nan_to_num(v['daughters'][col], nan=0, posinf=20, neginf=0), 0, 20)\n",
    "    ## for the first 4 cm\n",
    "    str_dedx_weighted_mean='(shr_tkfit_dedx_u_v*shr_tkfit_dedx_nhits_u_v+\\\n",
    "                             shr_tkfit_dedx_v_v*shr_tkfit_dedx_nhits_v_v+\\\n",
    "                             shr_tkfit_dedx_y_v*shr_tkfit_dedx_nhits_y_v)/\\\n",
    "                            (shr_tkfit_dedx_nhits_u_v+shr_tkfit_dedx_nhits_v_v+shr_tkfit_dedx_nhits_y_v)'\n",
    "    v[\"daughters\"]['shr_tkfit_4cm_dedx_wm_v']= v[\"daughters\"].eval(str_dedx_weighted_mean)\n",
    "    \n",
    "    ## for the first 2 cm\n",
    "    str_dedx_weighted_mean='(shr_tkfit_2cm_dedx_U*shr_tkfit_2cm_nhits_U+\\\n",
    "                             shr_tkfit_2cm_dedx_V*shr_tkfit_2cm_nhits_V+\\\n",
    "                             shr_tkfit_2cm_dedx_Y*shr_tkfit_2cm_nhits_Y)/\\\n",
    "                            (shr_tkfit_2cm_nhits_U+shr_tkfit_2cm_nhits_V+shr_tkfit_2cm_nhits_Y)'\n",
    "    v[\"daughters\"]['shr_tkfit_2cm_dedx_wm_v']= v[\"daughters\"].eval(str_dedx_weighted_mean)\n",
    "    \n",
    "    # Add the number of hits per length:\n",
    "    v[\"daughters\"].eval('hits_per_tklen_v = pfnhits/trk_len_v', inplace=True)\n",
    "    # Add the sum of shower subclusters:\n",
    "    v[\"daughters\"].eval('shr_tkfit_hitratio_v = shr_tkfit_nhits_v/pfnhits', inplace=True)\n",
    "    # Explore mcs muon momentum:\n",
    "    v[\"daughters\"].eval('trk_muon_hypothesis_ratio_v = trk_mcs_muon_mom_v/trk_range_muon_mom_v', inplace=True)\n",
    "    # Explore track energy:\n",
    "    v[\"daughters\"].eval(\"trk_proton_hypothesis_ratio_v = trk_calo_energy_y_v/trk_energy_proton_v\", inplace=True)\n",
    "\n",
    "    v['daughters'].drop(pop_cols, axis=1, inplace=True)\n",
    "    gc.collect"
   ]
  },
  {
   "cell_type": "code",
   "execution_count": 25,
   "metadata": {},
   "outputs": [
    {
     "data": {
      "text/plain": [
       "<matplotlib.legend.Legend at 0x7ffabdd58510>"
      ]
     },
     "execution_count": 25,
     "metadata": {},
     "output_type": "execute_result"
    },
    {
     "data": {
      "image/png": "[encoded data removed]",
      "text/plain": [
       "<Figure size 432x216 with 2 Axes>"
      ]
     },
     "metadata": {
      "needs_background": "light"
     },
     "output_type": "display_data"
    },
    {
     "data": {
      "application/javascript": [
       "\n",
       "            setTimeout(function() {\n",
       "                var nbb_cell_id = 25;\n",
       "                var nbb_formatted_code = \"e_q = \\\"backtracked_pdg==11 & backtracked_completeness>0.7 & trk_score_v <0.3 & shr_energy_y_v>100 & reco_fid_vol & shr_tkfit_dedx_nhits_y_v>0 & shr_tkfit_2cm_nhits_Y>0\\\"\\ng_q = \\\"backtracked_pdg==22 & backtracked_completeness>0.7 & trk_score_v <0.3 & shr_energy_y_v>100 & reco_fid_vol & shr_tkfit_dedx_nhits_y_v>0 & shr_tkfit_2cm_nhits_Y>0\\\"\\n\\nwm4_e = all_samples[\\\"nu\\\"][\\\"daughters\\\"].query(e_q)[\\\"shr_tkfit_4cm_dedx_wm_v\\\"]\\nwm4_g = all_samples[\\\"nu\\\"][\\\"daughters\\\"].query(g_q)[\\\"shr_tkfit_4cm_dedx_wm_v\\\"]\\nwm2_e = all_samples[\\\"nu\\\"][\\\"daughters\\\"].query(e_q)[\\\"shr_tkfit_2cm_dedx_wm_v\\\"]\\nwm2_g = all_samples[\\\"nu\\\"][\\\"daughters\\\"].query(g_q)[\\\"shr_tkfit_2cm_dedx_wm_v\\\"]\\ny4_e = all_samples[\\\"nu\\\"][\\\"daughters\\\"].query(e_q)[\\\"shr_tkfit_dedx_y_v\\\"]\\ny4_g = all_samples[\\\"nu\\\"][\\\"daughters\\\"].query(g_q)[\\\"shr_tkfit_dedx_y_v\\\"]\\ny2_e = all_samples[\\\"nu\\\"][\\\"daughters\\\"].query(e_q)[\\\"shr_tkfit_2cm_dedx_Y\\\"]\\ny2_g = all_samples[\\\"nu\\\"][\\\"daughters\\\"].query(g_q)[\\\"shr_tkfit_2cm_dedx_Y\\\"]\\ny_gap_e = all_samples[\\\"nu\\\"][\\\"daughters\\\"].query(e_q)[\\\"shr_tkfit_gap10_dedx_y_v\\\"]\\ny_gap_g = all_samples[\\\"nu\\\"][\\\"daughters\\\"].query(g_q)[\\\"shr_tkfit_gap10_dedx_y_v\\\"]\\n\\nfig, ax = plt.subplots(ncols=2, nrows=1, constrained_layout=True, figsize=(6, 3))\\nax[0].hist(\\n    [wm4_e, wm2_e, y4_e, y2_e, y_gap_e],\\n    label=[\\\"wm4_e\\\", \\\"wm2_e\\\", \\\"y4_e\\\", \\\"y2_e\\\", \\\"y_gap_e\\\"],\\n    range=(0, 6),\\n    bins=100,\\n    histtype=\\\"step\\\",\\n    density=1,\\n)\\nax[0].legend()\\n\\nax[1].hist(\\n    [wm4_g, wm2_g, y4_g, y2_g, y_gap_g],\\n    label=[\\\"wm4_g\\\", \\\"wm2_g\\\", \\\"y4_g\\\", \\\"y2_g\\\", \\\"y_gap_g\\\"],\\n    range=(0, 6),\\n    bins=100,\\n    histtype=\\\"step\\\",\\n    density=1,\\n)\\nax[1].legend()\";\n",
       "                var nbb_cells = Jupyter.notebook.get_cells();\n",
       "                for (var i = 0; i < nbb_cells.length; ++i) {\n",
       "                    if (nbb_cells[i].input_prompt_number == nbb_cell_id) {\n",
       "                        nbb_cells[i].set_text(nbb_formatted_code);\n",
       "                        break;\n",
       "                    }\n",
       "                }\n",
       "            }, 500);\n",
       "            "
      ],
      "text/plain": [
       "<IPython.core.display.Javascript object>"
      ]
     },
     "metadata": {},
     "output_type": "display_data"
    }
   ],
   "source": [
    "e_q = \"backtracked_pdg==11 & backtracked_completeness>0.7 & trk_score_v <0.3 & shr_energy_y_v>100 & reco_fid_vol & shr_tkfit_dedx_nhits_y_v>0 & shr_tkfit_2cm_nhits_Y>0\"\n",
    "g_q = \"backtracked_pdg==22 & backtracked_completeness>0.7 & trk_score_v <0.3 & shr_energy_y_v>100 & reco_fid_vol & shr_tkfit_dedx_nhits_y_v>0 & shr_tkfit_2cm_nhits_Y>0\"\n",
    "\n",
    "wm4_e = all_samples[\"nu\"][\"daughters\"].query(e_q)[\"shr_tkfit_4cm_dedx_wm_v\"]\n",
    "wm4_g = all_samples[\"nu\"][\"daughters\"].query(g_q)[\"shr_tkfit_4cm_dedx_wm_v\"]\n",
    "wm2_e = all_samples[\"nu\"][\"daughters\"].query(e_q)[\"shr_tkfit_2cm_dedx_wm_v\"]\n",
    "wm2_g = all_samples[\"nu\"][\"daughters\"].query(g_q)[\"shr_tkfit_2cm_dedx_wm_v\"]\n",
    "y4_e = all_samples[\"nu\"][\"daughters\"].query(e_q)[\"shr_tkfit_dedx_y_v\"]\n",
    "y4_g = all_samples[\"nu\"][\"daughters\"].query(g_q)[\"shr_tkfit_dedx_y_v\"]\n",
    "y2_e = all_samples[\"nu\"][\"daughters\"].query(e_q)[\"shr_tkfit_2cm_dedx_Y\"]\n",
    "y2_g = all_samples[\"nu\"][\"daughters\"].query(g_q)[\"shr_tkfit_2cm_dedx_Y\"]\n",
    "y_gap_e = all_samples[\"nu\"][\"daughters\"].query(e_q)[\"shr_tkfit_gap10_dedx_y_v\"]\n",
    "y_gap_g = all_samples[\"nu\"][\"daughters\"].query(g_q)[\"shr_tkfit_gap10_dedx_y_v\"]\n",
    "\n",
    "fig, ax = plt.subplots(ncols=2, nrows=1, constrained_layout=True, figsize=(6, 3))\n",
    "ax[0].hist(\n",
    "    [wm4_e, wm2_e, y4_e, y2_e, y_gap_e],\n",
    "    label=[\"wm4_e\", \"wm2_e\", \"y4_e\", \"y2_e\", \"y_gap_e\"],\n",
    "    range=(0, 6),\n",
    "    bins=100,\n",
    "    histtype=\"step\",\n",
    "    density=1,\n",
    ")\n",
    "ax[0].legend()\n",
    "\n",
    "ax[1].hist(\n",
    "    [wm4_g, wm2_g, y4_g, y2_g, y_gap_g],\n",
    "    label=[\"wm4_g\", \"wm2_g\", \"y4_g\", \"y2_g\", \"y_gap_g\"],\n",
    "    range=(0, 6),\n",
    "    bins=100,\n",
    "    histtype=\"step\",\n",
    "    density=1,\n",
    ")\n",
    "ax[1].legend()"
   ]
  },
  {
   "cell_type": "code",
   "execution_count": 26,
   "metadata": {
    "scrolled": false
   },
   "outputs": [
    {
     "name": "stderr",
     "output_type": "stream",
     "text": [
      "/home/wouter/Binaries/miniconda3/envs/uproot/lib/python3.7/site-packages/IPython/core/interactiveshell.py:3331: PerformanceWarning: indexing past lexsort depth may impact performance.\n",
      "  exec(code_obj, self.user_global_ns, self.user_ns)\n"
     ]
    },
    {
     "name": "stdout",
     "output_type": "stream",
     "text": [
      "Truth field event_scale is not in sample train\n",
      "CPU times: user 4.78 s, sys: 773 ms, total: 5.56 s\n",
      "Wall time: 5.58 s\n"
     ]
    },
    {
     "data": {
      "application/javascript": [
       "\n",
       "            setTimeout(function() {\n",
       "                var nbb_cell_id = 26;\n",
       "                var nbb_formatted_code = \"%%time\\n# For MC samples\\nfor k, v in all_samples.items():\\n    if k not in helper.data_samples:\\n        # Add distance between reco_sce and true vertex\\n        \\n        true_vtx = [v['mc'][f][v['mc']['n_pfps']>0] for f in [\\\"true_nu_vtx_x\\\",\\\"true_nu_vtx_y\\\",\\\"true_nu_vtx_z\\\"]]\\n        reco_vtx = v[\\\"daughters\\\"][[\\n                    \\\"reco_nu_vtx_sce_x\\\",\\n                    \\\"reco_nu_vtx_sce_y\\\",\\n                    \\\"reco_nu_vtx_sce_z\\\"]].xs(0, level=\\\"daughter\\\").values.T\\n        reco_vtx[0]-=x_sce_magic # Correct x location for the 0.6 sign error\\n        v[\\\"daughters\\\"][\\\"true_vtx_distance\\\"] = np.repeat(np.linalg.norm(true_vtx - reco_vtx, axis=0),v['mc']['n_pfps'][v['mc']['n_pfps']>0])\\n        \\n        # Add the modified purity/completeness to account for overlay.\\n        overlay_mask = v[\\\"daughters\\\"].eval('backtracked_overlay_purity>backtracked_purity')\\n        v[\\\"daughters\\\"].loc[overlay_mask, 'backtracked_pdg'] = 0\\n        v[\\\"daughters\\\"].loc[overlay_mask, 'backtracked_purity'] = v[\\\"daughters\\\"].loc[overlay_mask, 'backtracked_overlay_purity']\\n        v[\\\"daughters\\\"].loc[overlay_mask, 'backtracked_completeness'] = 0\\n        \\n        ## add truth fields:\\n        for true_f in add_mc_fields:\\n            if true_f in v['mc']:\\n                v['daughters'][true_f] = np.repeat(v['mc'][true_f],v['mc']['n_pfps'])\\n            else:\\n                print('Truth field {} is not in sample {}'.format(true_f,k))\\n            \\n        # add true fiducial colume:\\n        v[\\\"daughters\\\"][\\\"true_fid_vol\\\"] = np.repeat(\\n            helper.is_fid(\\n                v[\\\"mc\\\"][\\\"true_nu_vtx_x\\\"],\\n                v[\\\"mc\\\"][\\\"true_nu_vtx_y\\\"],\\n                v[\\\"mc\\\"][\\\"true_nu_vtx_z\\\"],\\n            ),\\n            v[\\\"mc\\\"][\\\"n_pfps\\\"],\\n        )\\n        \\n    else:\\n        v['daughters'][\\\"optical_filter\\\"]=True\";\n",
       "                var nbb_cells = Jupyter.notebook.get_cells();\n",
       "                for (var i = 0; i < nbb_cells.length; ++i) {\n",
       "                    if (nbb_cells[i].input_prompt_number == nbb_cell_id) {\n",
       "                        nbb_cells[i].set_text(nbb_formatted_code);\n",
       "                        break;\n",
       "                    }\n",
       "                }\n",
       "            }, 500);\n",
       "            "
      ],
      "text/plain": [
       "<IPython.core.display.Javascript object>"
      ]
     },
     "metadata": {},
     "output_type": "display_data"
    }
   ],
   "source": [
    "%%time\n",
    "# For MC samples\n",
    "for k, v in all_samples.items():\n",
    "    if k not in helper.data_samples:\n",
    "        # Add distance between reco_sce and true vertex\n",
    "        \n",
    "        true_vtx = [v['mc'][f][v['mc']['n_pfps']>0] for f in [\"true_nu_vtx_x\",\"true_nu_vtx_y\",\"true_nu_vtx_z\"]]\n",
    "        reco_vtx = v[\"daughters\"][[\n",
    "                    \"reco_nu_vtx_sce_x\",\n",
    "                    \"reco_nu_vtx_sce_y\",\n",
    "                    \"reco_nu_vtx_sce_z\"]].xs(0, level=\"daughter\").values.T\n",
    "        reco_vtx[0]-=x_sce_magic # Correct x location for the 0.6 sign error\n",
    "        v[\"daughters\"][\"true_vtx_distance\"] = np.repeat(np.linalg.norm(true_vtx - reco_vtx, axis=0),v['mc']['n_pfps'][v['mc']['n_pfps']>0])\n",
    "        \n",
    "        # Add the modified purity/completeness to account for overlay.\n",
    "        overlay_mask = v[\"daughters\"].eval('backtracked_overlay_purity>backtracked_purity')\n",
    "        v[\"daughters\"].loc[overlay_mask, 'backtracked_pdg'] = 0\n",
    "        v[\"daughters\"].loc[overlay_mask, 'backtracked_purity'] = v[\"daughters\"].loc[overlay_mask, 'backtracked_overlay_purity']\n",
    "        v[\"daughters\"].loc[overlay_mask, 'backtracked_completeness'] = 0\n",
    "        \n",
    "        ## add truth fields:\n",
    "        for true_f in add_mc_fields:\n",
    "            if true_f in v['mc']:\n",
    "                v['daughters'][true_f] = np.repeat(v['mc'][true_f],v['mc']['n_pfps'])\n",
    "            else:\n",
    "                print('Truth field {} is not in sample {}'.format(true_f,k))\n",
    "            \n",
    "        # add true fiducial colume:\n",
    "        v[\"daughters\"][\"true_fid_vol\"] = np.repeat(\n",
    "            helper.is_fid(\n",
    "                v[\"mc\"][\"true_nu_vtx_x\"],\n",
    "                v[\"mc\"][\"true_nu_vtx_y\"],\n",
    "                v[\"mc\"][\"true_nu_vtx_z\"],\n",
    "            ),\n",
    "            v[\"mc\"][\"n_pfps\"],\n",
    "        )\n",
    "        \n",
    "    else:\n",
    "        v['daughters'][\"optical_filter\"]=True"
   ]
  },
  {
   "cell_type": "code",
   "execution_count": 27,
   "metadata": {
    "scrolled": false
   },
   "outputs": [
    {
     "name": "stdout",
     "output_type": "stream",
     "text": [
      "CPU times: user 1.04 s, sys: 426 ms, total: 1.46 s\n",
      "Wall time: 1.47 s\n"
     ]
    },
    {
     "data": {
      "application/javascript": [
       "\n",
       "            setTimeout(function() {\n",
       "                var nbb_cell_id = 27;\n",
       "                var nbb_formatted_code = \"%%time\\n# Add training labels and weights\\ne_cand = train[\\\"daughters\\\"]['e_candidate']\\ne_good = train[\\\"daughters\\\"].eval('e_candidate & abs(backtracked_pdg)==11 & backtracked_purity>0.8 & backtracked_completeness>0.8 & true_vtx_distance<5')\\ne_cand_bad = train[\\\"daughters\\\"].eval('e_candidate & abs(backtracked_pdg)!=11') \\nother_bad = train[\\\"daughters\\\"].eval('~e_candidate & (abs(backtracked_pdg)==13 | backtracked_pdg==0)')\\nother_neutral = train[\\\"daughters\\\"].eval('~e_candidate & (backtracked_pdg==22 | abs(backtracked_pdg)==211)')\\ntrain[\\\"daughters\\\"]['train_weight'] = train[\\\"daughters\\\"].eval('weightSplineTimesTune+leeweight*@lee_focus') # weight low energy electrons a bit higher\\ntrain[\\\"daughters\\\"]['train_weight'] = train[\\\"daughters\\\"].eval('train_weight*(1+(shr_energy_y_v<600)*@lee_focus*e_candidate)') # weight low energy electrons a bit higher\\ntrain[\\\"daughters\\\"].loc[e_good, \\\"train_weight\\\"] *= 2 # can be tuned\\ntrain[\\\"daughters\\\"].loc[other_neutral, \\\"train_weight\\\"] = 1 # can be tuned\\n\\ntrain[\\\"daughters\\\"]['train_label'] = 1\\ntrain[\\\"daughters\\\"].loc[e_cand_bad, \\\"train_label\\\"] = 0\\ntrain[\\\"daughters\\\"].loc[other_bad, \\\"train_label\\\"] = 0\\ntrain[\\\"daughters\\\"].loc[other_neutral, \\\"train_label\\\"] = 0\";\n",
       "                var nbb_cells = Jupyter.notebook.get_cells();\n",
       "                for (var i = 0; i < nbb_cells.length; ++i) {\n",
       "                    if (nbb_cells[i].input_prompt_number == nbb_cell_id) {\n",
       "                        nbb_cells[i].set_text(nbb_formatted_code);\n",
       "                        break;\n",
       "                    }\n",
       "                }\n",
       "            }, 500);\n",
       "            "
      ],
      "text/plain": [
       "<IPython.core.display.Javascript object>"
      ]
     },
     "metadata": {},
     "output_type": "display_data"
    }
   ],
   "source": [
    "%%time\n",
    "# Add training labels and weights\n",
    "e_cand = train[\"daughters\"]['e_candidate']\n",
    "e_good = train[\"daughters\"].eval('e_candidate & abs(backtracked_pdg)==11 & backtracked_purity>0.8 & backtracked_completeness>0.8 & true_vtx_distance<5')\n",
    "e_cand_bad = train[\"daughters\"].eval('e_candidate & abs(backtracked_pdg)!=11') \n",
    "other_bad = train[\"daughters\"].eval('~e_candidate & (abs(backtracked_pdg)==13 | backtracked_pdg==0)')\n",
    "other_neutral = train[\"daughters\"].eval('~e_candidate & (backtracked_pdg==22 | abs(backtracked_pdg)==211)')\n",
    "train[\"daughters\"]['train_weight'] = train[\"daughters\"].eval('weightSplineTimesTune+leeweight*@lee_focus') # weight low energy electrons a bit higher\n",
    "train[\"daughters\"]['train_weight'] = train[\"daughters\"].eval('train_weight*(1+(shr_energy_y_v<600)*@lee_focus*e_candidate)') # weight low energy electrons a bit higher\n",
    "train[\"daughters\"].loc[e_good, \"train_weight\"] *= 2 # can be tuned\n",
    "train[\"daughters\"].loc[other_neutral, \"train_weight\"] = 1 # can be tuned\n",
    "\n",
    "train[\"daughters\"]['train_label'] = 1\n",
    "train[\"daughters\"].loc[e_cand_bad, \"train_label\"] = 0\n",
    "train[\"daughters\"].loc[other_bad, \"train_label\"] = 0\n",
    "train[\"daughters\"].loc[other_neutral, \"train_label\"] = 0"
   ]
  },
  {
   "cell_type": "code",
   "execution_count": 28,
   "metadata": {},
   "outputs": [
    {
     "data": {
      "text/plain": [
       "<function gc.collect(generation=2)>"
      ]
     },
     "execution_count": 28,
     "metadata": {},
     "output_type": "execute_result"
    },
    {
     "data": {
      "application/javascript": [
       "\n",
       "            setTimeout(function() {\n",
       "                var nbb_cell_id = 28;\n",
       "                var nbb_formatted_code = \"gc.collect\";\n",
       "                var nbb_cells = Jupyter.notebook.get_cells();\n",
       "                for (var i = 0; i < nbb_cells.length; ++i) {\n",
       "                    if (nbb_cells[i].input_prompt_number == nbb_cell_id) {\n",
       "                        nbb_cells[i].set_text(nbb_formatted_code);\n",
       "                        break;\n",
       "                    }\n",
       "                }\n",
       "            }, 500);\n",
       "            "
      ],
      "text/plain": [
       "<IPython.core.display.Javascript object>"
      ]
     },
     "metadata": {},
     "output_type": "display_data"
    }
   ],
   "source": [
    "gc.collect"
   ]
  },
  {
   "cell_type": "code",
   "execution_count": 29,
   "metadata": {},
   "outputs": [
    {
     "name": "stdout",
     "output_type": "stream",
     "text": [
      "data/MC: 1.008\n"
     ]
    },
    {
     "data": {
      "application/javascript": [
       "\n",
       "            setTimeout(function() {\n",
       "                var nbb_cell_id = 29;\n",
       "                var nbb_formatted_code = \"# What is the POT scaling before any cuts, after sliceID?\\npass_nu = (\\n    all_samples[\\\"nu\\\"][\\\"daughters\\\"]\\n    .xs(0, level=\\\"daughter\\\")\\n    .eval(\\\"weightSplineTimesTune*event_scale\\\")\\n    .sum()\\n) * pot_scale\\npass_dirt = (\\n    all_samples[\\\"dirt\\\"][\\\"daughters\\\"]\\n    .xs(0, level=\\\"daughter\\\")\\n    .eval(\\\"weightSplineTimesTune*event_scale\\\")\\n    .sum()\\n) * pot_scale\\npass_off = (\\n    len(all_samples[\\\"off\\\"][\\\"daughters\\\"].xs(0, level=\\\"daughter\\\"))\\n    * all_samples[\\\"off\\\"][\\\"scaling\\\"]\\n)\\npass_on = (\\n    len(all_samples[\\\"on\\\"][\\\"daughters\\\"].xs(0, level=\\\"daughter\\\"))\\n    * all_samples[\\\"on\\\"][\\\"scaling\\\"]\\n)\\nprint(\\\"data/MC: {:.3f}\\\".format((pass_on - pass_off) / (pass_nu + pass_dirt)))\";\n",
       "                var nbb_cells = Jupyter.notebook.get_cells();\n",
       "                for (var i = 0; i < nbb_cells.length; ++i) {\n",
       "                    if (nbb_cells[i].input_prompt_number == nbb_cell_id) {\n",
       "                        nbb_cells[i].set_text(nbb_formatted_code);\n",
       "                        break;\n",
       "                    }\n",
       "                }\n",
       "            }, 500);\n",
       "            "
      ],
      "text/plain": [
       "<IPython.core.display.Javascript object>"
      ]
     },
     "metadata": {},
     "output_type": "display_data"
    }
   ],
   "source": [
    "# What is the POT scaling before any cuts, after sliceID?\n",
    "pass_nu = (\n",
    "    all_samples[\"nu\"][\"daughters\"]\n",
    "    .xs(0, level=\"daughter\")\n",
    "    .eval(\"weightSplineTimesTune*event_scale\")\n",
    "    .sum()\n",
    ") * pot_scale\n",
    "pass_dirt = (\n",
    "    all_samples[\"dirt\"][\"daughters\"]\n",
    "    .xs(0, level=\"daughter\")\n",
    "    .eval(\"weightSplineTimesTune*event_scale\")\n",
    "    .sum()\n",
    ") * pot_scale\n",
    "pass_off = (\n",
    "    len(all_samples[\"off\"][\"daughters\"].xs(0, level=\"daughter\"))\n",
    "    * all_samples[\"off\"][\"scaling\"]\n",
    ")\n",
    "pass_on = (\n",
    "    len(all_samples[\"on\"][\"daughters\"].xs(0, level=\"daughter\"))\n",
    "    * all_samples[\"on\"][\"scaling\"]\n",
    ")\n",
    "print(\"data/MC: {:.3f}\".format((pass_on - pass_off) / (pass_nu + pass_dirt)))"
   ]
  },
  {
   "cell_type": "markdown",
   "metadata": {},
   "source": [
    "### Quality cuts / Pre-selection"
   ]
  },
  {
   "cell_type": "code",
   "execution_count": 30,
   "metadata": {
    "scrolled": false
   },
   "outputs": [
    {
     "name": "stdout",
     "output_type": "stream",
     "text": [
      "on pass rate\t0.23%\n",
      "off pass rate\t0.04%\n",
      "nu pass rate\t3.30%\n",
      "\tbnb\t36.49%\n",
      "dirt pass rate\t0.03%\n",
      "sideband pass rate\t17.51%\n",
      "train pass rate\t4.28%\n",
      "\tbnb\t37.39%\n",
      "\tlowe\t17.37%\n",
      "CPU times: user 2.53 s, sys: 47.6 ms, total: 2.58 s\n",
      "Wall time: 2.57 s\n"
     ]
    },
    {
     "data": {
      "application/javascript": [
       "\n",
       "            setTimeout(function() {\n",
       "                var nbb_cell_id = 30;\n",
       "                var nbb_formatted_code = \"%%time\\n# Passing rate pre-selection\\nfor k, v in all_samples.items():\\n    v[\\\"daughters\\\"][\\\"preselect\\\"] = v[\\\"daughters\\\"].eval(query_preselect)\\n    v[\\\"daughters\\\"][\\\"preselect\\\"] = v[\\\"daughters\\\"][\\\"preselect\\\"].groupby(grouper, sort=False).transform(max)\\n    \\n    pass_rate = v[\\\"daughters\\\"].eval(\\\"e_candidate & preselect\\\").sum()/v['numentries']\\n    print(\\\"{} pass rate\\\\t{:.2%}\\\".format(k,pass_rate))\\n    \\n    if k=='train':\\n        for kind, name in {83: 'bnb', 81: 'lowe'}.items():\\n            sig_mask = (v[\\\"mc\\\"]['sample']==kind) & v[\\\"mc\\\"]['nueccinc']\\n            total_sig = v[\\\"mc\\\"][\\\"weightSplineTimesTune\\\"][sig_mask].sum()\\n            pass_nuecc = v[\\\"daughters\\\"].query(\\\"e_candidate & preselect & sample==@kind & nueccinc\\\")['weightSplineTimesTune'].sum()/total_sig\\n            print(\\\"\\\\t{}\\\\t{:.2%}\\\".format(name,pass_nuecc))\\n    if k=='nu':\\n        total_sig = v[\\\"mc\\\"][\\\"weightSplineTimesTune\\\"][v[\\\"mc\\\"][\\\"nueccinc\\\"]].sum()\\n        pass_nuecc = v[\\\"daughters\\\"].query(\\\"e_candidate & preselect & nueccinc\\\")[\\\"weightSplineTimesTune\\\"].sum()/ total_sig\\n        print(\\\"\\\\t{}\\\\t{:.2%}\\\".format(\\\"bnb\\\", pass_nuecc))\";\n",
       "                var nbb_cells = Jupyter.notebook.get_cells();\n",
       "                for (var i = 0; i < nbb_cells.length; ++i) {\n",
       "                    if (nbb_cells[i].input_prompt_number == nbb_cell_id) {\n",
       "                        nbb_cells[i].set_text(nbb_formatted_code);\n",
       "                        break;\n",
       "                    }\n",
       "                }\n",
       "            }, 500);\n",
       "            "
      ],
      "text/plain": [
       "<IPython.core.display.Javascript object>"
      ]
     },
     "metadata": {},
     "output_type": "display_data"
    }
   ],
   "source": [
    "%%time\n",
    "# Passing rate pre-selection\n",
    "for k, v in all_samples.items():\n",
    "    v[\"daughters\"][\"preselect\"] = v[\"daughters\"].eval(query_preselect)\n",
    "    v[\"daughters\"][\"preselect\"] = v[\"daughters\"][\"preselect\"].groupby(grouper, sort=False).transform(max)\n",
    "    \n",
    "    pass_rate = v[\"daughters\"].eval(\"e_candidate & preselect\").sum()/v['numentries']\n",
    "    print(\"{} pass rate\\t{:.2%}\".format(k,pass_rate))\n",
    "    \n",
    "    if k=='train':\n",
    "        for kind, name in {83: 'bnb', 81: 'lowe'}.items():\n",
    "            sig_mask = (v[\"mc\"]['sample']==kind) & v[\"mc\"]['nueccinc']\n",
    "            total_sig = v[\"mc\"][\"weightSplineTimesTune\"][sig_mask].sum()\n",
    "            pass_nuecc = v[\"daughters\"].query(\"e_candidate & preselect & sample==@kind & nueccinc\")['weightSplineTimesTune'].sum()/total_sig\n",
    "            print(\"\\t{}\\t{:.2%}\".format(name,pass_nuecc))\n",
    "    if k=='nu':\n",
    "        total_sig = v[\"mc\"][\"weightSplineTimesTune\"][v[\"mc\"][\"nueccinc\"]].sum()\n",
    "        pass_nuecc = v[\"daughters\"].query(\"e_candidate & preselect & nueccinc\")[\"weightSplineTimesTune\"].sum()/ total_sig\n",
    "        print(\"\\t{}\\t{:.2%}\".format(\"bnb\", pass_nuecc))"
   ]
  },
  {
   "cell_type": "code",
   "execution_count": 31,
   "metadata": {},
   "outputs": [
    {
     "name": "stdout",
     "output_type": "stream",
     "text": [
      "nuecc-purity: 5.9%\n",
      "data/MC: 0.916\n"
     ]
    },
    {
     "data": {
      "application/javascript": [
       "\n",
       "            setTimeout(function() {\n",
       "                var nbb_cell_id = 31;\n",
       "                var nbb_formatted_code = \"# purity\\npass_nuecc = (\\n    all_samples[\\\"nu\\\"][\\\"daughters\\\"]\\n    .query(\\\"e_candidate & preselect & nueccinc\\\")\\n    .eval(\\\"weightSplineTimesTune*event_scale\\\")\\n    .sum()\\n) * pot_scale\\npass_nu = (\\n    all_samples[\\\"nu\\\"][\\\"daughters\\\"]\\n    .query(\\\"e_candidate & preselect\\\")\\n    .eval(\\\"weightSplineTimesTune*event_scale\\\")\\n    .sum()\\n) * pot_scale\\npass_dirt = (\\n    all_samples[\\\"dirt\\\"][\\\"daughters\\\"]\\n    .query(\\\"e_candidate & preselect\\\")\\n    .eval(\\\"weightSplineTimesTune*event_scale\\\")\\n    .sum()\\n) * pot_scale\\npass_off = (\\n    all_samples[\\\"off\\\"][\\\"daughters\\\"].eval(\\\"e_candidate & preselect\\\").sum()\\n    * all_samples[\\\"off\\\"][\\\"scaling\\\"]\\n)\\npass_on = all_samples[\\\"on\\\"][\\\"daughters\\\"].eval(\\\"e_candidate & preselect\\\").sum()\\n\\nprint(\\\"nuecc-purity: {:.1%}\\\".format(pass_nuecc / (pass_nu + pass_dirt + pass_off)))\\nprint(\\\"data/MC: {:.3f}\\\".format((pass_on - pass_off) / (pass_nu + pass_dirt)))\";\n",
       "                var nbb_cells = Jupyter.notebook.get_cells();\n",
       "                for (var i = 0; i < nbb_cells.length; ++i) {\n",
       "                    if (nbb_cells[i].input_prompt_number == nbb_cell_id) {\n",
       "                        nbb_cells[i].set_text(nbb_formatted_code);\n",
       "                        break;\n",
       "                    }\n",
       "                }\n",
       "            }, 500);\n",
       "            "
      ],
      "text/plain": [
       "<IPython.core.display.Javascript object>"
      ]
     },
     "metadata": {},
     "output_type": "display_data"
    }
   ],
   "source": [
    "# purity\n",
    "pass_nuecc = (\n",
    "    all_samples[\"nu\"][\"daughters\"]\n",
    "    .query(\"e_candidate & preselect & nueccinc\")\n",
    "    .eval(\"weightSplineTimesTune*event_scale\")\n",
    "    .sum()\n",
    ") * pot_scale\n",
    "pass_nu = (\n",
    "    all_samples[\"nu\"][\"daughters\"]\n",
    "    .query(\"e_candidate & preselect\")\n",
    "    .eval(\"weightSplineTimesTune*event_scale\")\n",
    "    .sum()\n",
    ") * pot_scale\n",
    "pass_dirt = (\n",
    "    all_samples[\"dirt\"][\"daughters\"]\n",
    "    .query(\"e_candidate & preselect\")\n",
    "    .eval(\"weightSplineTimesTune*event_scale\")\n",
    "    .sum()\n",
    ") * pot_scale\n",
    "pass_off = (\n",
    "    all_samples[\"off\"][\"daughters\"].eval(\"e_candidate & preselect\").sum()\n",
    "    * all_samples[\"off\"][\"scaling\"]\n",
    ")\n",
    "pass_on = all_samples[\"on\"][\"daughters\"].eval(\"e_candidate & preselect\").sum()\n",
    "\n",
    "print(\"nuecc-purity: {:.1%}\".format(pass_nuecc / (pass_nu + pass_dirt + pass_off)))\n",
    "print(\"data/MC: {:.3f}\".format((pass_on - pass_off) / (pass_nu + pass_dirt)))"
   ]
  },
  {
   "cell_type": "code",
   "execution_count": 32,
   "metadata": {},
   "outputs": [
    {
     "name": "stderr",
     "output_type": "stream",
     "text": [
      "/home/wouter/Binaries/miniconda3/envs/uproot/lib/python3.7/site-packages/ipykernel_launcher.py:20: RuntimeWarning: invalid value encountered in true_divide\n"
     ]
    },
    {
     "name": "stdout",
     "output_type": "stream",
     "text": [
      "CPU times: user 1.41 s, sys: 26.3 ms, total: 1.44 s\n",
      "Wall time: 1.44 s\n"
     ]
    },
    {
     "data": {
      "application/javascript": [
       "\n",
       "            setTimeout(function() {\n",
       "                var nbb_cell_id = 32;\n",
       "                var nbb_formatted_code = \"%%time\\nfor k, v in all_samples.items():\\n    e_pre_temp = v[\\\"daughters\\\"].query(\\\"e_candidate & preselect\\\")\\n    pre_temp = v[\\\"daughters\\\"].query(\\\"preselect\\\")\\n    dir_e_x = np.repeat(\\n        e_pre_temp.eval(\\\"trk_sce_end_x_v-trk_sce_start_x_v\\\"), e_pre_temp[\\\"n_pfps\\\"]\\n    ).values\\n    dir_e_y = np.repeat(\\n        e_pre_temp.eval(\\\"trk_sce_end_y_v-trk_sce_start_y_v\\\"), e_pre_temp[\\\"n_pfps\\\"]\\n    ).values\\n    dir_e_z = np.repeat(\\n        e_pre_temp.eval(\\\"trk_sce_end_z_v-trk_sce_start_z_v\\\"), e_pre_temp[\\\"n_pfps\\\"]\\n    ).values\\n    dir_d_x = pre_temp.eval(\\\"trk_sce_end_x_v-trk_sce_start_x_v\\\").values\\n    dir_d_y = pre_temp.eval(\\\"trk_sce_end_y_v-trk_sce_start_y_v\\\").values\\n    dir_d_z = pre_temp.eval(\\\"trk_sce_end_z_v-trk_sce_start_z_v\\\").values\\n\\n    e_vec = np.array([dir_e_x, dir_e_y, dir_e_z]).T\\n    d_vec = np.array([dir_d_x, dir_d_y, dir_d_z]).T\\n    cos_sim = (dir_e_x * dir_d_x + dir_e_y * dir_d_y + dir_e_z * dir_d_z) / (\\n        np.linalg.norm(d_vec, axis=1) * np.linalg.norm(e_vec, axis=1)\\n    )\\n    v[\\\"daughters\\\"][\\\"e_candidate_anglediff\\\"] = 0\\n    v[\\\"daughters\\\"].loc[v[\\\"daughters\\\"][\\\"preselect\\\"], \\\"e_candidate_anglediff\\\"] = cos_sim\";\n",
       "                var nbb_cells = Jupyter.notebook.get_cells();\n",
       "                for (var i = 0; i < nbb_cells.length; ++i) {\n",
       "                    if (nbb_cells[i].input_prompt_number == nbb_cell_id) {\n",
       "                        nbb_cells[i].set_text(nbb_formatted_code);\n",
       "                        break;\n",
       "                    }\n",
       "                }\n",
       "            }, 500);\n",
       "            "
      ],
      "text/plain": [
       "<IPython.core.display.Javascript object>"
      ]
     },
     "metadata": {},
     "output_type": "display_data"
    }
   ],
   "source": [
    "%%time\n",
    "for k, v in all_samples.items():\n",
    "    e_pre_temp = v[\"daughters\"].query(\"e_candidate & preselect\")\n",
    "    pre_temp = v[\"daughters\"].query(\"preselect\")\n",
    "    dir_e_x = np.repeat(\n",
    "        e_pre_temp.eval(\"trk_sce_end_x_v-trk_sce_start_x_v\"), e_pre_temp[\"n_pfps\"]\n",
    "    ).values\n",
    "    dir_e_y = np.repeat(\n",
    "        e_pre_temp.eval(\"trk_sce_end_y_v-trk_sce_start_y_v\"), e_pre_temp[\"n_pfps\"]\n",
    "    ).values\n",
    "    dir_e_z = np.repeat(\n",
    "        e_pre_temp.eval(\"trk_sce_end_z_v-trk_sce_start_z_v\"), e_pre_temp[\"n_pfps\"]\n",
    "    ).values\n",
    "    dir_d_x = pre_temp.eval(\"trk_sce_end_x_v-trk_sce_start_x_v\").values\n",
    "    dir_d_y = pre_temp.eval(\"trk_sce_end_y_v-trk_sce_start_y_v\").values\n",
    "    dir_d_z = pre_temp.eval(\"trk_sce_end_z_v-trk_sce_start_z_v\").values\n",
    "\n",
    "    e_vec = np.array([dir_e_x, dir_e_y, dir_e_z]).T\n",
    "    d_vec = np.array([dir_d_x, dir_d_y, dir_d_z]).T\n",
    "    cos_sim = (dir_e_x * dir_d_x + dir_e_y * dir_d_y + dir_e_z * dir_d_z) / (\n",
    "        np.linalg.norm(d_vec, axis=1) * np.linalg.norm(e_vec, axis=1)\n",
    "    )\n",
    "    v[\"daughters\"][\"e_candidate_anglediff\"] = 0\n",
    "    v[\"daughters\"].loc[v[\"daughters\"][\"preselect\"], \"e_candidate_anglediff\"] = cos_sim"
   ]
  },
  {
   "cell_type": "markdown",
   "metadata": {},
   "source": [
    "### Machine Learning Selection"
   ]
  },
  {
   "cell_type": "code",
   "execution_count": 33,
   "metadata": {},
   "outputs": [
    {
     "data": {
      "application/javascript": [
       "\n",
       "            setTimeout(function() {\n",
       "                var nbb_cell_id = 33;\n",
       "                var nbb_formatted_code = \"col_train_electron = [\\n    \\\"shr_dist_v\\\",\\n    \\\"shr_tkfit_4cm_dedx_wm_v\\\",\\n    \\\"shr_tkfit_dedx_y_v\\\",\\n    \\\"shr_tkfit_2cm_dedx_Y\\\",\\n    \\\"shr_tkfit_gap10_dedx_y_v\\\",\\n    \\\"shr_moliere_avg_v\\\",\\n    \\\"shr_tkfit_hitratio_v\\\",\\n    \\\"shr_subclusters_v\\\",\\n    \\\"secondshower_Y_nhit\\\",\\n]\\ncol_train_other = [\\n    \\\"trk_score_v\\\",\\n    \\\"trk_distance_v\\\",\\n    \\\"trk_llr_pid_score_v\\\",\\n    \\\"pfp_trk_daughters_v\\\",\\n    \\\"pfp_shr_daughters_v\\\",\\n    \\\"e_candidate_anglediff\\\",\\n    \\\"pfp_generation_v\\\",\\n    \\\"trk_muon_hypothesis_ratio_v\\\",\\n    \\\"trk_proton_hypothesis_ratio_v\\\",\\n]\\n\\ncol_train_event = [\\n    \\\"n_showers\\\",\\n    \\\"n_pfp_farvtx\\\",\\n    \\\"contained_fraction\\\",\\n    \\\"score\\\",\\n    \\\"score_other_max\\\",\\n    \\\"score_other_min\\\",\\n    \\\"score_other_mean\\\",\\n    ## nueccinc\\n    ## train_weight -> use the train weight of the electron candidate\\n]\";\n",
       "                var nbb_cells = Jupyter.notebook.get_cells();\n",
       "                for (var i = 0; i < nbb_cells.length; ++i) {\n",
       "                    if (nbb_cells[i].input_prompt_number == nbb_cell_id) {\n",
       "                        nbb_cells[i].set_text(nbb_formatted_code);\n",
       "                        break;\n",
       "                    }\n",
       "                }\n",
       "            }, 500);\n",
       "            "
      ],
      "text/plain": [
       "<IPython.core.display.Javascript object>"
      ]
     },
     "metadata": {},
     "output_type": "display_data"
    }
   ],
   "source": [
    "col_train_electron = [\n",
    "    \"shr_dist_v\",\n",
    "    \"shr_tkfit_4cm_dedx_wm_v\",\n",
    "    \"shr_tkfit_dedx_y_v\",\n",
    "    \"shr_tkfit_2cm_dedx_Y\",\n",
    "    \"shr_tkfit_gap10_dedx_y_v\",\n",
    "    \"shr_moliere_avg_v\",\n",
    "    \"shr_tkfit_hitratio_v\",\n",
    "    \"shr_subclusters_v\",\n",
    "    \"secondshower_Y_nhit\",\n",
    "]\n",
    "col_train_other = [\n",
    "    \"trk_score_v\",\n",
    "    \"trk_distance_v\",\n",
    "    \"trk_llr_pid_score_v\",\n",
    "    \"pfp_trk_daughters_v\",\n",
    "    \"pfp_shr_daughters_v\",\n",
    "    \"e_candidate_anglediff\",\n",
    "    \"pfp_generation_v\",\n",
    "    \"trk_muon_hypothesis_ratio_v\",\n",
    "    \"trk_proton_hypothesis_ratio_v\",\n",
    "]\n",
    "\n",
    "col_train_event = [\n",
    "    \"n_showers\",\n",
    "    \"n_pfp_farvtx\",\n",
    "    \"contained_fraction\",\n",
    "    \"score\",\n",
    "    \"score_other_max\",\n",
    "    \"score_other_min\",\n",
    "    \"score_other_mean\",\n",
    "    ## nueccinc\n",
    "    ## train_weight -> use the train weight of the electron candidate\n",
    "]"
   ]
  },
  {
   "cell_type": "code",
   "execution_count": 34,
   "metadata": {},
   "outputs": [
    {
     "name": "stdout",
     "output_type": "stream",
     "text": [
      "on\n",
      "off\n",
      "nu\n",
      "dirt\n",
      "sideband\n",
      "train\n",
      "CPU times: user 1.67 s, sys: 96.9 ms, total: 1.76 s\n",
      "Wall time: 1.77 s\n"
     ]
    },
    {
     "data": {
      "application/javascript": [
       "\n",
       "            setTimeout(function() {\n",
       "                var nbb_cell_id = 34;\n",
       "                var nbb_formatted_code = \"%%time\\n#remove completely crazy values\\nfor k, v in all_samples.items():\\n    print(k)\\n    for col in col_train_electron+col_train_other+col_train_event:\\n        if col in v['daughters'].keys():\\n            v['daughters'][col] = np.clip(np.nan_to_num(v['daughters'][col], nan=-5, posinf=1000, neginf=-100), -100, 1000)\";\n",
       "                var nbb_cells = Jupyter.notebook.get_cells();\n",
       "                for (var i = 0; i < nbb_cells.length; ++i) {\n",
       "                    if (nbb_cells[i].input_prompt_number == nbb_cell_id) {\n",
       "                        nbb_cells[i].set_text(nbb_formatted_code);\n",
       "                        break;\n",
       "                    }\n",
       "                }\n",
       "            }, 500);\n",
       "            "
      ],
      "text/plain": [
       "<IPython.core.display.Javascript object>"
      ]
     },
     "metadata": {},
     "output_type": "display_data"
    }
   ],
   "source": [
    "%%time\n",
    "#remove completely crazy values\n",
    "for k, v in all_samples.items():\n",
    "    print(k)\n",
    "    for col in col_train_electron+col_train_other+col_train_event:\n",
    "        if col in v['daughters'].keys():\n",
    "            v['daughters'][col] = np.clip(np.nan_to_num(v['daughters'][col], nan=-5, posinf=1000, neginf=-100), -100, 1000)"
   ]
  },
  {
   "cell_type": "markdown",
   "metadata": {},
   "source": [
    "#### Electron training"
   ]
  },
  {
   "cell_type": "code",
   "execution_count": 35,
   "metadata": {},
   "outputs": [
    {
     "data": {
      "application/javascript": [
       "\n",
       "            setTimeout(function() {\n",
       "                var nbb_cell_id = 35;\n",
       "                var nbb_formatted_code = \"train_q = \\\"preselect & e_candidate\\\"\\nX = train[\\\"daughters\\\"].query(train_q)[col_train_electron]\\nY = train[\\\"daughters\\\"].query(train_q)[[\\\"train_label\\\", \\\"train_weight\\\"]]\\nX_train, X_test, y_train, y_test = train_test_split(\\n    X, Y, test_size=test_size, random_state=seed\\n)\";\n",
       "                var nbb_cells = Jupyter.notebook.get_cells();\n",
       "                for (var i = 0; i < nbb_cells.length; ++i) {\n",
       "                    if (nbb_cells[i].input_prompt_number == nbb_cell_id) {\n",
       "                        nbb_cells[i].set_text(nbb_formatted_code);\n",
       "                        break;\n",
       "                    }\n",
       "                }\n",
       "            }, 500);\n",
       "            "
      ],
      "text/plain": [
       "<IPython.core.display.Javascript object>"
      ]
     },
     "metadata": {},
     "output_type": "display_data"
    }
   ],
   "source": [
    "train_q = \"preselect & e_candidate\"\n",
    "X = train[\"daughters\"].query(train_q)[col_train_electron]\n",
    "Y = train[\"daughters\"].query(train_q)[[\"train_label\", \"train_weight\"]]\n",
    "X_train, X_test, y_train, y_test = train_test_split(\n",
    "    X, Y, test_size=test_size, random_state=seed\n",
    ")"
   ]
  },
  {
   "cell_type": "code",
   "execution_count": 36,
   "metadata": {},
   "outputs": [
    {
     "data": {
      "application/javascript": [
       "\n",
       "            setTimeout(function() {\n",
       "                var nbb_cell_id = 36;\n",
       "                var nbb_formatted_code = \"# fit model no training data\\ndepth = 5\\nif retrain:\\n    model_e = XGBClassifier(max_depth=depth)\\n    eval_set = [(X_train, y_train[\\\"train_label\\\"]), (X_test, y_test[\\\"train_label\\\"])]\\n    model_e.fit(\\n        X_train,\\n        y_train[\\\"train_label\\\"],\\n        sample_weight=y_train[\\\"train_weight\\\"],\\n        eval_metric=[\\\"error\\\", \\\"logloss\\\"],\\n        eval_set=eval_set,\\n        verbose=False,\\n    )\\n    dump(model_e, model_dir + \\\"model_e.pckl\\\")\\nelse:\\n    model_e = load(model_dir + \\\"model_e.pckl\\\")\";\n",
       "                var nbb_cells = Jupyter.notebook.get_cells();\n",
       "                for (var i = 0; i < nbb_cells.length; ++i) {\n",
       "                    if (nbb_cells[i].input_prompt_number == nbb_cell_id) {\n",
       "                        nbb_cells[i].set_text(nbb_formatted_code);\n",
       "                        break;\n",
       "                    }\n",
       "                }\n",
       "            }, 500);\n",
       "            "
      ],
      "text/plain": [
       "<IPython.core.display.Javascript object>"
      ]
     },
     "metadata": {},
     "output_type": "display_data"
    }
   ],
   "source": [
    "# fit model no training data\n",
    "depth = 5\n",
    "if retrain:\n",
    "    model_e = XGBClassifier(max_depth=depth)\n",
    "    eval_set = [(X_train, y_train[\"train_label\"]), (X_test, y_test[\"train_label\"])]\n",
    "    model_e.fit(\n",
    "        X_train,\n",
    "        y_train[\"train_label\"],\n",
    "        sample_weight=y_train[\"train_weight\"],\n",
    "        eval_metric=[\"error\", \"logloss\"],\n",
    "        eval_set=eval_set,\n",
    "        verbose=False,\n",
    "    )\n",
    "    dump(model_e, model_dir + \"model_e.pckl\")\n",
    "else:\n",
    "    model_e = load(model_dir + \"model_e.pckl\")"
   ]
  },
  {
   "cell_type": "code",
   "execution_count": 37,
   "metadata": {},
   "outputs": [
    {
     "name": "stdout",
     "output_type": "stream",
     "text": [
      "              precision    recall  f1-score   support\n",
      "\n",
      "    electron       0.87      0.77      0.81     18284\n",
      "non_electron       0.68      0.81      0.74     11097\n",
      "\n",
      "    accuracy                           0.78     29381\n",
      "   macro avg       0.77      0.79      0.78     29381\n",
      "weighted avg       0.80      0.78      0.78     29381\n",
      "\n",
      "Test accuracy: 78.21%\n",
      "Train accuracy: 79.55%\n",
      "\n",
      "1. feature shr_dist_v (0.406786)\n",
      "2. feature shr_moliere_avg_v (0.115516)\n",
      "3. feature shr_tkfit_dedx_y_v (0.103206)\n",
      "4. feature shr_tkfit_2cm_dedx_Y (0.088309)\n",
      "5. feature shr_tkfit_4cm_dedx_wm_v (0.080856)\n",
      "6. feature shr_tkfit_gap10_dedx_y_v (0.078377)\n",
      "7. feature shr_subclusters_v (0.048331)\n",
      "8. feature secondshower_Y_nhit (0.046542)\n",
      "9. feature shr_tkfit_hitratio_v (0.032077)\n"
     ]
    },
    {
     "data": {
      "application/javascript": [
       "\n",
       "            setTimeout(function() {\n",
       "                var nbb_cell_id = 37;\n",
       "                var nbb_formatted_code = \"# make predictions for test data\\ny_pred = model_e.predict(X_test)\\ntarget_names = [\\\"electron\\\", \\\"non_electron\\\"]\\nprint(classification_report(y_test[\\\"train_label\\\"], y_pred, target_names=target_names))\\npredictions = [round(value) for value in y_pred]\\n\\n# evaluate predictions\\naccuracy = accuracy_score(y_test[\\\"train_label\\\"], predictions)\\nprint(\\\"Test accuracy: %.2f%%\\\" % (accuracy * 100.0))\\n\\n\\n# make predictions for test data\\ny_pred_train = model_e.predict(X_train)\\npredictions = [round(value) for value in y_pred_train]\\n# evaluate predictions\\naccuracy = accuracy_score(y_train[\\\"train_label\\\"], predictions)\\nprint(\\\"Train accuracy: %.2f%%\\\\n\\\" % (accuracy * 100.0))\\n\\nimportances = model_e.feature_importances_\\nsort = np.argsort(-importances)\\n\\nfor i, (n, im) in enumerate(zip(np.array(col_train_electron)[sort], importances[sort])):\\n    print(\\\"%d. feature %s (%f)\\\" % (i + 1, n, im))\";\n",
       "                var nbb_cells = Jupyter.notebook.get_cells();\n",
       "                for (var i = 0; i < nbb_cells.length; ++i) {\n",
       "                    if (nbb_cells[i].input_prompt_number == nbb_cell_id) {\n",
       "                        nbb_cells[i].set_text(nbb_formatted_code);\n",
       "                        break;\n",
       "                    }\n",
       "                }\n",
       "            }, 500);\n",
       "            "
      ],
      "text/plain": [
       "<IPython.core.display.Javascript object>"
      ]
     },
     "metadata": {},
     "output_type": "display_data"
    }
   ],
   "source": [
    "# make predictions for test data\n",
    "y_pred = model_e.predict(X_test)\n",
    "target_names = [\"electron\", \"non_electron\"]\n",
    "print(classification_report(y_test[\"train_label\"], y_pred, target_names=target_names))\n",
    "predictions = [round(value) for value in y_pred]\n",
    "\n",
    "# evaluate predictions\n",
    "accuracy = accuracy_score(y_test[\"train_label\"], predictions)\n",
    "print(\"Test accuracy: %.2f%%\" % (accuracy * 100.0))\n",
    "\n",
    "\n",
    "# make predictions for test data\n",
    "y_pred_train = model_e.predict(X_train)\n",
    "predictions = [round(value) for value in y_pred_train]\n",
    "# evaluate predictions\n",
    "accuracy = accuracy_score(y_train[\"train_label\"], predictions)\n",
    "print(\"Train accuracy: %.2f%%\\n\" % (accuracy * 100.0))\n",
    "\n",
    "importances = model_e.feature_importances_\n",
    "sort = np.argsort(-importances)\n",
    "\n",
    "for i, (n, im) in enumerate(zip(np.array(col_train_electron)[sort], importances[sort])):\n",
    "    print(\"%d. feature %s (%f)\" % (i + 1, n, im))"
   ]
  },
  {
   "cell_type": "code",
   "execution_count": 38,
   "metadata": {},
   "outputs": [
    {
     "data": {
      "application/javascript": [
       "\n",
       "            setTimeout(function() {\n",
       "                var nbb_cell_id = 38;\n",
       "                var nbb_formatted_code = \"if train_ana:\\n    param_range = range(1, 8)\\n    train_scores, test_scores = validation_curve(\\n        XGBClassifier(),\\n        X_train,\\n        y_train[\\\"train_label\\\"],\\n        param_name=\\\"max_depth\\\",\\n        param_range=param_range,\\n        scoring=\\\"accuracy\\\",\\n        n_jobs=2,\\n    )\";\n",
       "                var nbb_cells = Jupyter.notebook.get_cells();\n",
       "                for (var i = 0; i < nbb_cells.length; ++i) {\n",
       "                    if (nbb_cells[i].input_prompt_number == nbb_cell_id) {\n",
       "                        nbb_cells[i].set_text(nbb_formatted_code);\n",
       "                        break;\n",
       "                    }\n",
       "                }\n",
       "            }, 500);\n",
       "            "
      ],
      "text/plain": [
       "<IPython.core.display.Javascript object>"
      ]
     },
     "metadata": {},
     "output_type": "display_data"
    }
   ],
   "source": [
    "if train_ana:\n",
    "    param_range = range(1, 8)\n",
    "    train_scores, test_scores = validation_curve(\n",
    "        XGBClassifier(),\n",
    "        X_train,\n",
    "        y_train[\"train_label\"],\n",
    "        param_name=\"max_depth\",\n",
    "        param_range=param_range,\n",
    "        scoring=\"accuracy\",\n",
    "        n_jobs=2,\n",
    "    )"
   ]
  },
  {
   "cell_type": "code",
   "execution_count": 39,
   "metadata": {},
   "outputs": [
    {
     "data": {
      "image/png": "[encoded data removed]",
      "text/plain": [
       "<Figure size 931.968x252 with 4 Axes>"
      ]
     },
     "metadata": {
      "needs_background": "light"
     },
     "output_type": "display_data"
    },
    {
     "data": {
      "application/javascript": [
       "\n",
       "            setTimeout(function() {\n",
       "                var nbb_cell_id = 39;\n",
       "                var nbb_formatted_code = \"fig, ax = plt.subplots(ncols=4, figsize=(8 * 1.618, 3.5), constrained_layout=True)\\n\\ny_pred = model_e.predict_proba(X_test).T[0]\\ny_pred_train = model_e.predict_proba(X_train).T[0]\\nfpr, tpr, _ = roc_curve(y_test[\\\"train_label\\\"], y_pred)\\nfpr_train, tpr_train, _ = roc_curve(y_train[\\\"train_label\\\"], y_pred_train)\\nroc_auc = auc(tpr, fpr)\\nroc_auc_train = auc(tpr_train, fpr_train)\\n\\nax[0].hist(\\n    y_pred[y_test[\\\"train_label\\\"] == 0],\\n    alpha=0.5,\\n    bins=50,\\n    range=(0, 1),\\n    label=r\\\"Electron showers\\\",\\n    density=False,\\n)\\nax[0].hist(\\n    y_pred[y_test[\\\"train_label\\\"] == 1],\\n    alpha=0.5,\\n    bins=50,\\n    range=(0, 1),\\n    label=\\\"Background showers\\\",\\n    density=False,\\n)\\nax[0].legend(loc=\\\"upper left\\\")\\nax[0].set_xlim(0, 1)\\nax[0].set_xlabel(\\\"Electron identification\\\")\\nax[0].set_ylabel(\\\"Entries per bin\\\")\\nax[0].set_title(\\\"XGBoost: Electron PID\\\")\\n\\n\\nax[1].plot(tpr, fpr, label=\\\"Test data (area = %0.3f)\\\" % roc_auc)\\nax[1].plot(tpr_train, fpr_train, label=\\\"Train data (area = %0.3f)\\\" % roc_auc_train)\\nax[1].plot([0, 1], [0, 1], linestyle=\\\"--\\\")\\nax[1].set_xlim([0.0, 1.0])\\nax[1].set_ylim([0.0, 1.0])\\nax[1].set_xlabel(\\\"False Positive Rate\\\")\\nax[1].set_ylabel(\\\"True Positive Rate\\\")\\nax[1].set_title(\\\"ROC curve\\\")\\nax[1].legend(loc=\\\"lower right\\\")\\n\\n\\n# retrieve performance metrics\\nresults = model_e.evals_result()\\nepochs = len(results[\\\"validation_0\\\"][\\\"error\\\"])\\nx_axis = range(0, epochs)\\n# plot log loss\\nax[2].plot(x_axis, results[\\\"validation_1\\\"][\\\"logloss\\\"], label=\\\"Test data\\\")\\nax[2].plot(x_axis, results[\\\"validation_0\\\"][\\\"logloss\\\"], label=\\\"Train data\\\")\\nax[2].legend()\\nax[2].set_ylabel(\\\"Binary logistic loss\\\")\\nax[2].set_xlabel(\\\"Training epoch\\\")\\nax[2].set_title(\\\"XGBoost logistic loss\\\")\\n\\nif train_ana:\\n    train_scores_mean = np.mean(train_scores, axis=1)\\n    train_scores_std = np.std(train_scores, axis=1)\\n    test_scores_mean = np.mean(test_scores, axis=1)\\n    test_scores_std = np.std(test_scores, axis=1)\\n\\n    ax[3].set_title(\\\"Validation Curve\\\")\\n    ax[3].set_xlabel(r\\\"Tree depth\\\")\\n    ax[3].set_ylabel(\\\"Accuracy\\\")\\n    ax[3].set_ylim(0.84, 0.92)\\n    ax[3].plot(param_range, test_scores_mean, label=\\\"Testing accuracy\\\")\\n    ax[3].fill_between(\\n        param_range,\\n        test_scores_mean - test_scores_std,\\n        test_scores_mean + test_scores_std,\\n        alpha=0.2,\\n    )\\n    ax[3].plot(param_range, train_scores_mean, label=\\\"Training accuracy\\\")\\n    ax[3].fill_between(\\n        param_range,\\n        train_scores_mean - train_scores_std,\\n        train_scores_mean + train_scores_std,\\n        alpha=0.2,\\n    )\\n    ax[3].axvline(x=depth, label=\\\"Training depth\\\", color=\\\"C2\\\", alpha=0.5)\\n    ax[3].legend(loc=\\\"upper left\\\")\\n    ax[3].set_xticks(param_range)\\n\\nfig.savefig(output_dir + \\\"training/e_bdt_test.pdf\\\")\";\n",
       "                var nbb_cells = Jupyter.notebook.get_cells();\n",
       "                for (var i = 0; i < nbb_cells.length; ++i) {\n",
       "                    if (nbb_cells[i].input_prompt_number == nbb_cell_id) {\n",
       "                        nbb_cells[i].set_text(nbb_formatted_code);\n",
       "                        break;\n",
       "                    }\n",
       "                }\n",
       "            }, 500);\n",
       "            "
      ],
      "text/plain": [
       "<IPython.core.display.Javascript object>"
      ]
     },
     "metadata": {},
     "output_type": "display_data"
    }
   ],
   "source": [
    "fig, ax = plt.subplots(ncols=4, figsize=(8 * 1.618, 3.5), constrained_layout=True)\n",
    "\n",
    "y_pred = model_e.predict_proba(X_test).T[0]\n",
    "y_pred_train = model_e.predict_proba(X_train).T[0]\n",
    "fpr, tpr, _ = roc_curve(y_test[\"train_label\"], y_pred)\n",
    "fpr_train, tpr_train, _ = roc_curve(y_train[\"train_label\"], y_pred_train)\n",
    "roc_auc = auc(tpr, fpr)\n",
    "roc_auc_train = auc(tpr_train, fpr_train)\n",
    "\n",
    "ax[0].hist(\n",
    "    y_pred[y_test[\"train_label\"] == 0],\n",
    "    alpha=0.5,\n",
    "    bins=50,\n",
    "    range=(0, 1),\n",
    "    label=r\"Electron showers\",\n",
    "    density=False,\n",
    ")\n",
    "ax[0].hist(\n",
    "    y_pred[y_test[\"train_label\"] == 1],\n",
    "    alpha=0.5,\n",
    "    bins=50,\n",
    "    range=(0, 1),\n",
    "    label=\"Background showers\",\n",
    "    density=False,\n",
    ")\n",
    "ax[0].legend(loc=\"upper left\")\n",
    "ax[0].set_xlim(0, 1)\n",
    "ax[0].set_xlabel(\"Electron identification\")\n",
    "ax[0].set_ylabel(\"Entries per bin\")\n",
    "ax[0].set_title(\"XGBoost: Electron PID\")\n",
    "\n",
    "\n",
    "ax[1].plot(tpr, fpr, label=\"Test data (area = %0.3f)\" % roc_auc)\n",
    "ax[1].plot(tpr_train, fpr_train, label=\"Train data (area = %0.3f)\" % roc_auc_train)\n",
    "ax[1].plot([0, 1], [0, 1], linestyle=\"--\")\n",
    "ax[1].set_xlim([0.0, 1.0])\n",
    "ax[1].set_ylim([0.0, 1.0])\n",
    "ax[1].set_xlabel(\"False Positive Rate\")\n",
    "ax[1].set_ylabel(\"True Positive Rate\")\n",
    "ax[1].set_title(\"ROC curve\")\n",
    "ax[1].legend(loc=\"lower right\")\n",
    "\n",
    "\n",
    "# retrieve performance metrics\n",
    "results = model_e.evals_result()\n",
    "epochs = len(results[\"validation_0\"][\"error\"])\n",
    "x_axis = range(0, epochs)\n",
    "# plot log loss\n",
    "ax[2].plot(x_axis, results[\"validation_1\"][\"logloss\"], label=\"Test data\")\n",
    "ax[2].plot(x_axis, results[\"validation_0\"][\"logloss\"], label=\"Train data\")\n",
    "ax[2].legend()\n",
    "ax[2].set_ylabel(\"Binary logistic loss\")\n",
    "ax[2].set_xlabel(\"Training epoch\")\n",
    "ax[2].set_title(\"XGBoost logistic loss\")\n",
    "\n",
    "if train_ana:\n",
    "    train_scores_mean = np.mean(train_scores, axis=1)\n",
    "    train_scores_std = np.std(train_scores, axis=1)\n",
    "    test_scores_mean = np.mean(test_scores, axis=1)\n",
    "    test_scores_std = np.std(test_scores, axis=1)\n",
    "\n",
    "    ax[3].set_title(\"Validation Curve\")\n",
    "    ax[3].set_xlabel(r\"Tree depth\")\n",
    "    ax[3].set_ylabel(\"Accuracy\")\n",
    "    ax[3].set_ylim(0.75, 0.9)\n",
    "    ax[3].plot(param_range, test_scores_mean, label=\"Testing accuracy\")\n",
    "    ax[3].fill_between(\n",
    "        param_range,\n",
    "        test_scores_mean - test_scores_std,\n",
    "        test_scores_mean + test_scores_std,\n",
    "        alpha=0.2,\n",
    "    )\n",
    "    ax[3].plot(param_range, train_scores_mean, label=\"Training accuracy\")\n",
    "    ax[3].fill_between(\n",
    "        param_range,\n",
    "        train_scores_mean - train_scores_std,\n",
    "        train_scores_mean + train_scores_std,\n",
    "        alpha=0.2,\n",
    "    )\n",
    "    ax[3].axvline(x=depth, label=\"Training depth\", color=\"C2\", alpha=0.5)\n",
    "    ax[3].legend(loc=\"upper left\")\n",
    "    ax[3].set_xticks(param_range)\n",
    "\n",
    "fig.savefig(output_dir + \"training/e_bdt_test.pdf\")"
   ]
  },
  {
   "cell_type": "markdown",
   "metadata": {},
   "source": [
    "#### Other daughters training"
   ]
  },
  {
   "cell_type": "code",
   "execution_count": 40,
   "metadata": {},
   "outputs": [
    {
     "data": {
      "application/javascript": [
       "\n",
       "            setTimeout(function() {\n",
       "                var nbb_cell_id = 40;\n",
       "                var nbb_formatted_code = \"train_q = \\\"preselect & ~e_candidate\\\"\\nfor k in [\\\"train\\\"]:\\n    X = train[\\\"daughters\\\"].query(train_q)[col_train_other]\\n    Y = train[\\\"daughters\\\"].query(train_q)[[\\\"train_label\\\", \\\"train_weight\\\"]]\\n    X_train, X_test, y_train, y_test = train_test_split(\\n        X, Y, test_size=test_size, random_state=seed\\n    )\";\n",
       "                var nbb_cells = Jupyter.notebook.get_cells();\n",
       "                for (var i = 0; i < nbb_cells.length; ++i) {\n",
       "                    if (nbb_cells[i].input_prompt_number == nbb_cell_id) {\n",
       "                        nbb_cells[i].set_text(nbb_formatted_code);\n",
       "                        break;\n",
       "                    }\n",
       "                }\n",
       "            }, 500);\n",
       "            "
      ],
      "text/plain": [
       "<IPython.core.display.Javascript object>"
      ]
     },
     "metadata": {},
     "output_type": "display_data"
    }
   ],
   "source": [
    "train_q = \"preselect & ~e_candidate\"\n",
    "for k in [\"train\"]:\n",
    "    X = train[\"daughters\"].query(train_q)[col_train_other]\n",
    "    Y = train[\"daughters\"].query(train_q)[[\"train_label\", \"train_weight\"]]\n",
    "    X_train, X_test, y_train, y_test = train_test_split(\n",
    "        X, Y, test_size=test_size, random_state=seed\n",
    "    )"
   ]
  },
  {
   "cell_type": "code",
   "execution_count": 41,
   "metadata": {},
   "outputs": [
    {
     "data": {
      "application/javascript": [
       "\n",
       "            setTimeout(function() {\n",
       "                var nbb_cell_id = 41;\n",
       "                var nbb_formatted_code = \"# fit model on training data\\ndepth = 6\\nif retrain:\\n    model_d = XGBClassifier(max_depth=depth, objective=\\\"binary:logistic\\\")\\n    eval_set = [(X_train, y_train[\\\"train_label\\\"]), (X_test, y_test[\\\"train_label\\\"])]\\n    model_d.fit(\\n        X_train,\\n        y_train[\\\"train_label\\\"],\\n        sample_weight=y_train[\\\"train_weight\\\"],\\n        eval_metric=[\\\"error\\\", \\\"logloss\\\"],\\n        eval_set=eval_set,\\n        verbose=False,\\n    )\\n    dump(model_d, model_dir + \\\"model_d.pckl\\\")\\nelse:\\n    model_d = load(model_dir + \\\"model_d.pckl\\\")\";\n",
       "                var nbb_cells = Jupyter.notebook.get_cells();\n",
       "                for (var i = 0; i < nbb_cells.length; ++i) {\n",
       "                    if (nbb_cells[i].input_prompt_number == nbb_cell_id) {\n",
       "                        nbb_cells[i].set_text(nbb_formatted_code);\n",
       "                        break;\n",
       "                    }\n",
       "                }\n",
       "            }, 500);\n",
       "            "
      ],
      "text/plain": [
       "<IPython.core.display.Javascript object>"
      ]
     },
     "metadata": {},
     "output_type": "display_data"
    }
   ],
   "source": [
    "# fit model on training data\n",
    "depth = 6\n",
    "if retrain:\n",
    "    model_d = XGBClassifier(max_depth=depth, objective=\"binary:logistic\")\n",
    "    eval_set = [(X_train, y_train[\"train_label\"]), (X_test, y_test[\"train_label\"])]\n",
    "    model_d.fit(\n",
    "        X_train,\n",
    "        y_train[\"train_label\"],\n",
    "        sample_weight=y_train[\"train_weight\"],\n",
    "        eval_metric=[\"error\", \"logloss\"],\n",
    "        eval_set=eval_set,\n",
    "        verbose=False,\n",
    "    )\n",
    "    dump(model_d, model_dir + \"model_d.pckl\")\n",
    "else:\n",
    "    model_d = load(model_dir + \"model_d.pckl\")"
   ]
  },
  {
   "cell_type": "code",
   "execution_count": 42,
   "metadata": {},
   "outputs": [
    {
     "name": "stdout",
     "output_type": "stream",
     "text": [
      "                       precision    recall  f1-score   support\n",
      "\n",
      "    proton, pion, ...       0.85      0.82      0.83     39162\n",
      "muon, overlay, photon       0.75      0.79      0.77     26766\n",
      "\n",
      "             accuracy                           0.81     65928\n",
      "            macro avg       0.80      0.80      0.80     65928\n",
      "         weighted avg       0.81      0.81      0.81     65928\n",
      "\n",
      "Test accuracy: 80.65%\n",
      "Train accuracy: 81.40%\n",
      "\n",
      "1. feature trk_llr_pid_score_v (0.382910)\n",
      "2. feature trk_distance_v (0.201966)\n",
      "3. feature e_candidate_anglediff (0.081999)\n",
      "4. feature trk_proton_hypothesis_ratio_v (0.071988)\n",
      "5. feature trk_score_v (0.068836)\n",
      "6. feature trk_muon_hypothesis_ratio_v (0.067883)\n",
      "7. feature pfp_shr_daughters_v (0.050025)\n",
      "8. feature pfp_generation_v (0.037862)\n",
      "9. feature pfp_trk_daughters_v (0.036532)\n"
     ]
    },
    {
     "data": {
      "application/javascript": [
       "\n",
       "            setTimeout(function() {\n",
       "                var nbb_cell_id = 42;\n",
       "                var nbb_formatted_code = \"# make predictions for test data\\ny_pred = model_d.predict(X_test)\\ntarget_names = [\\\"proton, pion, ...\\\", \\\"muon, overlay, photon\\\"]\\nprint(classification_report(y_test[\\\"train_label\\\"], y_pred, target_names=target_names))\\npredictions = [round(value) for value in y_pred]\\n\\n# evaluate predictions\\naccuracy = accuracy_score(y_test[\\\"train_label\\\"], predictions)\\nprint(\\\"Test accuracy: %.2f%%\\\" % (accuracy * 100.0))\\n\\n\\n# make predictions for test data\\ny_pred_train = model_d.predict(X_train)\\npredictions = [round(value) for value in y_pred_train]\\n# evaluate predictions\\naccuracy = accuracy_score(y_train[\\\"train_label\\\"], predictions)\\nprint(\\\"Train accuracy: %.2f%%\\\\n\\\" % (accuracy * 100.0))\\n\\nimportances = model_d.feature_importances_\\nsort = np.argsort(-importances)\\n\\nfor i, (n, im) in enumerate(zip(np.array(col_train_other)[sort], importances[sort])):\\n    print(\\\"%d. feature %s (%f)\\\" % (i + 1, n, im))\";\n",
       "                var nbb_cells = Jupyter.notebook.get_cells();\n",
       "                for (var i = 0; i < nbb_cells.length; ++i) {\n",
       "                    if (nbb_cells[i].input_prompt_number == nbb_cell_id) {\n",
       "                        nbb_cells[i].set_text(nbb_formatted_code);\n",
       "                        break;\n",
       "                    }\n",
       "                }\n",
       "            }, 500);\n",
       "            "
      ],
      "text/plain": [
       "<IPython.core.display.Javascript object>"
      ]
     },
     "metadata": {},
     "output_type": "display_data"
    }
   ],
   "source": [
    "# make predictions for test data\n",
    "y_pred = model_d.predict(X_test)\n",
    "target_names = [\"proton, pion, ...\", \"muon, overlay, photon\"]\n",
    "print(classification_report(y_test[\"train_label\"], y_pred, target_names=target_names))\n",
    "predictions = [round(value) for value in y_pred]\n",
    "\n",
    "# evaluate predictions\n",
    "accuracy = accuracy_score(y_test[\"train_label\"], predictions)\n",
    "print(\"Test accuracy: %.2f%%\" % (accuracy * 100.0))\n",
    "\n",
    "\n",
    "# make predictions for test data\n",
    "y_pred_train = model_d.predict(X_train)\n",
    "predictions = [round(value) for value in y_pred_train]\n",
    "# evaluate predictions\n",
    "accuracy = accuracy_score(y_train[\"train_label\"], predictions)\n",
    "print(\"Train accuracy: %.2f%%\\n\" % (accuracy * 100.0))\n",
    "\n",
    "importances = model_d.feature_importances_\n",
    "sort = np.argsort(-importances)\n",
    "\n",
    "for i, (n, im) in enumerate(zip(np.array(col_train_other)[sort], importances[sort])):\n",
    "    print(\"%d. feature %s (%f)\" % (i + 1, n, im))"
   ]
  },
  {
   "cell_type": "code",
   "execution_count": 43,
   "metadata": {},
   "outputs": [
    {
     "data": {
      "application/javascript": [
       "\n",
       "            setTimeout(function() {\n",
       "                var nbb_cell_id = 43;\n",
       "                var nbb_formatted_code = \"if train_ana:\\n    param_range = range(1, 8)\\n    train_scores, test_scores = validation_curve(\\n        XGBClassifier(),\\n        X_train,\\n        y_train[\\\"train_label\\\"],\\n        param_name=\\\"max_depth\\\",\\n        param_range=param_range,\\n        scoring=\\\"accuracy\\\",\\n        n_jobs=2,\\n        cv=2,\\n    )\";\n",
       "                var nbb_cells = Jupyter.notebook.get_cells();\n",
       "                for (var i = 0; i < nbb_cells.length; ++i) {\n",
       "                    if (nbb_cells[i].input_prompt_number == nbb_cell_id) {\n",
       "                        nbb_cells[i].set_text(nbb_formatted_code);\n",
       "                        break;\n",
       "                    }\n",
       "                }\n",
       "            }, 500);\n",
       "            "
      ],
      "text/plain": [
       "<IPython.core.display.Javascript object>"
      ]
     },
     "metadata": {},
     "output_type": "display_data"
    }
   ],
   "source": [
    "if train_ana:\n",
    "    param_range = range(1, 8)\n",
    "    train_scores, test_scores = validation_curve(\n",
    "        XGBClassifier(),\n",
    "        X_train,\n",
    "        y_train[\"train_label\"],\n",
    "        param_name=\"max_depth\",\n",
    "        param_range=param_range,\n",
    "        scoring=\"accuracy\",\n",
    "        n_jobs=2,\n",
    "        cv=2,\n",
    "    )"
   ]
  },
  {
   "cell_type": "code",
   "execution_count": 44,
   "metadata": {},
   "outputs": [
    {
     "data": {
      "image/png": "[encoded data removed]",
      "text/plain": [
       "<Figure size 931.968x252 with 4 Axes>"
      ]
     },
     "metadata": {
      "needs_background": "light"
     },
     "output_type": "display_data"
    },
    {
     "data": {
      "application/javascript": [
       "\n",
       "            setTimeout(function() {\n",
       "                var nbb_cell_id = 44;\n",
       "                var nbb_formatted_code = \"fig, ax = plt.subplots(ncols=4, figsize=(8 * 1.618, 3.5), constrained_layout=True)\\n\\ny_pred = model_d.predict_proba(X_test).T[0]\\ny_pred_train = model_d.predict_proba(X_train).T[0]\\nfpr, tpr, _ = roc_curve(y_test[\\\"train_label\\\"], y_pred)\\nfpr_train, tpr_train, _ = roc_curve(y_train[\\\"train_label\\\"], y_pred_train)\\nroc_auc = auc(tpr, fpr)\\nroc_auc_train = auc(tpr_train, fpr_train)\\n\\nax[0].hist(\\n    y_pred[y_test[\\\"train_label\\\"] == 0],\\n    alpha=0.5,\\n    bins=50,\\n    range=(0, 1),\\n    label=r\\\"Proton, pion\\\",\\n    density=False,\\n)\\nax[0].hist(\\n    y_pred[y_test[\\\"train_label\\\"] == 1],\\n    alpha=0.5,\\n    bins=50,\\n    range=(0, 1),\\n    label=\\\"Muon, cosmic, photon\\\",\\n    density=False,\\n)\\nax[0].legend(loc=\\\"upper left\\\")\\nax[0].set_xlim(0, 1)\\nax[0].set_xlabel(\\\"Other daughter score\\\")\\nax[0].set_ylabel(\\\"Entries per bin\\\")\\nax[0].set_title(\\\"XGBoost: Other daughters\\\")\\n\\n\\nax[1].plot(tpr, fpr, label=\\\"Test data (area = %0.3f)\\\" % roc_auc)\\nax[1].plot(tpr_train, fpr_train, label=\\\"Train data (area = %0.3f)\\\" % roc_auc_train)\\nax[1].plot([0, 1], [0, 1], linestyle=\\\"--\\\")\\nax[1].set_xlim([0.0, 1.0])\\nax[1].set_ylim([0.0, 1.0])\\nax[1].set_xlabel(\\\"False Positive Rate\\\")\\nax[1].set_ylabel(\\\"True Positive Rate\\\")\\nax[1].set_title(\\\"ROC curve\\\")\\nax[1].legend(loc=\\\"lower right\\\")\\n\\n\\n# retrieve performance metrics\\nresults = model_d.evals_result()\\nepochs = len(results[\\\"validation_0\\\"][\\\"error\\\"])\\nx_axis = range(0, epochs)\\n# plot log loss\\nax[2].plot(x_axis, results[\\\"validation_1\\\"][\\\"logloss\\\"], label=\\\"Test data\\\")\\nax[2].plot(x_axis, results[\\\"validation_0\\\"][\\\"logloss\\\"], label=\\\"Train data\\\")\\nax[2].legend()\\nax[2].set_ylabel(\\\"Binary logistic loss\\\")\\nax[2].set_xlabel(\\\"Training epoch\\\")\\nax[2].set_title(\\\"XGBoost logistic loss\\\")\\n\\nif train_ana:\\n    train_scores_mean = np.mean(train_scores, axis=1)\\n    train_scores_std = np.std(train_scores, axis=1)\\n    test_scores_mean = np.mean(test_scores, axis=1)\\n    test_scores_std = np.std(test_scores, axis=1)\\n\\n    ax[3].set_title(\\\"Validation Curve\\\")\\n    ax[3].set_xlabel(r\\\"Tree depth\\\")\\n    ax[3].set_ylabel(\\\"Accuracy\\\")\\n    ax[3].set_ylim(0.8, 0.85)\\n    ax[3].plot(param_range, test_scores_mean, label=\\\"Testing accuracy\\\")\\n    ax[3].fill_between(\\n        param_range,\\n        test_scores_mean - test_scores_std,\\n        test_scores_mean + test_scores_std,\\n        alpha=0.2,\\n    )\\n    ax[3].plot(param_range, train_scores_mean, label=\\\"Training accuracy\\\")\\n    ax[3].fill_between(\\n        param_range,\\n        train_scores_mean - train_scores_std,\\n        train_scores_mean + train_scores_std,\\n        alpha=0.2,\\n    )\\n    ax[3].axvline(x=depth, label=\\\"Training depth\\\", color=\\\"C2\\\", alpha=0.5)\\n    ax[3].legend(loc=\\\"upper left\\\")\\n    ax[3].set_xticks(param_range)\\n\\nfig.savefig(output_dir + \\\"training/daughter_bdt_test.pdf\\\")\";\n",
       "                var nbb_cells = Jupyter.notebook.get_cells();\n",
       "                for (var i = 0; i < nbb_cells.length; ++i) {\n",
       "                    if (nbb_cells[i].input_prompt_number == nbb_cell_id) {\n",
       "                        nbb_cells[i].set_text(nbb_formatted_code);\n",
       "                        break;\n",
       "                    }\n",
       "                }\n",
       "            }, 500);\n",
       "            "
      ],
      "text/plain": [
       "<IPython.core.display.Javascript object>"
      ]
     },
     "metadata": {},
     "output_type": "display_data"
    }
   ],
   "source": [
    "fig, ax = plt.subplots(ncols=4, figsize=(8 * 1.618, 3.5), constrained_layout=True)\n",
    "\n",
    "y_pred = model_d.predict_proba(X_test).T[0]\n",
    "y_pred_train = model_d.predict_proba(X_train).T[0]\n",
    "fpr, tpr, _ = roc_curve(y_test[\"train_label\"], y_pred)\n",
    "fpr_train, tpr_train, _ = roc_curve(y_train[\"train_label\"], y_pred_train)\n",
    "roc_auc = auc(tpr, fpr)\n",
    "roc_auc_train = auc(tpr_train, fpr_train)\n",
    "\n",
    "ax[0].hist(\n",
    "    y_pred[y_test[\"train_label\"] == 0],\n",
    "    alpha=0.5,\n",
    "    bins=50,\n",
    "    range=(0, 1),\n",
    "    label=r\"Proton, pion\",\n",
    "    density=False,\n",
    ")\n",
    "ax[0].hist(\n",
    "    y_pred[y_test[\"train_label\"] == 1],\n",
    "    alpha=0.5,\n",
    "    bins=50,\n",
    "    range=(0, 1),\n",
    "    label=\"Muon, cosmic, photon\",\n",
    "    density=False,\n",
    ")\n",
    "ax[0].legend(loc=\"upper left\")\n",
    "ax[0].set_xlim(0, 1)\n",
    "ax[0].set_xlabel(\"Other daughter score\")\n",
    "ax[0].set_ylabel(\"Entries per bin\")\n",
    "ax[0].set_title(\"XGBoost: Other daughters\")\n",
    "\n",
    "\n",
    "ax[1].plot(tpr, fpr, label=\"Test data (area = %0.3f)\" % roc_auc)\n",
    "ax[1].plot(tpr_train, fpr_train, label=\"Train data (area = %0.3f)\" % roc_auc_train)\n",
    "ax[1].plot([0, 1], [0, 1], linestyle=\"--\")\n",
    "ax[1].set_xlim([0.0, 1.0])\n",
    "ax[1].set_ylim([0.0, 1.0])\n",
    "ax[1].set_xlabel(\"False Positive Rate\")\n",
    "ax[1].set_ylabel(\"True Positive Rate\")\n",
    "ax[1].set_title(\"ROC curve\")\n",
    "ax[1].legend(loc=\"lower right\")\n",
    "\n",
    "\n",
    "# retrieve performance metrics\n",
    "results = model_d.evals_result()\n",
    "epochs = len(results[\"validation_0\"][\"error\"])\n",
    "x_axis = range(0, epochs)\n",
    "# plot log loss\n",
    "ax[2].plot(x_axis, results[\"validation_1\"][\"logloss\"], label=\"Test data\")\n",
    "ax[2].plot(x_axis, results[\"validation_0\"][\"logloss\"], label=\"Train data\")\n",
    "ax[2].legend()\n",
    "ax[2].set_ylabel(\"Binary logistic loss\")\n",
    "ax[2].set_xlabel(\"Training epoch\")\n",
    "ax[2].set_title(\"XGBoost logistic loss\")\n",
    "\n",
    "if train_ana:\n",
    "    train_scores_mean = np.mean(train_scores, axis=1)\n",
    "    train_scores_std = np.std(train_scores, axis=1)\n",
    "    test_scores_mean = np.mean(test_scores, axis=1)\n",
    "    test_scores_std = np.std(test_scores, axis=1)\n",
    "\n",
    "    ax[3].set_title(\"Validation Curve\")\n",
    "    ax[3].set_xlabel(r\"Tree depth\")\n",
    "    ax[3].set_ylabel(\"Accuracy\")\n",
    "    ax[3].set_ylim(0.7, 0.85)\n",
    "    ax[3].plot(param_range, test_scores_mean, label=\"Testing accuracy\")\n",
    "    ax[3].fill_between(\n",
    "        param_range,\n",
    "        test_scores_mean - test_scores_std,\n",
    "        test_scores_mean + test_scores_std,\n",
    "        alpha=0.2,\n",
    "    )\n",
    "    ax[3].plot(param_range, train_scores_mean, label=\"Training accuracy\")\n",
    "    ax[3].fill_between(\n",
    "        param_range,\n",
    "        train_scores_mean - train_scores_std,\n",
    "        train_scores_mean + train_scores_std,\n",
    "        alpha=0.2,\n",
    "    )\n",
    "    ax[3].axvline(x=depth, label=\"Training depth\", color=\"C2\", alpha=0.5)\n",
    "    ax[3].legend(loc=\"upper left\")\n",
    "    ax[3].set_xticks(param_range)\n",
    "\n",
    "fig.savefig(output_dir + \"training/daughter_bdt_test.pdf\")"
   ]
  },
  {
   "cell_type": "markdown",
   "metadata": {},
   "source": [
    "#### Apply models on the samples!"
   ]
  },
  {
   "cell_type": "code",
   "execution_count": 45,
   "metadata": {},
   "outputs": [
    {
     "name": "stderr",
     "output_type": "stream",
     "text": [
      "/home/wouter/Binaries/miniconda3/envs/uproot/lib/python3.7/site-packages/IPython/core/interactiveshell.py:3331: PerformanceWarning: indexing past lexsort depth may impact performance.\n",
      "  exec(code_obj, self.user_global_ns, self.user_ns)\n"
     ]
    },
    {
     "name": "stdout",
     "output_type": "stream",
     "text": [
      "CPU times: user 9.99 s, sys: 632 ms, total: 10.6 s\n",
      "Wall time: 3.75 s\n"
     ]
    },
    {
     "data": {
      "application/javascript": [
       "\n",
       "            setTimeout(function() {\n",
       "                var nbb_cell_id = 45;\n",
       "                var nbb_formatted_code = \"%%time\\n# add the columns for each daughter (all samples)\\nfor k, v in all_samples.items():\\n    v[\\\"daughters\\\"][\\\"score\\\"] = -1\\n    mask_e_cand = v[\\\"daughters\\\"].eval(\\\"preselect & e_candidate\\\")\\n    v[\\\"daughters\\\"].loc[mask_e_cand, \\\"score\\\"] = model_e.predict_proba(\\n        v[\\\"daughters\\\"][col_train_electron][mask_e_cand]\\n    ).T[1]\\n    mask_d = v[\\\"daughters\\\"].eval(\\\"preselect & ~e_candidate\\\")\\n    v[\\\"daughters\\\"].loc[mask_d, \\\"score\\\"] = model_d.predict_proba(\\n        v[\\\"daughters\\\"][col_train_other][mask_d]\\n    ).T[1]\";\n",
       "                var nbb_cells = Jupyter.notebook.get_cells();\n",
       "                for (var i = 0; i < nbb_cells.length; ++i) {\n",
       "                    if (nbb_cells[i].input_prompt_number == nbb_cell_id) {\n",
       "                        nbb_cells[i].set_text(nbb_formatted_code);\n",
       "                        break;\n",
       "                    }\n",
       "                }\n",
       "            }, 500);\n",
       "            "
      ],
      "text/plain": [
       "<IPython.core.display.Javascript object>"
      ]
     },
     "metadata": {},
     "output_type": "display_data"
    }
   ],
   "source": [
    "%%time\n",
    "# add the columns for each daughter (all samples)\n",
    "for k, v in all_samples.items():\n",
    "    v[\"daughters\"][\"score\"] = -1\n",
    "    mask_e_cand = v[\"daughters\"].eval(\"preselect & e_candidate\")\n",
    "    v[\"daughters\"].loc[mask_e_cand, \"score\"] = model_e.predict_proba(\n",
    "        v[\"daughters\"][col_train_electron][mask_e_cand]\n",
    "    ).T[1]\n",
    "    mask_d = v[\"daughters\"].eval(\"preselect & ~e_candidate\")\n",
    "    v[\"daughters\"].loc[mask_d, \"score\"] = model_d.predict_proba(\n",
    "        v[\"daughters\"][col_train_other][mask_d]\n",
    "    ).T[1]"
   ]
  },
  {
   "cell_type": "markdown",
   "metadata": {},
   "source": [
    "#### Train on the events"
   ]
  },
  {
   "cell_type": "code",
   "execution_count": 46,
   "metadata": {},
   "outputs": [
    {
     "name": "stdout",
     "output_type": "stream",
     "text": [
      "on\n",
      "off\n",
      "nu\n",
      "dirt\n",
      "sideband\n",
      "train\n",
      "CPU times: user 3.29 s, sys: 932 ms, total: 4.22 s\n",
      "Wall time: 3.98 s\n"
     ]
    },
    {
     "data": {
      "application/javascript": [
       "\n",
       "            setTimeout(function() {\n",
       "                var nbb_cell_id = 46;\n",
       "                var nbb_formatted_code = \"%%time\\n# First we need to add some columns:\\nfor k, v in all_samples.items():    \\n    print(k)\\n    \\n    mask_e = v[\\\"daughters\\\"].eval(\\\"preselect & e_candidate & n_pfps>1\\\")\\n    v[\\\"daughters\\\"][\\\"score_other_max\\\"] = 1\\n    \\n    v[\\\"daughters\\\"].loc[mask_e, \\\"score_other_max\\\"] = (\\n        v[\\\"daughters\\\"]\\n        .query(\\\"~e_candidate & preselect\\\")[\\\"score\\\"]\\n        .groupby(grouper, sort=False)\\n        .max()\\n        .values\\n    )\\n    v[\\\"daughters\\\"][\\\"score_other_mean\\\"] = 1\\n    v[\\\"daughters\\\"].loc[mask_e, \\\"score_other_mean\\\"] = (\\n        v[\\\"daughters\\\"]\\n        .query(\\\"~e_candidate & preselect\\\")[\\\"score\\\"]\\n        .groupby(grouper, sort=False)\\n        .mean()\\n        .values\\n    )\\n    v[\\\"daughters\\\"][\\\"score_other_min\\\"] = 1\\n    v[\\\"daughters\\\"].loc[mask_e, \\\"score_other_min\\\"] = (\\n        v[\\\"daughters\\\"]\\n        .query(\\\"~e_candidate & preselect\\\")[\\\"score\\\"]\\n        .groupby(grouper, sort=False)\\n        .min()\\n        .values\\n    )\";\n",
       "                var nbb_cells = Jupyter.notebook.get_cells();\n",
       "                for (var i = 0; i < nbb_cells.length; ++i) {\n",
       "                    if (nbb_cells[i].input_prompt_number == nbb_cell_id) {\n",
       "                        nbb_cells[i].set_text(nbb_formatted_code);\n",
       "                        break;\n",
       "                    }\n",
       "                }\n",
       "            }, 500);\n",
       "            "
      ],
      "text/plain": [
       "<IPython.core.display.Javascript object>"
      ]
     },
     "metadata": {},
     "output_type": "display_data"
    }
   ],
   "source": [
    "%%time\n",
    "# First we need to add some columns:\n",
    "for k, v in all_samples.items():    \n",
    "    print(k)\n",
    "    \n",
    "    mask_e = v[\"daughters\"].eval(\"preselect & e_candidate & n_pfps>1\")\n",
    "    v[\"daughters\"][\"score_other_max\"] = 1\n",
    "    \n",
    "    v[\"daughters\"].loc[mask_e, \"score_other_max\"] = (\n",
    "        v[\"daughters\"]\n",
    "        .query(\"~e_candidate & preselect\")[\"score\"]\n",
    "        .groupby(grouper, sort=False)\n",
    "        .max()\n",
    "        .values\n",
    "    )\n",
    "    v[\"daughters\"][\"score_other_mean\"] = 1\n",
    "    v[\"daughters\"].loc[mask_e, \"score_other_mean\"] = (\n",
    "        v[\"daughters\"]\n",
    "        .query(\"~e_candidate & preselect\")[\"score\"]\n",
    "        .groupby(grouper, sort=False)\n",
    "        .mean()\n",
    "        .values\n",
    "    )\n",
    "    v[\"daughters\"][\"score_other_min\"] = 1\n",
    "    v[\"daughters\"].loc[mask_e, \"score_other_min\"] = (\n",
    "        v[\"daughters\"]\n",
    "        .query(\"~e_candidate & preselect\")[\"score\"]\n",
    "        .groupby(grouper, sort=False)\n",
    "        .min()\n",
    "        .values\n",
    "    )"
   ]
  },
  {
   "cell_type": "code",
   "execution_count": 47,
   "metadata": {},
   "outputs": [
    {
     "data": {
      "application/javascript": [
       "\n",
       "            setTimeout(function() {\n",
       "                var nbb_cell_id = 47;\n",
       "                var nbb_formatted_code = \"train_q = \\\"preselect & e_candidate\\\"\\ntrain[\\\"daughters\\\"][\\\"nuecclabel\\\"] = train[\\\"daughters\\\"].eval(\\n    \\\"nueccinc & backtracked_purity>0.5 & backtracked_completeness>0.5 & true_vtx_distance<10\\\"\\n)\\nX = train[\\\"daughters\\\"].query(train_q)[col_train_event]\\nY = train[\\\"daughters\\\"].query(train_q)[[\\\"nuecclabel\\\", \\\"train_weight\\\"]]\\nX_train, X_test, y_train, y_test = train_test_split(\\n    X, Y, test_size=test_size, random_state=seed\\n)\";\n",
       "                var nbb_cells = Jupyter.notebook.get_cells();\n",
       "                for (var i = 0; i < nbb_cells.length; ++i) {\n",
       "                    if (nbb_cells[i].input_prompt_number == nbb_cell_id) {\n",
       "                        nbb_cells[i].set_text(nbb_formatted_code);\n",
       "                        break;\n",
       "                    }\n",
       "                }\n",
       "            }, 500);\n",
       "            "
      ],
      "text/plain": [
       "<IPython.core.display.Javascript object>"
      ]
     },
     "metadata": {},
     "output_type": "display_data"
    }
   ],
   "source": [
    "train_q = \"preselect & e_candidate\"\n",
    "train[\"daughters\"][\"nuecclabel\"] = train[\"daughters\"].eval(\n",
    "    \"nueccinc & backtracked_purity>0.5 & backtracked_completeness>0.5 & true_vtx_distance<10\"\n",
    ")\n",
    "X = train[\"daughters\"].query(train_q)[col_train_event]\n",
    "Y = train[\"daughters\"].query(train_q)[[\"nuecclabel\", \"train_weight\"]]\n",
    "X_train, X_test, y_train, y_test = train_test_split(\n",
    "    X, Y, test_size=test_size, random_state=seed\n",
    ")"
   ]
  },
  {
   "cell_type": "code",
   "execution_count": 48,
   "metadata": {
    "scrolled": false
   },
   "outputs": [
    {
     "data": {
      "application/javascript": [
       "\n",
       "            setTimeout(function() {\n",
       "                var nbb_cell_id = 48;\n",
       "                var nbb_formatted_code = \"# fit model on training data\\ndepth = 5\\nif retrain:\\n    model_event = XGBClassifier(max_depth=depth, objective=\\\"binary:logistic\\\")\\n    eval_set = [(X_train, y_train[\\\"nuecclabel\\\"]), (X_test, y_test[\\\"nuecclabel\\\"])]\\n    model_event.fit(\\n        X_train,\\n        y_train[\\\"nuecclabel\\\"],\\n        sample_weight=y_train[\\\"train_weight\\\"],\\n        eval_metric=[\\\"error\\\", \\\"logloss\\\"],\\n        eval_set=eval_set,\\n        verbose=False,\\n    )\\n    dump(model_event, model_dir + \\\"model_event.pckl\\\")\\nelse:\\n    model_event = load(model_dir + \\\"model_event.pckl\\\")\";\n",
       "                var nbb_cells = Jupyter.notebook.get_cells();\n",
       "                for (var i = 0; i < nbb_cells.length; ++i) {\n",
       "                    if (nbb_cells[i].input_prompt_number == nbb_cell_id) {\n",
       "                        nbb_cells[i].set_text(nbb_formatted_code);\n",
       "                        break;\n",
       "                    }\n",
       "                }\n",
       "            }, 500);\n",
       "            "
      ],
      "text/plain": [
       "<IPython.core.display.Javascript object>"
      ]
     },
     "metadata": {},
     "output_type": "display_data"
    }
   ],
   "source": [
    "# fit model on training data\n",
    "depth = 5\n",
    "if retrain:\n",
    "    model_event = XGBClassifier(max_depth=depth, objective=\"binary:logistic\")\n",
    "    eval_set = [(X_train, y_train[\"nuecclabel\"]), (X_test, y_test[\"nuecclabel\"])]\n",
    "    model_event.fit(\n",
    "        X_train,\n",
    "        y_train[\"nuecclabel\"],\n",
    "        sample_weight=y_train[\"train_weight\"],\n",
    "        eval_metric=[\"error\", \"logloss\"],\n",
    "        eval_set=eval_set,\n",
    "        verbose=False,\n",
    "    )\n",
    "    dump(model_event, model_dir + \"model_event.pckl\")\n",
    "else:\n",
    "    model_event = load(model_dir + \"model_event.pckl\")"
   ]
  },
  {
   "cell_type": "code",
   "execution_count": 49,
   "metadata": {},
   "outputs": [
    {
     "name": "stdout",
     "output_type": "stream",
     "text": [
      "                   precision    recall  f1-score   support\n",
      "\n",
      "         nueccinc       0.88      0.88      0.88     19358\n",
      "background events       0.76      0.78      0.77     10023\n",
      "\n",
      "         accuracy                           0.84     29381\n",
      "        macro avg       0.82      0.83      0.83     29381\n",
      "     weighted avg       0.84      0.84      0.84     29381\n",
      "\n",
      "Test accuracy: 84.26%\n",
      "Train accuracy: 85.43%\n",
      "\n",
      "1. feature score (0.623621)\n",
      "2. feature score_other_mean (0.188310)\n",
      "3. feature n_showers (0.061185)\n",
      "4. feature score_other_min (0.043890)\n",
      "5. feature score_other_max (0.040488)\n",
      "6. feature n_pfp_farvtx (0.023708)\n",
      "7. feature contained_fraction (0.018798)\n"
     ]
    },
    {
     "data": {
      "application/javascript": [
       "\n",
       "            setTimeout(function() {\n",
       "                var nbb_cell_id = 49;\n",
       "                var nbb_formatted_code = \"# make predictions for test data\\ny_pred = model_event.predict(X_test)\\ntarget_names = [\\\"nueccinc\\\", \\\"background events\\\"]\\nprint(classification_report(y_test[\\\"nuecclabel\\\"], y_pred, target_names=target_names))\\npredictions = [round(value) for value in y_pred]\\n\\n# evaluate predictions\\naccuracy = accuracy_score(y_test[\\\"nuecclabel\\\"], predictions)\\nprint(\\\"Test accuracy: %.2f%%\\\" % (accuracy * 100.0))\\n\\n\\n# make predictions for test data\\ny_pred_train = model_event.predict(X_train)\\npredictions = [round(value) for value in y_pred_train]\\n# evaluate predictions\\naccuracy = accuracy_score(y_train[\\\"nuecclabel\\\"], predictions)\\nprint(\\\"Train accuracy: %.2f%%\\\\n\\\" % (accuracy * 100.0))\\n\\nimportances = model_event.feature_importances_\\nsort = np.argsort(-importances)\\n\\nfor i, (n, im) in enumerate(zip(np.array(col_train_event)[sort], importances[sort])):\\n    print(\\\"%d. feature %s (%f)\\\" % (i + 1, n, im))\";\n",
       "                var nbb_cells = Jupyter.notebook.get_cells();\n",
       "                for (var i = 0; i < nbb_cells.length; ++i) {\n",
       "                    if (nbb_cells[i].input_prompt_number == nbb_cell_id) {\n",
       "                        nbb_cells[i].set_text(nbb_formatted_code);\n",
       "                        break;\n",
       "                    }\n",
       "                }\n",
       "            }, 500);\n",
       "            "
      ],
      "text/plain": [
       "<IPython.core.display.Javascript object>"
      ]
     },
     "metadata": {},
     "output_type": "display_data"
    }
   ],
   "source": [
    "# make predictions for test data\n",
    "y_pred = model_event.predict(X_test)\n",
    "target_names = [\"nueccinc\", \"background events\"]\n",
    "print(classification_report(y_test[\"nuecclabel\"], y_pred, target_names=target_names))\n",
    "predictions = [round(value) for value in y_pred]\n",
    "\n",
    "# evaluate predictions\n",
    "accuracy = accuracy_score(y_test[\"nuecclabel\"], predictions)\n",
    "print(\"Test accuracy: %.2f%%\" % (accuracy * 100.0))\n",
    "\n",
    "\n",
    "# make predictions for test data\n",
    "y_pred_train = model_event.predict(X_train)\n",
    "predictions = [round(value) for value in y_pred_train]\n",
    "# evaluate predictions\n",
    "accuracy = accuracy_score(y_train[\"nuecclabel\"], predictions)\n",
    "print(\"Train accuracy: %.2f%%\\n\" % (accuracy * 100.0))\n",
    "\n",
    "importances = model_event.feature_importances_\n",
    "sort = np.argsort(-importances)\n",
    "\n",
    "for i, (n, im) in enumerate(zip(np.array(col_train_event)[sort], importances[sort])):\n",
    "    print(\"%d. feature %s (%f)\" % (i + 1, n, im))"
   ]
  },
  {
   "cell_type": "code",
   "execution_count": 50,
   "metadata": {},
   "outputs": [
    {
     "data": {
      "application/javascript": [
       "\n",
       "            setTimeout(function() {\n",
       "                var nbb_cell_id = 50;\n",
       "                var nbb_formatted_code = \"if train_ana:\\n    param_range = range(1, 8)\\n    train_scores, test_scores = validation_curve(\\n        XGBClassifier(),\\n        X_train,\\n        y_train[\\\"nuecclabel\\\"],\\n        param_name=\\\"max_depth\\\",\\n        param_range=param_range,\\n        scoring=\\\"accuracy\\\",\\n        n_jobs=2,\\n    )\";\n",
       "                var nbb_cells = Jupyter.notebook.get_cells();\n",
       "                for (var i = 0; i < nbb_cells.length; ++i) {\n",
       "                    if (nbb_cells[i].input_prompt_number == nbb_cell_id) {\n",
       "                        nbb_cells[i].set_text(nbb_formatted_code);\n",
       "                        break;\n",
       "                    }\n",
       "                }\n",
       "            }, 500);\n",
       "            "
      ],
      "text/plain": [
       "<IPython.core.display.Javascript object>"
      ]
     },
     "metadata": {},
     "output_type": "display_data"
    }
   ],
   "source": [
    "if train_ana:\n",
    "    param_range = range(1, 8)\n",
    "    train_scores, test_scores = validation_curve(\n",
    "        XGBClassifier(),\n",
    "        X_train,\n",
    "        y_train[\"nuecclabel\"],\n",
    "        param_name=\"max_depth\",\n",
    "        param_range=param_range,\n",
    "        scoring=\"accuracy\",\n",
    "        n_jobs=2,\n",
    "    )"
   ]
  },
  {
   "cell_type": "code",
   "execution_count": 51,
   "metadata": {},
   "outputs": [
    {
     "data": {
      "image/png": "[encoded data removed]",
      "text/plain": [
       "<Figure size 931.968x252 with 4 Axes>"
      ]
     },
     "metadata": {
      "needs_background": "light"
     },
     "output_type": "display_data"
    },
    {
     "data": {
      "application/javascript": [
       "\n",
       "            setTimeout(function() {\n",
       "                var nbb_cell_id = 51;\n",
       "                var nbb_formatted_code = \"fig, ax = plt.subplots(ncols=4, figsize=(8 * 1.618, 3.5), constrained_layout=True)\\n\\ny_pred = model_event.predict_proba(X_test).T[0]\\ny_pred_train = model_event.predict_proba(X_train).T[0]\\nfpr, tpr, _ = roc_curve(y_test[\\\"nuecclabel\\\"], y_pred)\\nfpr_train, tpr_train, _ = roc_curve(y_train[\\\"nuecclabel\\\"], y_pred_train)\\nroc_auc = auc(tpr, fpr)\\nroc_auc_train = auc(tpr_train, fpr_train)\\n\\nax[0].hist(\\n    y_pred[y_test[\\\"nuecclabel\\\"] == 0],\\n    alpha=0.5,\\n    bins=50,\\n    range=(0, 1),\\n    label=r\\\"$\\\\nu_e$ CC Inclusive\\\",\\n    density=False,\\n)\\nax[0].hist(\\n    y_pred[y_test[\\\"nuecclabel\\\"] == 1],\\n    alpha=0.5,\\n    bins=50,\\n    range=(0, 1),\\n    label=\\\"Background events\\\",\\n    density=False,\\n)\\nax[0].legend(loc=\\\"upper left\\\")\\nax[0].set_xlim(0, 1)\\nax[0].set_xlabel(\\\"Event identification\\\")\\nax[0].set_ylabel(\\\"Entries per bin\\\")\\nax[0].set_title(\\\"XGBoost: Event classification\\\")\\n\\n\\nax[1].plot(tpr, fpr, label=\\\"Test data (area = %0.3f)\\\" % roc_auc)\\nax[1].plot(tpr_train, fpr_train, label=\\\"Train data (area = %0.3f)\\\" % roc_auc_train)\\nax[1].plot([0, 1], [0, 1], linestyle=\\\"--\\\")\\nax[1].set_xlim([0.0, 1.0])\\nax[1].set_ylim([0.0, 1.0])\\nax[1].set_xlabel(\\\"False Positive Rate\\\")\\nax[1].set_ylabel(\\\"True Positive Rate\\\")\\nax[1].set_title(\\\"ROC curve\\\")\\nax[1].legend(loc=\\\"lower right\\\")\\n\\n\\n# retrieve performance metrics\\nresults = model_event.evals_result()\\nepochs = len(results[\\\"validation_0\\\"][\\\"error\\\"])\\nx_axis = range(0, epochs)\\n# plot log loss\\nax[2].plot(x_axis, results[\\\"validation_1\\\"][\\\"logloss\\\"], label=\\\"Test data\\\")\\nax[2].plot(x_axis, results[\\\"validation_0\\\"][\\\"logloss\\\"], label=\\\"Train data\\\")\\nax[2].legend()\\nax[2].set_ylabel(\\\"Binary logistic loss\\\")\\nax[2].set_xlabel(\\\"Training epoch\\\")\\nax[2].set_title(\\\"XGBoost logistic loss\\\")\\n\\nif train_ana:\\n    train_scores_mean = np.mean(train_scores, axis=1)\\n    train_scores_std = np.std(train_scores, axis=1)\\n    test_scores_mean = np.mean(test_scores, axis=1)\\n    test_scores_std = np.std(test_scores, axis=1)\\n\\n    ax[3].set_title(\\\"Validation Curve\\\")\\n    ax[3].set_xlabel(r\\\"Tree depth\\\")\\n    ax[3].set_ylabel(\\\"Accuracy\\\")\\n    ax[3].set_ylim(0.87, 0.92)\\n    ax[3].plot(param_range, test_scores_mean, label=\\\"Testing accuracy\\\")\\n    ax[3].fill_between(\\n        param_range,\\n        test_scores_mean - test_scores_std,\\n        test_scores_mean + test_scores_std,\\n        alpha=0.2,\\n    )\\n    ax[3].plot(param_range, train_scores_mean, label=\\\"Training accuracy\\\")\\n    ax[3].fill_between(\\n        param_range,\\n        train_scores_mean - train_scores_std,\\n        train_scores_mean + train_scores_std,\\n        alpha=0.2,\\n    )\\n    ax[3].axvline(x=depth, label=\\\"Training depth\\\", color=\\\"C2\\\", alpha=0.5)\\n    ax[3].legend(loc=\\\"upper left\\\")\\n    ax[3].set_xticks(param_range)\\n\\nfig.savefig(output_dir + \\\"training/event_bdt_test.pdf\\\")\";\n",
       "                var nbb_cells = Jupyter.notebook.get_cells();\n",
       "                for (var i = 0; i < nbb_cells.length; ++i) {\n",
       "                    if (nbb_cells[i].input_prompt_number == nbb_cell_id) {\n",
       "                        nbb_cells[i].set_text(nbb_formatted_code);\n",
       "                        break;\n",
       "                    }\n",
       "                }\n",
       "            }, 500);\n",
       "            "
      ],
      "text/plain": [
       "<IPython.core.display.Javascript object>"
      ]
     },
     "metadata": {},
     "output_type": "display_data"
    }
   ],
   "source": [
    "fig, ax = plt.subplots(ncols=4, figsize=(8 * 1.618, 3.5), constrained_layout=True)\n",
    "\n",
    "y_pred = model_event.predict_proba(X_test).T[0]\n",
    "y_pred_train = model_event.predict_proba(X_train).T[0]\n",
    "fpr, tpr, _ = roc_curve(y_test[\"nuecclabel\"], y_pred)\n",
    "fpr_train, tpr_train, _ = roc_curve(y_train[\"nuecclabel\"], y_pred_train)\n",
    "roc_auc = auc(tpr, fpr)\n",
    "roc_auc_train = auc(tpr_train, fpr_train)\n",
    "\n",
    "ax[0].hist(\n",
    "    y_pred[y_test[\"nuecclabel\"] == 0],\n",
    "    alpha=0.5,\n",
    "    bins=50,\n",
    "    range=(0, 1),\n",
    "    label=r\"$\\nu_e$ CC Inclusive\",\n",
    "    density=False,\n",
    ")\n",
    "ax[0].hist(\n",
    "    y_pred[y_test[\"nuecclabel\"] == 1],\n",
    "    alpha=0.5,\n",
    "    bins=50,\n",
    "    range=(0, 1),\n",
    "    label=\"Background events\",\n",
    "    density=False,\n",
    ")\n",
    "ax[0].legend(loc=\"upper left\")\n",
    "ax[0].set_xlim(0, 1)\n",
    "ax[0].set_xlabel(\"Event identification\")\n",
    "ax[0].set_ylabel(\"Entries per bin\")\n",
    "ax[0].set_title(\"XGBoost: Event classification\")\n",
    "\n",
    "\n",
    "ax[1].plot(tpr, fpr, label=\"Test data (area = %0.3f)\" % roc_auc)\n",
    "ax[1].plot(tpr_train, fpr_train, label=\"Train data (area = %0.3f)\" % roc_auc_train)\n",
    "ax[1].plot([0, 1], [0, 1], linestyle=\"--\")\n",
    "ax[1].set_xlim([0.0, 1.0])\n",
    "ax[1].set_ylim([0.0, 1.0])\n",
    "ax[1].set_xlabel(\"False Positive Rate\")\n",
    "ax[1].set_ylabel(\"True Positive Rate\")\n",
    "ax[1].set_title(\"ROC curve\")\n",
    "ax[1].legend(loc=\"lower right\")\n",
    "\n",
    "\n",
    "# retrieve performance metrics\n",
    "results = model_event.evals_result()\n",
    "epochs = len(results[\"validation_0\"][\"error\"])\n",
    "x_axis = range(0, epochs)\n",
    "# plot log loss\n",
    "ax[2].plot(x_axis, results[\"validation_1\"][\"logloss\"], label=\"Test data\")\n",
    "ax[2].plot(x_axis, results[\"validation_0\"][\"logloss\"], label=\"Train data\")\n",
    "ax[2].legend()\n",
    "ax[2].set_ylabel(\"Binary logistic loss\")\n",
    "ax[2].set_xlabel(\"Training epoch\")\n",
    "ax[2].set_title(\"XGBoost logistic loss\")\n",
    "\n",
    "if train_ana:\n",
    "    train_scores_mean = np.mean(train_scores, axis=1)\n",
    "    train_scores_std = np.std(train_scores, axis=1)\n",
    "    test_scores_mean = np.mean(test_scores, axis=1)\n",
    "    test_scores_std = np.std(test_scores, axis=1)\n",
    "\n",
    "    ax[3].set_title(\"Validation Curve\")\n",
    "    ax[3].set_xlabel(r\"Tree depth\")\n",
    "    ax[3].set_ylabel(\"Accuracy\")\n",
    "    ax[3].set_ylim(0.8, 0.9)\n",
    "    ax[3].plot(param_range, test_scores_mean, label=\"Testing accuracy\")\n",
    "    ax[3].fill_between(\n",
    "        param_range,\n",
    "        test_scores_mean - test_scores_std,\n",
    "        test_scores_mean + test_scores_std,\n",
    "        alpha=0.2,\n",
    "    )\n",
    "    ax[3].plot(param_range, train_scores_mean, label=\"Training accuracy\")\n",
    "    ax[3].fill_between(\n",
    "        param_range,\n",
    "        train_scores_mean - train_scores_std,\n",
    "        train_scores_mean + train_scores_std,\n",
    "        alpha=0.2,\n",
    "    )\n",
    "    ax[3].axvline(x=depth, label=\"Training depth\", color=\"C2\", alpha=0.5)\n",
    "    ax[3].legend(loc=\"upper left\")\n",
    "    ax[3].set_xticks(param_range)\n",
    "\n",
    "fig.savefig(output_dir + \"training/event_bdt_test.pdf\")"
   ]
  },
  {
   "cell_type": "code",
   "execution_count": 52,
   "metadata": {},
   "outputs": [
    {
     "name": "stdout",
     "output_type": "stream",
     "text": [
      "CPU times: user 3 µs, sys: 1 µs, total: 4 µs\n",
      "Wall time: 7.39 µs\n",
      "on\n",
      "off\n",
      "nu\n"
     ]
    },
    {
     "name": "stderr",
     "output_type": "stream",
     "text": [
      "/home/wouter/Binaries/miniconda3/envs/uproot/lib/python3.7/site-packages/IPython/core/interactiveshell.py:2858: PerformanceWarning: indexing past lexsort depth may impact performance.\n",
      "  raw_cell, store_history, silent, shell_futures)\n"
     ]
    },
    {
     "name": "stdout",
     "output_type": "stream",
     "text": [
      "dirt\n",
      "sideband\n",
      "train\n"
     ]
    },
    {
     "data": {
      "application/javascript": [
       "\n",
       "            setTimeout(function() {\n",
       "                var nbb_cell_id = 52;\n",
       "                var nbb_formatted_code = \"%time\\n# add the columns for each daughter (all samples)\\nfor k, v in all_samples.items():\\n    print(k)\\n    v[\\\"daughters\\\"][\\\"score_event\\\"] = -1\\n    mask_e_cand = v[\\\"daughters\\\"].eval(\\\"preselect & e_candidate\\\")\\n    v[\\\"daughters\\\"].loc[mask_e_cand, \\\"score_event\\\"] = model_event.predict_proba(\\n        v[\\\"daughters\\\"][col_train_event][mask_e_cand]\\n    ).T[1]\";\n",
       "                var nbb_cells = Jupyter.notebook.get_cells();\n",
       "                for (var i = 0; i < nbb_cells.length; ++i) {\n",
       "                    if (nbb_cells[i].input_prompt_number == nbb_cell_id) {\n",
       "                        nbb_cells[i].set_text(nbb_formatted_code);\n",
       "                        break;\n",
       "                    }\n",
       "                }\n",
       "            }, 500);\n",
       "            "
      ],
      "text/plain": [
       "<IPython.core.display.Javascript object>"
      ]
     },
     "metadata": {},
     "output_type": "display_data"
    }
   ],
   "source": [
    "%time\n",
    "# add the columns for each daughter (all samples)\n",
    "for k, v in all_samples.items():\n",
    "    print(k)\n",
    "    v[\"daughters\"][\"score_event\"] = -1\n",
    "    mask_e_cand = v[\"daughters\"].eval(\"preselect & e_candidate\")\n",
    "    v[\"daughters\"].loc[mask_e_cand, \"score_event\"] = model_event.predict_proba(\n",
    "        v[\"daughters\"][col_train_event][mask_e_cand]\n",
    "    ).T[1]"
   ]
  },
  {
   "cell_type": "code",
   "execution_count": 53,
   "metadata": {},
   "outputs": [
    {
     "data": {
      "application/javascript": [
       "\n",
       "            setTimeout(function() {\n",
       "                var nbb_cell_id = 53;\n",
       "                var nbb_formatted_code = \"cut_val = 0.87\\nquery_select = \\\"e_candidate & preselect & score_event>@cut_val\\\"\";\n",
       "                var nbb_cells = Jupyter.notebook.get_cells();\n",
       "                for (var i = 0; i < nbb_cells.length; ++i) {\n",
       "                    if (nbb_cells[i].input_prompt_number == nbb_cell_id) {\n",
       "                        nbb_cells[i].set_text(nbb_formatted_code);\n",
       "                        break;\n",
       "                    }\n",
       "                }\n",
       "            }, 500);\n",
       "            "
      ],
      "text/plain": [
       "<IPython.core.display.Javascript object>"
      ]
     },
     "metadata": {},
     "output_type": "display_data"
    }
   ],
   "source": [
    "cut_val = 0.87\n",
    "query_select = \"e_candidate & preselect & score_event>@cut_val\""
   ]
  },
  {
   "cell_type": "code",
   "execution_count": 54,
   "metadata": {},
   "outputs": [
    {
     "name": "stdout",
     "output_type": "stream",
     "text": [
      "on pass rate\t0.01%\n",
      "off pass rate\t0.00%\n",
      "nu pass rate\t0.86%\n",
      "\tbnb\t18.39%\n",
      "dirt pass rate\t0.00%\n",
      "sideband pass rate\t0.60%\n",
      "train pass rate\t0.91%\n",
      "\tbnb\t19.52%\n",
      "\tlowe\t9.27%\n",
      "CPU times: user 1.06 s, sys: 547 ms, total: 1.61 s\n",
      "Wall time: 1.33 s\n"
     ]
    },
    {
     "data": {
      "application/javascript": [
       "\n",
       "            setTimeout(function() {\n",
       "                var nbb_cell_id = 54;\n",
       "                var nbb_formatted_code = \"%%time\\n# Passing rate pre-selection\\nfor k, v in all_samples.items():\\n    v['daughters']['select']=v['daughters'].eval(query_select)\\n    pass_rate = v[\\\"daughters\\\"]['select'].sum()/v['numentries']\\n    print(\\\"{} pass rate\\\\t{:.2%}\\\".format(k,pass_rate))\\n    \\n    if k=='train':\\n        for kind, name in {83: 'bnb', 81: 'lowe'}.items():\\n            sig_mask = (v[\\\"mc\\\"]['sample']==kind) & v[\\\"mc\\\"]['nueccinc']\\n            total_sig = v[\\\"mc\\\"][\\\"weightSplineTimesTune\\\"][sig_mask].sum()\\n            pass_nuecc = v[\\\"daughters\\\"].query('select').query(\\\"sample==@kind & nueccinc\\\")['weightSplineTimesTune'].sum()/total_sig\\n            print(\\\"\\\\t{}\\\\t{:.2%}\\\".format(name,pass_nuecc))\\n    if k=='nu':\\n        total_sig = v[\\\"mc\\\"][\\\"weightSplineTimesTune\\\"][v[\\\"mc\\\"][\\\"nueccinc\\\"]].sum()\\n        pass_nuecc = v[\\\"daughters\\\"].query('select').query(\\\"nueccinc\\\")[\\\"weightSplineTimesTune\\\"].sum()/ total_sig\\n        print(\\\"\\\\t{}\\\\t{:.2%}\\\".format(\\\"bnb\\\", pass_nuecc))\";\n",
       "                var nbb_cells = Jupyter.notebook.get_cells();\n",
       "                for (var i = 0; i < nbb_cells.length; ++i) {\n",
       "                    if (nbb_cells[i].input_prompt_number == nbb_cell_id) {\n",
       "                        nbb_cells[i].set_text(nbb_formatted_code);\n",
       "                        break;\n",
       "                    }\n",
       "                }\n",
       "            }, 500);\n",
       "            "
      ],
      "text/plain": [
       "<IPython.core.display.Javascript object>"
      ]
     },
     "metadata": {},
     "output_type": "display_data"
    }
   ],
   "source": [
    "%%time\n",
    "# Passing rate pre-selection\n",
    "for k, v in all_samples.items():\n",
    "    v['daughters']['select']=v['daughters'].eval(query_select)\n",
    "    pass_rate = v[\"daughters\"]['select'].sum()/v['numentries']\n",
    "    print(\"{} pass rate\\t{:.2%}\".format(k,pass_rate))\n",
    "    \n",
    "    if k=='train':\n",
    "        for kind, name in {83: 'bnb', 81: 'lowe'}.items():\n",
    "            sig_mask = (v[\"mc\"]['sample']==kind) & v[\"mc\"]['nueccinc']\n",
    "            total_sig = v[\"mc\"][\"weightSplineTimesTune\"][sig_mask].sum()\n",
    "            pass_nuecc = v[\"daughters\"].query('select').query(\"sample==@kind & nueccinc\")['weightSplineTimesTune'].sum()/total_sig\n",
    "            print(\"\\t{}\\t{:.2%}\".format(name,pass_nuecc))\n",
    "    if k=='nu':\n",
    "        total_sig = v[\"mc\"][\"weightSplineTimesTune\"][v[\"mc\"][\"nueccinc\"]].sum()\n",
    "        pass_nuecc = v[\"daughters\"].query('select').query(\"nueccinc\")[\"weightSplineTimesTune\"].sum()/ total_sig\n",
    "        print(\"\\t{}\\t{:.2%}\".format(\"bnb\", pass_nuecc))"
   ]
  },
  {
   "cell_type": "code",
   "execution_count": 55,
   "metadata": {},
   "outputs": [
    {
     "name": "stdout",
     "output_type": "stream",
     "text": [
      "nuecc-purity: 52.3%\n",
      "data/MC: 0.701\n"
     ]
    },
    {
     "data": {
      "application/javascript": [
       "\n",
       "            setTimeout(function() {\n",
       "                var nbb_cell_id = 55;\n",
       "                var nbb_formatted_code = \"# purity\\npass_nuecc = (\\n    all_samples[\\\"nu\\\"][\\\"daughters\\\"]\\n    .query(\\\"nueccinc & select\\\")\\n    .eval(\\\"weightSplineTimesTune*event_scale\\\")\\n    .sum()\\n) * pot_scale\\npass_nu = (\\n    all_samples[\\\"nu\\\"][\\\"daughters\\\"]\\n    .query(\\\"select\\\")\\n    .eval(\\\"weightSplineTimesTune*event_scale\\\")\\n    .sum()\\n) * pot_scale\\npass_dirt = (\\n    all_samples[\\\"dirt\\\"][\\\"daughters\\\"]\\n    .query(\\\"select\\\")\\n    .eval(\\\"weightSplineTimesTune*event_scale\\\")\\n    .sum()\\n) * pot_scale\\npass_off = (\\n    all_samples[\\\"off\\\"][\\\"daughters\\\"][\\\"select\\\"].sum() * all_samples[\\\"off\\\"][\\\"scaling\\\"]\\n)\\npass_on = all_samples[\\\"on\\\"][\\\"daughters\\\"][\\\"select\\\"].sum()\\n\\nprint(\\\"nuecc-purity: {:.1%}\\\".format(pass_nuecc / (pass_nu + pass_dirt + pass_off)))\\nprint(\\\"data/MC: {:.3f}\\\".format((pass_on - pass_off) / (pass_nu + pass_dirt)))\";\n",
       "                var nbb_cells = Jupyter.notebook.get_cells();\n",
       "                for (var i = 0; i < nbb_cells.length; ++i) {\n",
       "                    if (nbb_cells[i].input_prompt_number == nbb_cell_id) {\n",
       "                        nbb_cells[i].set_text(nbb_formatted_code);\n",
       "                        break;\n",
       "                    }\n",
       "                }\n",
       "            }, 500);\n",
       "            "
      ],
      "text/plain": [
       "<IPython.core.display.Javascript object>"
      ]
     },
     "metadata": {},
     "output_type": "display_data"
    }
   ],
   "source": [
    "# purity\n",
    "pass_nuecc = (\n",
    "    all_samples[\"nu\"][\"daughters\"]\n",
    "    .query(\"nueccinc & select\")\n",
    "    .eval(\"weightSplineTimesTune*event_scale\")\n",
    "    .sum()\n",
    ") * pot_scale\n",
    "pass_nu = (\n",
    "    all_samples[\"nu\"][\"daughters\"]\n",
    "    .query(\"select\")\n",
    "    .eval(\"weightSplineTimesTune*event_scale\")\n",
    "    .sum()\n",
    ") * pot_scale\n",
    "pass_dirt = (\n",
    "    all_samples[\"dirt\"][\"daughters\"]\n",
    "    .query(\"select\")\n",
    "    .eval(\"weightSplineTimesTune*event_scale\")\n",
    "    .sum()\n",
    ") * pot_scale\n",
    "pass_off = (\n",
    "    all_samples[\"off\"][\"daughters\"][\"select\"].sum() * all_samples[\"off\"][\"scaling\"]\n",
    ")\n",
    "pass_on = all_samples[\"on\"][\"daughters\"][\"select\"].sum()\n",
    "\n",
    "print(\"nuecc-purity: {:.1%}\".format(pass_nuecc / (pass_nu + pass_dirt + pass_off)))\n",
    "print(\"data/MC: {:.3f}\".format((pass_on - pass_off) / (pass_nu + pass_dirt)))"
   ]
  },
  {
   "cell_type": "code",
   "execution_count": 56,
   "metadata": {
    "scrolled": false
   },
   "outputs": [
    {
     "name": "stdout",
     "output_type": "stream",
     "text": [
      "19\n"
     ]
    },
    {
     "data": {
      "text/html": [
       "<div>\n",
       "<style scoped>\n",
       "    .dataframe tbody tr th:only-of-type {\n",
       "        vertical-align: middle;\n",
       "    }\n",
       "\n",
       "    .dataframe tbody tr th {\n",
       "        vertical-align: top;\n",
       "    }\n",
       "\n",
       "    .dataframe thead th {\n",
       "        text-align: right;\n",
       "    }\n",
       "</style>\n",
       "<table border=\"1\" class=\"dataframe\">\n",
       "  <thead>\n",
       "    <tr style=\"text-align: right;\">\n",
       "      <th></th>\n",
       "      <th></th>\n",
       "      <th></th>\n",
       "      <th></th>\n",
       "      <th>run</th>\n",
       "      <th>sub</th>\n",
       "      <th>evt</th>\n",
       "      <th>score_event</th>\n",
       "    </tr>\n",
       "    <tr>\n",
       "      <th>sample</th>\n",
       "      <th>Run</th>\n",
       "      <th>event</th>\n",
       "      <th>daughter</th>\n",
       "      <th></th>\n",
       "      <th></th>\n",
       "      <th></th>\n",
       "      <th></th>\n",
       "    </tr>\n",
       "  </thead>\n",
       "  <tbody>\n",
       "    <tr>\n",
       "      <th rowspan=\"19\" valign=\"top\">1</th>\n",
       "      <th rowspan=\"7\" valign=\"top\">1</th>\n",
       "      <th>150697</th>\n",
       "      <th>0</th>\n",
       "      <td>5204</td>\n",
       "      <td>90</td>\n",
       "      <td>4508</td>\n",
       "      <td>0.870955</td>\n",
       "    </tr>\n",
       "    <tr>\n",
       "      <th>153242</th>\n",
       "      <th>0</th>\n",
       "      <td>5374</td>\n",
       "      <td>4</td>\n",
       "      <td>227</td>\n",
       "      <td>0.872512</td>\n",
       "    </tr>\n",
       "    <tr>\n",
       "      <th>121542</th>\n",
       "      <th>0</th>\n",
       "      <td>5360</td>\n",
       "      <td>0</td>\n",
       "      <td>45</td>\n",
       "      <td>0.880834</td>\n",
       "    </tr>\n",
       "    <tr>\n",
       "      <th>106429</th>\n",
       "      <th>0</th>\n",
       "      <td>5532</td>\n",
       "      <td>46</td>\n",
       "      <td>2304</td>\n",
       "      <td>0.883899</td>\n",
       "    </tr>\n",
       "    <tr>\n",
       "      <th>70390</th>\n",
       "      <th>0</th>\n",
       "      <td>5235</td>\n",
       "      <td>9</td>\n",
       "      <td>496</td>\n",
       "      <td>0.883988</td>\n",
       "    </tr>\n",
       "    <tr>\n",
       "      <th>103099</th>\n",
       "      <th>0</th>\n",
       "      <td>5197</td>\n",
       "      <td>8</td>\n",
       "      <td>412</td>\n",
       "      <td>0.888417</td>\n",
       "    </tr>\n",
       "    <tr>\n",
       "      <th>22624</th>\n",
       "      <th>0</th>\n",
       "      <td>5322</td>\n",
       "      <td>3</td>\n",
       "      <td>178</td>\n",
       "      <td>0.898488</td>\n",
       "    </tr>\n",
       "    <tr>\n",
       "      <th rowspan=\"2\" valign=\"top\">3</th>\n",
       "      <th>11206</th>\n",
       "      <th>0</th>\n",
       "      <td>14257</td>\n",
       "      <td>10</td>\n",
       "      <td>537</td>\n",
       "      <td>0.898488</td>\n",
       "    </tr>\n",
       "    <tr>\n",
       "      <th>6311</th>\n",
       "      <th>0</th>\n",
       "      <td>15222</td>\n",
       "      <td>177</td>\n",
       "      <td>8886</td>\n",
       "      <td>0.907114</td>\n",
       "    </tr>\n",
       "    <tr>\n",
       "      <th>1</th>\n",
       "      <th>24627</th>\n",
       "      <th>0</th>\n",
       "      <td>5729</td>\n",
       "      <td>121</td>\n",
       "      <td>6086</td>\n",
       "      <td>0.914777</td>\n",
       "    </tr>\n",
       "    <tr>\n",
       "      <th>3</th>\n",
       "      <th>5807</th>\n",
       "      <th>0</th>\n",
       "      <td>14772</td>\n",
       "      <td>92</td>\n",
       "      <td>4642</td>\n",
       "      <td>0.921667</td>\n",
       "    </tr>\n",
       "    <tr>\n",
       "      <th rowspan=\"8\" valign=\"top\">1</th>\n",
       "      <th>33725</th>\n",
       "      <th>0</th>\n",
       "      <td>5364</td>\n",
       "      <td>114</td>\n",
       "      <td>5740</td>\n",
       "      <td>0.931852</td>\n",
       "    </tr>\n",
       "    <tr>\n",
       "      <th>125484</th>\n",
       "      <th>0</th>\n",
       "      <td>5515</td>\n",
       "      <td>148</td>\n",
       "      <td>7402</td>\n",
       "      <td>0.959702</td>\n",
       "    </tr>\n",
       "    <tr>\n",
       "      <th>69058</th>\n",
       "      <th>0</th>\n",
       "      <td>5557</td>\n",
       "      <td>151</td>\n",
       "      <td>7582</td>\n",
       "      <td>0.965310</td>\n",
       "    </tr>\n",
       "    <tr>\n",
       "      <th>82766</th>\n",
       "      <th>0</th>\n",
       "      <td>5924</td>\n",
       "      <td>2</td>\n",
       "      <td>109</td>\n",
       "      <td>0.965441</td>\n",
       "    </tr>\n",
       "    <tr>\n",
       "      <th>78004</th>\n",
       "      <th>0</th>\n",
       "      <td>5161</td>\n",
       "      <td>8</td>\n",
       "      <td>447</td>\n",
       "      <td>0.977458</td>\n",
       "    </tr>\n",
       "    <tr>\n",
       "      <th>88438</th>\n",
       "      <th>0</th>\n",
       "      <td>5607</td>\n",
       "      <td>15</td>\n",
       "      <td>796</td>\n",
       "      <td>0.977656</td>\n",
       "    </tr>\n",
       "    <tr>\n",
       "      <th>141172</th>\n",
       "      <th>0</th>\n",
       "      <td>5444</td>\n",
       "      <td>1</td>\n",
       "      <td>87</td>\n",
       "      <td>0.986712</td>\n",
       "    </tr>\n",
       "    <tr>\n",
       "      <th>140429</th>\n",
       "      <th>0</th>\n",
       "      <td>5904</td>\n",
       "      <td>22</td>\n",
       "      <td>1128</td>\n",
       "      <td>0.988423</td>\n",
       "    </tr>\n",
       "  </tbody>\n",
       "</table>\n",
       "</div>"
      ],
      "text/plain": [
       "                              run  sub   evt  score_event\n",
       "sample Run event  daughter                               \n",
       "1      1   150697 0          5204   90  4508     0.870955\n",
       "           153242 0          5374    4   227     0.872512\n",
       "           121542 0          5360    0    45     0.880834\n",
       "           106429 0          5532   46  2304     0.883899\n",
       "           70390  0          5235    9   496     0.883988\n",
       "           103099 0          5197    8   412     0.888417\n",
       "           22624  0          5322    3   178     0.898488\n",
       "       3   11206  0         14257   10   537     0.898488\n",
       "           6311   0         15222  177  8886     0.907114\n",
       "       1   24627  0          5729  121  6086     0.914777\n",
       "       3   5807   0         14772   92  4642     0.921667\n",
       "       1   33725  0          5364  114  5740     0.931852\n",
       "           125484 0          5515  148  7402     0.959702\n",
       "           69058  0          5557  151  7582     0.965310\n",
       "           82766  0          5924    2   109     0.965441\n",
       "           78004  0          5161    8   447     0.977458\n",
       "           88438  0          5607   15   796     0.977656\n",
       "           141172 0          5444    1    87     0.986712\n",
       "           140429 0          5904   22  1128     0.988423"
      ]
     },
     "execution_count": 56,
     "metadata": {},
     "output_type": "execute_result"
    },
    {
     "data": {
      "application/javascript": [
       "\n",
       "            setTimeout(function() {\n",
       "                var nbb_cell_id = 56;\n",
       "                var nbb_formatted_code = \"# Unblinded selected events:\\nnp.savetxt(\\n    output_dir + \\\"events_nuecc_selected.txt\\\",\\n    all_samples[\\\"on\\\"][\\\"daughters\\\"]\\n    .query(\\\"(e_candidate & select)\\\")[[\\\"run\\\", \\\"sub\\\", \\\"evt\\\"]]\\n    .sort_values(by=[\\\"run\\\"]),\\n    fmt=\\\"%u\\\",\\n)\\nprint(len(all_samples[\\\"on\\\"][\\\"daughters\\\"].query(\\\"(e_candidate & select)\\\")))\\nall_samples[\\\"on\\\"][\\\"daughters\\\"].query(\\\"(e_candidate & select)\\\")[\\n    [\\\"run\\\", \\\"sub\\\", \\\"evt\\\", \\\"score_event\\\"]\\n].sort_values(by=[\\\"score_event\\\"])\";\n",
       "                var nbb_cells = Jupyter.notebook.get_cells();\n",
       "                for (var i = 0; i < nbb_cells.length; ++i) {\n",
       "                    if (nbb_cells[i].input_prompt_number == nbb_cell_id) {\n",
       "                        nbb_cells[i].set_text(nbb_formatted_code);\n",
       "                        break;\n",
       "                    }\n",
       "                }\n",
       "            }, 500);\n",
       "            "
      ],
      "text/plain": [
       "<IPython.core.display.Javascript object>"
      ]
     },
     "metadata": {},
     "output_type": "display_data"
    }
   ],
   "source": [
    "# Unblinded selected events:\n",
    "np.savetxt(\n",
    "    output_dir + \"events_nuecc_selected.txt\",\n",
    "    all_samples[\"on\"][\"daughters\"]\n",
    "    .query(\"(e_candidate & select)\")[[\"run\", \"sub\", \"evt\"]]\n",
    "    .sort_values(by=[\"run\"]),\n",
    "    fmt=\"%u\",\n",
    ")\n",
    "print(len(all_samples[\"on\"][\"daughters\"].query(\"(e_candidate & select)\")))\n",
    "all_samples[\"on\"][\"daughters\"].query(\"(e_candidate & select)\")[\n",
    "    [\"run\", \"sub\", \"evt\", \"score_event\"]\n",
    "].sort_values(by=[\"score_event\"])"
   ]
  },
  {
   "cell_type": "code",
   "execution_count": 57,
   "metadata": {},
   "outputs": [
    {
     "name": "stdout",
     "output_type": "stream",
     "text": [
      "114\n"
     ]
    },
    {
     "data": {
      "text/plain": [
       "1    114\n",
       "Name: Run, dtype: int64"
      ]
     },
     "execution_count": 57,
     "metadata": {},
     "output_type": "execute_result"
    },
    {
     "data": {
      "application/javascript": [
       "\n",
       "            setTimeout(function() {\n",
       "                var nbb_cell_id = 57;\n",
       "                var nbb_formatted_code = \"if \\\"sideband\\\" in all_samples:\\n    np.savetxt(\\n        output_dir + \\\"events_nuecc_selected_sideband.txt\\\",\\n        all_samples[\\\"sideband\\\"][\\\"daughters\\\"]\\n        .query(\\\"(e_candidate & select)\\\")[[\\\"run\\\", \\\"sub\\\", \\\"evt\\\"]]\\n        .sort_values(by=[\\\"run\\\"]),\\n        fmt=\\\"%u\\\",\\n    )\\n    print(len(all_samples[\\\"sideband\\\"][\\\"daughters\\\"].query(\\\"(e_candidate & select)\\\")))\\n\\nall_samples[\\\"sideband\\\"][\\\"daughters\\\"].query(\\n    \\\"(e_candidate & select)\\\"\\n).index.get_level_values(\\\"Run\\\").value_counts()\";\n",
       "                var nbb_cells = Jupyter.notebook.get_cells();\n",
       "                for (var i = 0; i < nbb_cells.length; ++i) {\n",
       "                    if (nbb_cells[i].input_prompt_number == nbb_cell_id) {\n",
       "                        nbb_cells[i].set_text(nbb_formatted_code);\n",
       "                        break;\n",
       "                    }\n",
       "                }\n",
       "            }, 500);\n",
       "            "
      ],
      "text/plain": [
       "<IPython.core.display.Javascript object>"
      ]
     },
     "metadata": {},
     "output_type": "display_data"
    }
   ],
   "source": [
    "if \"sideband\" in all_samples:\n",
    "    np.savetxt(\n",
    "        output_dir + \"events_nuecc_selected_sideband.txt\",\n",
    "        all_samples[\"sideband\"][\"daughters\"]\n",
    "        .query(\"(e_candidate & select)\")[[\"run\", \"sub\", \"evt\"]]\n",
    "        .sort_values(by=[\"run\"]),\n",
    "        fmt=\"%u\",\n",
    "    )\n",
    "    print(len(all_samples[\"sideband\"][\"daughters\"].query(\"(e_candidate & select)\")))\n",
    "\n",
    "all_samples[\"sideband\"][\"daughters\"].query(\n",
    "    \"(e_candidate & select)\"\n",
    ").index.get_level_values(\"Run\").value_counts()"
   ]
  },
  {
   "cell_type": "code",
   "execution_count": 58,
   "metadata": {},
   "outputs": [
    {
     "data": {
      "text/plain": [
       "<matplotlib.lines.Line2D at 0x7ffabe4db6d0>"
      ]
     },
     "execution_count": 58,
     "metadata": {},
     "output_type": "execute_result"
    },
    {
     "data": {
      "image/png": "[encoded data removed]",
      "text/plain": [
       "<Figure size 432x288 with 1 Axes>"
      ]
     },
     "metadata": {
      "needs_background": "light"
     },
     "output_type": "display_data"
    },
    {
     "data": {
      "application/javascript": [
       "\n",
       "            setTimeout(function() {\n",
       "                var nbb_cell_id = 58;\n",
       "                var nbb_formatted_code = \"all_samples[\\\"on\\\"][\\\"daughters\\\"].query(\\\"(e_candidate & preselect)\\\")[\\\"score_event\\\"].hist(\\n    range=(0.8, 1), bins=20\\n)\\nplt.axvline(x=cut_val, c=\\\"r\\\")\";\n",
       "                var nbb_cells = Jupyter.notebook.get_cells();\n",
       "                for (var i = 0; i < nbb_cells.length; ++i) {\n",
       "                    if (nbb_cells[i].input_prompt_number == nbb_cell_id) {\n",
       "                        nbb_cells[i].set_text(nbb_formatted_code);\n",
       "                        break;\n",
       "                    }\n",
       "                }\n",
       "            }, 500);\n",
       "            "
      ],
      "text/plain": [
       "<IPython.core.display.Javascript object>"
      ]
     },
     "metadata": {},
     "output_type": "display_data"
    }
   ],
   "source": [
    "all_samples[\"on\"][\"daughters\"].query(\"(e_candidate & preselect)\")[\"score_event\"].hist(\n",
    "    range=(0.8, 1), bins=20\n",
    ")\n",
    "plt.axvline(x=cut_val, c=\"r\")"
   ]
  },
  {
   "cell_type": "code",
   "execution_count": 59,
   "metadata": {},
   "outputs": [
    {
     "name": "stdout",
     "output_type": "stream",
     "text": [
      "e_candidate & ((run==5161 & sub==8 & evt==447) | (run==5360 & sub==0 & evt==45) | (run==5444 & sub==1 & evt==87) | (run==5583 & sub==13 & evt==692) | (run==5607 & sub==15 & evt==796) | (run==5729 & sub==121 & evt==6086) | (run==5197 & sub==8 & evt==412) | (run==5924 & sub==2 & evt==109) | (run==5904 & sub==22 & evt==1128) | (run==5364 & sub==114 & evt==5740) | (run==5326 & sub==92 & evt==4638) | (run==15222 & sub==177 & evt==8886) )\n"
     ]
    },
    {
     "data": {
      "text/html": [
       "<div>\n",
       "<style scoped>\n",
       "    .dataframe tbody tr th:only-of-type {\n",
       "        vertical-align: middle;\n",
       "    }\n",
       "\n",
       "    .dataframe tbody tr th {\n",
       "        vertical-align: top;\n",
       "    }\n",
       "\n",
       "    .dataframe thead th {\n",
       "        text-align: right;\n",
       "    }\n",
       "</style>\n",
       "<table border=\"1\" class=\"dataframe\">\n",
       "  <thead>\n",
       "    <tr style=\"text-align: right;\">\n",
       "      <th></th>\n",
       "      <th></th>\n",
       "      <th></th>\n",
       "      <th></th>\n",
       "      <th>run</th>\n",
       "      <th>evt</th>\n",
       "      <th>sub</th>\n",
       "      <th>score</th>\n",
       "      <th>score_event</th>\n",
       "      <th>shr_energy_y_v</th>\n",
       "      <th>shr_dist_v</th>\n",
       "      <th>shr_tkfit_4cm_dedx_wm_v</th>\n",
       "      <th>shr_tkfit_2cm_dedx_wm_v</th>\n",
       "      <th>shr_tkfit_dedx_y_v</th>\n",
       "      <th>shr_tkfit_2cm_dedx_Y</th>\n",
       "      <th>shr_tkfit_gap10_dedx_y_v</th>\n",
       "      <th>shr_moliere_avg_v</th>\n",
       "      <th>shr_tkfit_hitratio_v</th>\n",
       "      <th>shr_subclusters_v</th>\n",
       "      <th>secondshower_Y_nhit</th>\n",
       "      <th>contained_fraction</th>\n",
       "      <th>n_showers_contained</th>\n",
       "      <th>n_tracks_contained</th>\n",
       "    </tr>\n",
       "    <tr>\n",
       "      <th>sample</th>\n",
       "      <th>Run</th>\n",
       "      <th>event</th>\n",
       "      <th>daughter</th>\n",
       "      <th></th>\n",
       "      <th></th>\n",
       "      <th></th>\n",
       "      <th></th>\n",
       "      <th></th>\n",
       "      <th></th>\n",
       "      <th></th>\n",
       "      <th></th>\n",
       "      <th></th>\n",
       "      <th></th>\n",
       "      <th></th>\n",
       "      <th></th>\n",
       "      <th></th>\n",
       "      <th></th>\n",
       "      <th></th>\n",
       "      <th></th>\n",
       "      <th></th>\n",
       "      <th></th>\n",
       "      <th></th>\n",
       "    </tr>\n",
       "  </thead>\n",
       "  <tbody>\n",
       "    <tr>\n",
       "      <th rowspan=\"11\" valign=\"top\">1</th>\n",
       "      <th rowspan=\"10\" valign=\"top\">1</th>\n",
       "      <th>24627</th>\n",
       "      <th>0</th>\n",
       "      <td>5729</td>\n",
       "      <td>6086</td>\n",
       "      <td>121</td>\n",
       "      <td>0.889059</td>\n",
       "      <td>0.914777</td>\n",
       "      <td>828.802307</td>\n",
       "      <td>0.252549</td>\n",
       "      <td>2.333313</td>\n",
       "      <td>2.394586</td>\n",
       "      <td>2.309928</td>\n",
       "      <td>2.705014</td>\n",
       "      <td>2.052225</td>\n",
       "      <td>6.119995</td>\n",
       "      <td>0.220381</td>\n",
       "      <td>16</td>\n",
       "      <td>56</td>\n",
       "      <td>1.000000</td>\n",
       "      <td>1</td>\n",
       "      <td>2</td>\n",
       "    </tr>\n",
       "    <tr>\n",
       "      <th>33725</th>\n",
       "      <th>0</th>\n",
       "      <td>5364</td>\n",
       "      <td>5740</td>\n",
       "      <td>114</td>\n",
       "      <td>0.768728</td>\n",
       "      <td>0.931852</td>\n",
       "      <td>564.865784</td>\n",
       "      <td>0.887717</td>\n",
       "      <td>7.646756</td>\n",
       "      <td>6.690387</td>\n",
       "      <td>5.422145</td>\n",
       "      <td>7.249501</td>\n",
       "      <td>5.226874</td>\n",
       "      <td>11.169602</td>\n",
       "      <td>0.217914</td>\n",
       "      <td>13</td>\n",
       "      <td>3</td>\n",
       "      <td>1.000000</td>\n",
       "      <td>1</td>\n",
       "      <td>1</td>\n",
       "    </tr>\n",
       "    <tr>\n",
       "      <th>78004</th>\n",
       "      <th>0</th>\n",
       "      <td>5161</td>\n",
       "      <td>447</td>\n",
       "      <td>8</td>\n",
       "      <td>0.949668</td>\n",
       "      <td>0.977458</td>\n",
       "      <td>1026.401855</td>\n",
       "      <td>0.196993</td>\n",
       "      <td>1.586149</td>\n",
       "      <td>1.586677</td>\n",
       "      <td>1.804561</td>\n",
       "      <td>1.770237</td>\n",
       "      <td>1.804561</td>\n",
       "      <td>5.482877</td>\n",
       "      <td>0.148681</td>\n",
       "      <td>36</td>\n",
       "      <td>107</td>\n",
       "      <td>1.000000</td>\n",
       "      <td>1</td>\n",
       "      <td>1</td>\n",
       "    </tr>\n",
       "    <tr>\n",
       "      <th>82766</th>\n",
       "      <th>0</th>\n",
       "      <td>5924</td>\n",
       "      <td>109</td>\n",
       "      <td>2</td>\n",
       "      <td>0.965601</td>\n",
       "      <td>0.965441</td>\n",
       "      <td>2792.385254</td>\n",
       "      <td>2.679116</td>\n",
       "      <td>3.334459</td>\n",
       "      <td>4.077280</td>\n",
       "      <td>2.787252</td>\n",
       "      <td>2.787222</td>\n",
       "      <td>0.000000</td>\n",
       "      <td>2.810555</td>\n",
       "      <td>0.121281</td>\n",
       "      <td>37</td>\n",
       "      <td>15</td>\n",
       "      <td>0.725299</td>\n",
       "      <td>4</td>\n",
       "      <td>7</td>\n",
       "    </tr>\n",
       "    <tr>\n",
       "      <th>88438</th>\n",
       "      <th>0</th>\n",
       "      <td>5607</td>\n",
       "      <td>796</td>\n",
       "      <td>15</td>\n",
       "      <td>0.971672</td>\n",
       "      <td>0.977656</td>\n",
       "      <td>2004.926147</td>\n",
       "      <td>1.354943</td>\n",
       "      <td>3.795423</td>\n",
       "      <td>2.683938</td>\n",
       "      <td>9.049864</td>\n",
       "      <td>1.598152</td>\n",
       "      <td>5.694989</td>\n",
       "      <td>2.248685</td>\n",
       "      <td>0.095979</td>\n",
       "      <td>40</td>\n",
       "      <td>12</td>\n",
       "      <td>1.000000</td>\n",
       "      <td>2</td>\n",
       "      <td>2</td>\n",
       "    </tr>\n",
       "    <tr>\n",
       "      <th>103099</th>\n",
       "      <th>0</th>\n",
       "      <td>5197</td>\n",
       "      <td>412</td>\n",
       "      <td>8</td>\n",
       "      <td>0.815708</td>\n",
       "      <td>0.888417</td>\n",
       "      <td>1473.672974</td>\n",
       "      <td>0.564971</td>\n",
       "      <td>4.431895</td>\n",
       "      <td>3.401500</td>\n",
       "      <td>5.944706</td>\n",
       "      <td>4.198626</td>\n",
       "      <td>7.429641</td>\n",
       "      <td>6.182491</td>\n",
       "      <td>0.134700</td>\n",
       "      <td>46</td>\n",
       "      <td>17</td>\n",
       "      <td>1.000000</td>\n",
       "      <td>3</td>\n",
       "      <td>1</td>\n",
       "    </tr>\n",
       "    <tr>\n",
       "      <th>121542</th>\n",
       "      <th>0</th>\n",
       "      <td>5360</td>\n",
       "      <td>45</td>\n",
       "      <td>0</td>\n",
       "      <td>0.963039</td>\n",
       "      <td>0.880834</td>\n",
       "      <td>484.984344</td>\n",
       "      <td>0.789450</td>\n",
       "      <td>1.612558</td>\n",
       "      <td>1.612517</td>\n",
       "      <td>1.451203</td>\n",
       "      <td>1.451100</td>\n",
       "      <td>0.000000</td>\n",
       "      <td>2.323418</td>\n",
       "      <td>0.099071</td>\n",
       "      <td>9</td>\n",
       "      <td>4</td>\n",
       "      <td>0.495779</td>\n",
       "      <td>1</td>\n",
       "      <td>0</td>\n",
       "    </tr>\n",
       "    <tr>\n",
       "      <th>127754</th>\n",
       "      <th>0</th>\n",
       "      <td>5326</td>\n",
       "      <td>4638</td>\n",
       "      <td>92</td>\n",
       "      <td>0.572170</td>\n",
       "      <td>0.792501</td>\n",
       "      <td>106.817375</td>\n",
       "      <td>0.925742</td>\n",
       "      <td>2.149602</td>\n",
       "      <td>2.473957</td>\n",
       "      <td>2.082618</td>\n",
       "      <td>2.050381</td>\n",
       "      <td>2.270621</td>\n",
       "      <td>7.414455</td>\n",
       "      <td>0.648515</td>\n",
       "      <td>3</td>\n",
       "      <td>19</td>\n",
       "      <td>1.000000</td>\n",
       "      <td>1</td>\n",
       "      <td>2</td>\n",
       "    </tr>\n",
       "    <tr>\n",
       "      <th>140429</th>\n",
       "      <th>0</th>\n",
       "      <td>5904</td>\n",
       "      <td>1128</td>\n",
       "      <td>22</td>\n",
       "      <td>0.976275</td>\n",
       "      <td>0.988423</td>\n",
       "      <td>478.747345</td>\n",
       "      <td>0.593165</td>\n",
       "      <td>1.947023</td>\n",
       "      <td>1.906314</td>\n",
       "      <td>1.879645</td>\n",
       "      <td>1.834728</td>\n",
       "      <td>1.850422</td>\n",
       "      <td>4.740936</td>\n",
       "      <td>0.226027</td>\n",
       "      <td>27</td>\n",
       "      <td>7</td>\n",
       "      <td>1.000000</td>\n",
       "      <td>1</td>\n",
       "      <td>0</td>\n",
       "    </tr>\n",
       "    <tr>\n",
       "      <th>141172</th>\n",
       "      <th>0</th>\n",
       "      <td>5444</td>\n",
       "      <td>87</td>\n",
       "      <td>1</td>\n",
       "      <td>0.983844</td>\n",
       "      <td>0.986712</td>\n",
       "      <td>1146.877075</td>\n",
       "      <td>1.346684</td>\n",
       "      <td>5.480813</td>\n",
       "      <td>6.163762</td>\n",
       "      <td>6.934304</td>\n",
       "      <td>7.209081</td>\n",
       "      <td>1.961730</td>\n",
       "      <td>2.705384</td>\n",
       "      <td>0.192403</td>\n",
       "      <td>40</td>\n",
       "      <td>20</td>\n",
       "      <td>0.914894</td>\n",
       "      <td>5</td>\n",
       "      <td>2</td>\n",
       "    </tr>\n",
       "    <tr>\n",
       "      <th>3</th>\n",
       "      <th>6311</th>\n",
       "      <th>0</th>\n",
       "      <td>15222</td>\n",
       "      <td>8886</td>\n",
       "      <td>177</td>\n",
       "      <td>0.759441</td>\n",
       "      <td>0.907114</td>\n",
       "      <td>303.459595</td>\n",
       "      <td>3.650781</td>\n",
       "      <td>2.019120</td>\n",
       "      <td>2.139230</td>\n",
       "      <td>2.204308</td>\n",
       "      <td>1.921561</td>\n",
       "      <td>2.135227</td>\n",
       "      <td>4.276911</td>\n",
       "      <td>0.325726</td>\n",
       "      <td>5</td>\n",
       "      <td>8</td>\n",
       "      <td>1.000000</td>\n",
       "      <td>1</td>\n",
       "      <td>3</td>\n",
       "    </tr>\n",
       "  </tbody>\n",
       "</table>\n",
       "</div>"
      ],
      "text/plain": [
       "                              run   evt  sub     score  score_event  \\\n",
       "sample Run event  daughter                                            \n",
       "1      1   24627  0          5729  6086  121  0.889059     0.914777   \n",
       "           33725  0          5364  5740  114  0.768728     0.931852   \n",
       "           78004  0          5161   447    8  0.949668     0.977458   \n",
       "           82766  0          5924   109    2  0.965601     0.965441   \n",
       "           88438  0          5607   796   15  0.971672     0.977656   \n",
       "           103099 0          5197   412    8  0.815708     0.888417   \n",
       "           121542 0          5360    45    0  0.963039     0.880834   \n",
       "           127754 0          5326  4638   92  0.572170     0.792501   \n",
       "           140429 0          5904  1128   22  0.976275     0.988423   \n",
       "           141172 0          5444    87    1  0.983844     0.986712   \n",
       "       3   6311   0         15222  8886  177  0.759441     0.907114   \n",
       "\n",
       "                            shr_energy_y_v  shr_dist_v  \\\n",
       "sample Run event  daughter                               \n",
       "1      1   24627  0             828.802307    0.252549   \n",
       "           33725  0             564.865784    0.887717   \n",
       "           78004  0            1026.401855    0.196993   \n",
       "           82766  0            2792.385254    2.679116   \n",
       "           88438  0            2004.926147    1.354943   \n",
       "           103099 0            1473.672974    0.564971   \n",
       "           121542 0             484.984344    0.789450   \n",
       "           127754 0             106.817375    0.925742   \n",
       "           140429 0             478.747345    0.593165   \n",
       "           141172 0            1146.877075    1.346684   \n",
       "       3   6311   0             303.459595    3.650781   \n",
       "\n",
       "                            shr_tkfit_4cm_dedx_wm_v  shr_tkfit_2cm_dedx_wm_v  \\\n",
       "sample Run event  daughter                                                     \n",
       "1      1   24627  0                        2.333313                 2.394586   \n",
       "           33725  0                        7.646756                 6.690387   \n",
       "           78004  0                        1.586149                 1.586677   \n",
       "           82766  0                        3.334459                 4.077280   \n",
       "           88438  0                        3.795423                 2.683938   \n",
       "           103099 0                        4.431895                 3.401500   \n",
       "           121542 0                        1.612558                 1.612517   \n",
       "           127754 0                        2.149602                 2.473957   \n",
       "           140429 0                        1.947023                 1.906314   \n",
       "           141172 0                        5.480813                 6.163762   \n",
       "       3   6311   0                        2.019120                 2.139230   \n",
       "\n",
       "                            shr_tkfit_dedx_y_v  shr_tkfit_2cm_dedx_Y  \\\n",
       "sample Run event  daughter                                             \n",
       "1      1   24627  0                   2.309928              2.705014   \n",
       "           33725  0                   5.422145              7.249501   \n",
       "           78004  0                   1.804561              1.770237   \n",
       "           82766  0                   2.787252              2.787222   \n",
       "           88438  0                   9.049864              1.598152   \n",
       "           103099 0                   5.944706              4.198626   \n",
       "           121542 0                   1.451203              1.451100   \n",
       "           127754 0                   2.082618              2.050381   \n",
       "           140429 0                   1.879645              1.834728   \n",
       "           141172 0                   6.934304              7.209081   \n",
       "       3   6311   0                   2.204308              1.921561   \n",
       "\n",
       "                            shr_tkfit_gap10_dedx_y_v  shr_moliere_avg_v  \\\n",
       "sample Run event  daughter                                                \n",
       "1      1   24627  0                         2.052225           6.119995   \n",
       "           33725  0                         5.226874          11.169602   \n",
       "           78004  0                         1.804561           5.482877   \n",
       "           82766  0                         0.000000           2.810555   \n",
       "           88438  0                         5.694989           2.248685   \n",
       "           103099 0                         7.429641           6.182491   \n",
       "           121542 0                         0.000000           2.323418   \n",
       "           127754 0                         2.270621           7.414455   \n",
       "           140429 0                         1.850422           4.740936   \n",
       "           141172 0                         1.961730           2.705384   \n",
       "       3   6311   0                         2.135227           4.276911   \n",
       "\n",
       "                            shr_tkfit_hitratio_v  shr_subclusters_v  \\\n",
       "sample Run event  daughter                                            \n",
       "1      1   24627  0                     0.220381                 16   \n",
       "           33725  0                     0.217914                 13   \n",
       "           78004  0                     0.148681                 36   \n",
       "           82766  0                     0.121281                 37   \n",
       "           88438  0                     0.095979                 40   \n",
       "           103099 0                     0.134700                 46   \n",
       "           121542 0                     0.099071                  9   \n",
       "           127754 0                     0.648515                  3   \n",
       "           140429 0                     0.226027                 27   \n",
       "           141172 0                     0.192403                 40   \n",
       "       3   6311   0                     0.325726                  5   \n",
       "\n",
       "                            secondshower_Y_nhit  contained_fraction  \\\n",
       "sample Run event  daughter                                            \n",
       "1      1   24627  0                          56            1.000000   \n",
       "           33725  0                           3            1.000000   \n",
       "           78004  0                         107            1.000000   \n",
       "           82766  0                          15            0.725299   \n",
       "           88438  0                          12            1.000000   \n",
       "           103099 0                          17            1.000000   \n",
       "           121542 0                           4            0.495779   \n",
       "           127754 0                          19            1.000000   \n",
       "           140429 0                           7            1.000000   \n",
       "           141172 0                          20            0.914894   \n",
       "       3   6311   0                           8            1.000000   \n",
       "\n",
       "                            n_showers_contained  n_tracks_contained  \n",
       "sample Run event  daughter                                           \n",
       "1      1   24627  0                           1                   2  \n",
       "           33725  0                           1                   1  \n",
       "           78004  0                           1                   1  \n",
       "           82766  0                           4                   7  \n",
       "           88438  0                           2                   2  \n",
       "           103099 0                           3                   1  \n",
       "           121542 0                           1                   0  \n",
       "           127754 0                           1                   2  \n",
       "           140429 0                           1                   0  \n",
       "           141172 0                           5                   2  \n",
       "       3   6311   0                           1                   3  "
      ]
     },
     "execution_count": 59,
     "metadata": {},
     "output_type": "execute_result"
    },
    {
     "data": {
      "application/javascript": [
       "\n",
       "            setTimeout(function() {\n",
       "                var nbb_cell_id = 59;\n",
       "                var nbb_formatted_code = \"Run3_good = [(15222, 177, 8886)]\\nRun1_good = [\\n    (5161, 8, 447),\\n    (5360, 0, 45),\\n    (5444, 1, 87),\\n    (5583, 13, 692),\\n    (5607, 15, 796),\\n    (5729, 121, 6086),\\n    (5197, 8, 412),\\n    (5924, 2, 109),\\n    (5904, 22, 1128),\\n    (5364, 114, 5740),\\n    (5326, 92, 4638),\\n]\\nq_all_good = \\\"e_candidate & (\\\"\\nfor ev_good in Run1_good + Run3_good:\\n    q_all_good += \\\"(run=={} & sub=={} & evt=={}) | \\\".format(*ev_good)\\n\\nq_all_good = q_all_good[:-2] + \\\")\\\"\\nprint(q_all_good)\\nall_samples[\\\"on\\\"][\\\"daughters\\\"].query(q_all_good)[\\n    [\\n        \\\"run\\\",\\n        \\\"evt\\\",\\n        \\\"sub\\\",\\n        \\\"score\\\",\\n        \\\"score_event\\\",\\n        \\\"shr_energy_y_v\\\",\\n        \\\"shr_dist_v\\\",\\n        \\\"shr_tkfit_4cm_dedx_wm_v\\\",\\n        \\\"shr_tkfit_2cm_dedx_wm_v\\\",\\n        \\\"shr_tkfit_dedx_y_v\\\",\\n        \\\"shr_tkfit_2cm_dedx_Y\\\",\\n        \\\"shr_tkfit_gap10_dedx_y_v\\\",\\n        \\\"shr_moliere_avg_v\\\",\\n        \\\"shr_tkfit_hitratio_v\\\",\\n        \\\"shr_subclusters_v\\\",\\n        \\\"secondshower_Y_nhit\\\",\\n        \\\"contained_fraction\\\",\\n        \\\"n_showers_contained\\\",\\n        \\\"n_tracks_contained\\\",\\n    ]\\n]\";\n",
       "                var nbb_cells = Jupyter.notebook.get_cells();\n",
       "                for (var i = 0; i < nbb_cells.length; ++i) {\n",
       "                    if (nbb_cells[i].input_prompt_number == nbb_cell_id) {\n",
       "                        nbb_cells[i].set_text(nbb_formatted_code);\n",
       "                        break;\n",
       "                    }\n",
       "                }\n",
       "            }, 500);\n",
       "            "
      ],
      "text/plain": [
       "<IPython.core.display.Javascript object>"
      ]
     },
     "metadata": {},
     "output_type": "display_data"
    }
   ],
   "source": [
    "Run3_good = [(15222, 177, 8886)]\n",
    "Run1_good = [\n",
    "    (5161, 8, 447),\n",
    "    (5360, 0, 45),\n",
    "    (5444, 1, 87),\n",
    "    (5583, 13, 692),\n",
    "    (5607, 15, 796),\n",
    "    (5729, 121, 6086),\n",
    "    (5197, 8, 412),\n",
    "    (5924, 2, 109),\n",
    "    (5904, 22, 1128),\n",
    "    (5364, 114, 5740),\n",
    "    (5326, 92, 4638),\n",
    "]\n",
    "q_all_good = \"e_candidate & (\"\n",
    "for ev_good in Run1_good + Run3_good:\n",
    "    q_all_good += \"(run=={} & sub=={} & evt=={}) | \".format(*ev_good)\n",
    "\n",
    "q_all_good = q_all_good[:-2] + \")\"\n",
    "print(q_all_good)\n",
    "all_samples[\"on\"][\"daughters\"].query(q_all_good)[\n",
    "    [\n",
    "        \"run\",\n",
    "        \"evt\",\n",
    "        \"sub\",\n",
    "        \"score\",\n",
    "        \"score_event\",\n",
    "        \"shr_energy_y_v\",\n",
    "        \"shr_dist_v\",\n",
    "        \"shr_tkfit_4cm_dedx_wm_v\",\n",
    "        \"shr_tkfit_2cm_dedx_wm_v\",\n",
    "        \"shr_tkfit_dedx_y_v\",\n",
    "        \"shr_tkfit_2cm_dedx_Y\",\n",
    "        \"shr_tkfit_gap10_dedx_y_v\",\n",
    "        \"shr_moliere_avg_v\",\n",
    "        \"shr_tkfit_hitratio_v\",\n",
    "        \"shr_subclusters_v\",\n",
    "        \"secondshower_Y_nhit\",\n",
    "        \"contained_fraction\",\n",
    "        \"n_showers_contained\",\n",
    "        \"n_tracks_contained\",\n",
    "    ]\n",
    "]"
   ]
  },
  {
   "cell_type": "markdown",
   "metadata": {},
   "source": [
    "### Prepare frames for storage"
   ]
  },
  {
   "cell_type": "code",
   "execution_count": 60,
   "metadata": {},
   "outputs": [
    {
     "data": {
      "application/javascript": [
       "\n",
       "            setTimeout(function() {\n",
       "                var nbb_cell_id = 60;\n",
       "                var nbb_formatted_code = \"if write_output_to_pickle:\\n    del train\\n    gc.collect()\\n\\n    # Correct run period of the sideband sample\\\\n\\\",\\n    run2_a = 8316\\n    run2_b = 10000\\n    run3 = 13696\\n    all_samples[\\\"sideband\\\"][\\\"daughters\\\"].eval(\\n        \\\"Run = 1 + (run>@run2_a) + 0.5*(run>@run2_b) + 0.5*(run>@run3)\\\", inplace=True\\n    )\\n    print(\\n        all_samples[\\\"sideband\\\"][\\\"daughters\\\"]\\n        .query(\\\"select & reco_e>1.05 \\\")[\\\"Run\\\"]\\n        .value_counts()\\n        .sort_index()\\n    )\";\n",
       "                var nbb_cells = Jupyter.notebook.get_cells();\n",
       "                for (var i = 0; i < nbb_cells.length; ++i) {\n",
       "                    if (nbb_cells[i].input_prompt_number == nbb_cell_id) {\n",
       "                        nbb_cells[i].set_text(nbb_formatted_code);\n",
       "                        break;\n",
       "                    }\n",
       "                }\n",
       "            }, 500);\n",
       "            "
      ],
      "text/plain": [
       "<IPython.core.display.Javascript object>"
      ]
     },
     "metadata": {},
     "output_type": "display_data"
    }
   ],
   "source": [
    "if write_output_to_pickle:\n",
    "    del train\n",
    "    gc.collect()\n",
    "\n",
    "    # Correct run period of the sideband sample\\n\",\n",
    "    run2_a = 8316\n",
    "    run2_b = 10000\n",
    "    run3 = 13696\n",
    "    all_samples[\"sideband\"][\"daughters\"].eval(\n",
    "        \"Run = 1 + (run>@run2_a) + 0.5*(run>@run2_b) + 0.5*(run>@run3)\", inplace=True\n",
    "    )\n",
    "    print(\n",
    "        all_samples[\"sideband\"][\"daughters\"]\n",
    "        .query(\"select & reco_e>1.05 \")[\"Run\"]\n",
    "        .value_counts()\n",
    "        .sort_index()\n",
    "    )"
   ]
  },
  {
   "cell_type": "code",
   "execution_count": 61,
   "metadata": {},
   "outputs": [
    {
     "data": {
      "application/javascript": [
       "\n",
       "            setTimeout(function() {\n",
       "                var nbb_cell_id = 61;\n",
       "                var nbb_formatted_code = \"if write_output_to_pickle:\\n    for sample in list(all_samples.keys()):\\n        if sample not in plot_samples:\\n            del all_samples[sample]\\n    pickle_out = open(input_dir + \\\"after_training.pckl\\\", \\\"wb\\\")\\n    pickle.dump(all_samples, pickle_out)\\n    pickle_out.close()\";\n",
       "                var nbb_cells = Jupyter.notebook.get_cells();\n",
       "                for (var i = 0; i < nbb_cells.length; ++i) {\n",
       "                    if (nbb_cells[i].input_prompt_number == nbb_cell_id) {\n",
       "                        nbb_cells[i].set_text(nbb_formatted_code);\n",
       "                        break;\n",
       "                    }\n",
       "                }\n",
       "            }, 500);\n",
       "            "
      ],
      "text/plain": [
       "<IPython.core.display.Javascript object>"
      ]
     },
     "metadata": {},
     "output_type": "display_data"
    }
   ],
   "source": [
    "if write_output_to_pickle:\n",
    "    for sample in list(all_samples.keys()):\n",
    "        if sample not in plot_samples:\n",
    "            del all_samples[sample]\n",
    "    pickle_out = open(input_dir + \"after_training.pckl\", \"wb\")\n",
    "    pickle.dump(all_samples, pickle_out)\n",
    "    pickle_out.close()"
   ]
  },
  {
   "cell_type": "markdown",
   "metadata": {},
   "source": [
    "### Plots"
   ]
  },
  {
   "cell_type": "code",
   "execution_count": 62,
   "metadata": {
    "scrolled": false
   },
   "outputs": [
    {
     "data": {
      "image/png": "[encoded data removed]",
      "text/plain": [
       "<Figure size 576x288 with 2 Axes>"
      ]
     },
     "metadata": {
      "needs_background": "light"
     },
     "output_type": "display_data"
    },
    {
     "data": {
      "application/javascript": [
       "\n",
       "            setTimeout(function() {\n",
       "                var nbb_cell_id = 62;\n",
       "                var nbb_formatted_code = \"fig, ax = plt.subplots(ncols=2, figsize=(8, 4))\\n\\nax[0].hist(\\n    all_samples[\\\"nu\\\"][\\\"daughters\\\"]\\n    .query(\\\"nueccinc\\\")[\\\"true_vtx_distance\\\"]\\n    .xs(0, level=\\\"daughter\\\"),\\n    bins=50,\\n    range=(0, 5),\\n    label=\\\"|true_nu_vtx - reco_nu_vtx_sce|\\\",\\n    alpha=0.7,\\n)\\nax[0].set_xlabel(\\\"Neutrino vertex distance [cm]\\\")\\nax[0].set_title(r\\\"$\\\\nu_e$ CC Inclusive\\\", loc=\\\"left\\\")\\nax[0].set_title(\\\"Run3 Overlay\\\", loc=\\\"right\\\")\\nax[0].legend()\\n\\nreco_nu_vtx_sce_x = (\\n    all_samples[\\\"nu\\\"][\\\"daughters\\\"]\\n    .query(\\\"nueccinc\\\")\\n    .xs(0, level=\\\"daughter\\\")[\\\"reco_nu_vtx_sce_x\\\"]\\n)\\ntrue_nu_vtx_x = all_samples[\\\"nu\\\"][\\\"mc\\\"][\\\"true_nu_vtx_x\\\"][\\n    (all_samples[\\\"nu\\\"][\\\"mc\\\"][\\\"nueccinc\\\"] > 0) & (all_samples[\\\"nu\\\"][\\\"mc\\\"][\\\"n_pfps\\\"] > 0)\\n]\\nax[1].hist(\\n    true_nu_vtx_x + x_sce_magic - reco_nu_vtx_sce_x,\\n    bins=51,\\n    range=(-2, 2),\\n    label=\\\"|true_nu_vtx - reco_nu_vtx_sce|\\\",\\n    alpha=0.7,\\n)\\n\\nax[1].set_xlabel(\\\"Neutrino vertex distance x-coordinate [cm]\\\")\\nax[1].set_title(r\\\"$\\\\nu_e$ CC Inclusive\\\", loc=\\\"left\\\")\\nax[1].set_title(\\\"Run3 Overlay\\\", loc=\\\"right\\\")\\nax[1].set_ylim(0, ax[1].get_ylim()[1] * 1.25)\\nax[1].legend()\\n\\nfig.tight_layout()\\nfig.savefig(output_dir + \\\"vtx_distance.pdf\\\")\";\n",
       "                var nbb_cells = Jupyter.notebook.get_cells();\n",
       "                for (var i = 0; i < nbb_cells.length; ++i) {\n",
       "                    if (nbb_cells[i].input_prompt_number == nbb_cell_id) {\n",
       "                        nbb_cells[i].set_text(nbb_formatted_code);\n",
       "                        break;\n",
       "                    }\n",
       "                }\n",
       "            }, 500);\n",
       "            "
      ],
      "text/plain": [
       "<IPython.core.display.Javascript object>"
      ]
     },
     "metadata": {},
     "output_type": "display_data"
    }
   ],
   "source": [
    "fig, ax = plt.subplots(ncols=2, figsize=(8, 4))\n",
    "\n",
    "ax[0].hist(\n",
    "    all_samples[\"nu\"][\"daughters\"]\n",
    "    .query(\"nueccinc\")[\"true_vtx_distance\"]\n",
    "    .xs(0, level=\"daughter\"),\n",
    "    bins=50,\n",
    "    range=(0, 5),\n",
    "    label=\"|true_nu_vtx - reco_nu_vtx_sce|\",\n",
    "    alpha=0.7,\n",
    ")\n",
    "ax[0].set_xlabel(\"Neutrino vertex distance [cm]\")\n",
    "ax[0].set_title(r\"$\\nu_e$ CC Inclusive\", loc=\"left\")\n",
    "ax[0].set_title(\"Run3 Overlay\", loc=\"right\")\n",
    "ax[0].legend()\n",
    "\n",
    "reco_nu_vtx_sce_x = (\n",
    "    all_samples[\"nu\"][\"daughters\"]\n",
    "    .query(\"nueccinc\")\n",
    "    .xs(0, level=\"daughter\")[\"reco_nu_vtx_sce_x\"]\n",
    ")\n",
    "true_nu_vtx_x = all_samples[\"nu\"][\"mc\"][\"true_nu_vtx_x\"][\n",
    "    (all_samples[\"nu\"][\"mc\"][\"nueccinc\"] > 0) & (all_samples[\"nu\"][\"mc\"][\"n_pfps\"] > 0)\n",
    "]\n",
    "ax[1].hist(\n",
    "    true_nu_vtx_x + x_sce_magic - reco_nu_vtx_sce_x,\n",
    "    bins=51,\n",
    "    range=(-2, 2),\n",
    "    label=\"|true_nu_vtx - reco_nu_vtx_sce|\",\n",
    "    alpha=0.7,\n",
    ")\n",
    "\n",
    "ax[1].set_xlabel(\"Neutrino vertex distance x-coordinate [cm]\")\n",
    "ax[1].set_title(r\"$\\nu_e$ CC Inclusive\", loc=\"left\")\n",
    "ax[1].set_title(\"Run3 Overlay\", loc=\"right\")\n",
    "ax[1].set_ylim(0, ax[1].get_ylim()[1] * 1.25)\n",
    "ax[1].legend()\n",
    "\n",
    "fig.tight_layout()\n",
    "fig.savefig(output_dir + \"vtx_distance.pdf\")"
   ]
  }
 ],
 "metadata": {
  "kernelspec": {
   "display_name": "uproot env",
   "language": "python",
   "name": "uproot"
  },
  "language_info": {
   "codemirror_mode": {
    "name": "ipython",
    "version": 3
   },
   "file_extension": ".py",
   "mimetype": "text/x-python",
   "name": "python",
   "nbconvert_exporter": "python",
   "pygments_lexer": "ipython3",
   "version": "3.7.7"
  }
 },
 "nbformat": 4,
 "nbformat_minor": 2
}
