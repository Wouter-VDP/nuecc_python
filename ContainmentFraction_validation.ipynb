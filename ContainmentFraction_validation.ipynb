{
 "cells": [
  {
   "cell_type": "code",
   "execution_count": 1,
   "metadata": {},
   "outputs": [],
   "source": [
    "import matplotlib.pyplot as plt\n",
    "import numpy as np\n",
    "import pandas as pd"
   ]
  },
  {
   "cell_type": "code",
   "execution_count": 2,
   "metadata": {},
   "outputs": [],
   "source": [
    "nu_data = pd.read_pickle(\"./input/Jun2020/after_training.pckl\")['nu']\n"
   ]
  },
  {
   "cell_type": "code",
   "execution_count": 12,
   "metadata": {},
   "outputs": [
    {
     "data": {
      "text/plain": [
       "array([0.        , 0.        , 0.        , ..., 0.3863498 , 0.48812795,\n",
       "       0.18150464], dtype=float32)"
      ]
     },
     "execution_count": 12,
     "metadata": {},
     "output_type": "execute_result"
    }
   ],
   "source": [
    "nu_data['mc']['mc_E'][nu_data['mc']['mc_pdg']==111].max().clip(0,3)"
   ]
  },
  {
   "cell_type": "code",
   "execution_count": 55,
   "metadata": {},
   "outputs": [],
   "source": [
    "lee = nu_data['daughters'].query('leeweight>0.0001')\n",
    "del nu_data['daughters']\n",
    "\n",
    "query = 'reco_e>0.65 &\\\n",
    "         n_showers_contained>0 &\\\n",
    "         shr_energy_y_v>70 &\\\n",
    "         trk_score_v<0.3 &\\\n",
    "         optical_filter'"
   ]
  },
  {
   "cell_type": "code",
   "execution_count": 56,
   "metadata": {
    "scrolled": false
   },
   "outputs": [
    {
     "data": {
      "image/png": "[encoded data removed]",
      "text/plain": [
       "<Figure size 432x288 with 1 Axes>"
      ]
     },
     "metadata": {
      "needs_background": "light"
     },
     "output_type": "display_data"
    }
   ],
   "source": [
    "all_lee = lee.query(query).query('contained_fraction<=1')\\\n",
    "                            .eval('event_scale*leeweight')\\\n",
    "                            .sum()\n",
    "added_lee = lee.query(query).query('contained_fraction<=0.9')\\\n",
    "                            .eval('event_scale*leeweight')\\\n",
    "                            .sum()\n",
    "fig, ax = plt.subplots()\n",
    "\n",
    "ax.hist(lee.query(query).eval('contained_fraction'), \n",
    "        bins=50, \n",
    "        range=(0,1), \n",
    "        label = 'Total LEE events: {:.2f}'.format(all_lee), \n",
    "        weights=lee.query(query).eval('event_scale*leeweight'))\n",
    "ax.axvspan(0.0,0.9,\n",
    "           label='Additonal region: {:.2f}'.format(added_lee), \n",
    "           alpha=0.1, color='g')\n",
    "ax.legend()\n",
    "ax.set_title('number of LEE events per 1e21 POT')\n",
    "ax.set_xlabel('contained_fraction')\n",
    "ax.set_ylabel('number of LEE events per 1e21 POT')\n",
    "fig.savefig('contained_fraction_relax.pdf')"
   ]
  },
  {
   "cell_type": "code",
   "execution_count": null,
   "metadata": {},
   "outputs": [],
   "source": []
  }
 ],
 "metadata": {
  "kernelspec": {
   "display_name": "uproot env",
   "language": "python",
   "name": "uproot"
  },
  "language_info": {
   "codemirror_mode": {
    "name": "ipython",
    "version": 3
   },
   "file_extension": ".py",
   "mimetype": "text/x-python",
   "name": "python",
   "nbconvert_exporter": "python",
   "pygments_lexer": "ipython3",
   "version": "3.7.7"
  }
 },
 "nbformat": 4,
 "nbformat_minor": 4
}
