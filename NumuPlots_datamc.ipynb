{
 "cells": [
  {
   "cell_type": "markdown",
   "metadata": {},
   "source": [
    "#### Input"
   ]
  },
  {
   "cell_type": "code",
   "execution_count": 1,
   "metadata": {},
   "outputs": [],
   "source": [
    "%load_ext autoreload\n",
    "%autoreload 2\n",
    "import pickle\n",
    "import numpy as np\n",
    "import pandas as pd\n",
    "import matplotlib.pyplot as plt\n",
    "\n",
    "from helpers import plot_class\n",
    "from helpers import helpfunction as helper\n",
    "import numu_selection_helper as numu_helper"
   ]
  },
  {
   "cell_type": "code",
   "execution_count": 2,
   "metadata": {},
   "outputs": [],
   "source": [
    "# Matplotlib help\n",
    "import matplotlib\n",
    "matplotlib.rcParams.update({'font.size': 13})\n",
    "plt.rcParams.update({\"axes.titlesize\": \"medium\"})\n",
    "plt_h = 4.65\n",
    "\n",
    "\n",
    "def get_fig(ncols, nleg):\n",
    "    fig, ax = plt.subplots(\n",
    "        ncols=ncols,\n",
    "        nrows=2,\n",
    "        figsize=(3.5 * ncols + 2 * nleg, plt_h),\n",
    "        gridspec_kw={\"height_ratios\": [3, 1]},\n",
    "        constrained_layout=True,\n",
    "        squeeze=False\n",
    "    )\n",
    "    return fig, ax"
   ]
  },
  {
   "cell_type": "markdown",
   "metadata": {},
   "source": [
    "#### Constants"
   ]
  },
  {
   "cell_type": "code",
   "execution_count": 3,
   "metadata": {},
   "outputs": [],
   "source": [
    "write_pickle = True\n",
    "input_dir = \"/home/nic/Desktop/MicroBooNE/bnb_nue_analysis/wvdp/\"\n",
    "output_dir = \"/home/nic/Dropbox/MicroBooNE/_fig/numuCC_exclusive/\"\n",
    "plot_samples = {\"dirt\", \"on\", \"off\", \"nu\"}"
   ]
  },
  {
   "cell_type": "code",
   "execution_count": 4,
   "metadata": {},
   "outputs": [
    {
     "name": "stdout",
     "output_type": "stream",
     "text": [
      "['after_reducing.pckl', 'dirt_slimmed.pckl', 'beam_off_slimmed.pckl', 'after_training.pckl', 'nu_new_slimmed.pckl', 'beam_on_slimmed.pckl']\n",
      "Finished off (beam_off_slimmed.pckl), took 9.0 seconds.\n",
      "Finished dirt (dirt_slimmed.pckl), took 1.9 seconds.\n",
      "Finished on (beam_on_slimmed.pckl), took 0.9 seconds.\n"
     ]
    },
    {
     "name": "stderr",
     "output_type": "stream",
     "text": [
      "/home/nic/.local/lib/python3.7/site-packages/IPython/core/interactiveshell.py:3049: PerformanceWarning: indexing past lexsort depth may impact performance.\n",
      "  interactivity=interactivity, compiler=compiler, result=result)\n",
      "/home/nic/.local/lib/python3.7/site-packages/IPython/core/interactiveshell.py:3049: PerformanceWarning: indexing past lexsort depth may impact performance.\n",
      "  interactivity=interactivity, compiler=compiler, result=result)\n"
     ]
    },
    {
     "name": "stdout",
     "output_type": "stream",
     "text": [
      "Finished nu (nu_new_slimmed.pckl), took 179.6 seconds.\n"
     ]
    }
   ],
   "source": [
    "if write_pickle:\n",
    "    # Load Samples, takes a minute or two\n",
    "    numu_helper.CreateAfterTraining(plot_samples, input_dir, one_file=True)"
   ]
  },
  {
   "cell_type": "code",
   "execution_count": 5,
   "metadata": {
    "tags": []
   },
   "outputs": [
    {
     "name": "stdout",
     "output_type": "stream",
     "text": [
      "Unblinded sample\n",
      "on {'EXT': 273984645}\n"
     ]
    }
   ],
   "source": [
    "sideband = False\n",
    "run12 = False\n",
    "run3 = False\n",
    "fake = False\n",
    "\n",
    "pot_dict = {}\n",
    "master_query = \"optical_filter\"\n",
    "title_str = ''\n",
    "\n",
    "if not run12 + run3 + sideband + fake:\n",
    "    full_sample = True\n",
    "    print('Unblinded sample')\n",
    "    beam_on = \"on\"\n",
    "    pot_dict['EXT'] = helper.pot_dict['ext']\n",
    "    \n",
    "elif (run12 + run3 + sideband)==1:\n",
    "    full_sample = False\n",
    "    title_str = r\"Reconstructed $\\nu_e$ Energy > 0.9 GeV\"\n",
    "    plt_h = 4.85 # slightly higher plots when title is 2 lines\n",
    "    beam_on = 'sideband'\n",
    "    master_query = (\n",
    "        \"reco_e>0.9\"\n",
    "    )\n",
    "    if run12:\n",
    "        pot_dict = helper.pot_dict['sideband12']\n",
    "        pot_dict['EXT'] = helper.pot_dict['ext12']\n",
    "        master_query+= ' & (Run<3 | (sample!=2 & sample!=9))'\n",
    "        \n",
    "    elif run3:\n",
    "        pot_dict = helper.pot_dict['sideband3']\n",
    "        pot_dict['EXT'] = helper.pot_dict['ext3']\n",
    "        master_query+= ' & (Run==3 | (sample!=2 & sample!=9))'\n",
    "    elif sideband:\n",
    "        pot_dict = helper.pot_dict['sideband']\n",
    "        pot_dict['EXT'] = helper.pot_dict['ext']\n",
    "    else:\n",
    "        print('Not possible!')\n",
    "elif fake:\n",
    "    full_sample = True\n",
    "    title_str = r\"Fake data-set 1\"\n",
    "    plt_h = 4.85 # slightly higher plots when title is 2 lines\n",
    "    beam_on = 'fake'\n",
    "    pot_dict = helper.pot_dict['fake']\n",
    "else:\n",
    "    print('Not possible!')\n",
    "print(beam_on,pot_dict)"
   ]
  },
  {
   "cell_type": "code",
   "execution_count": 6,
   "metadata": {},
   "outputs": [],
   "source": [
    "input_file = input_dir + \"after_reducing.pckl\""
   ]
  },
  {
   "cell_type": "code",
   "execution_count": 7,
   "metadata": {
    "tags": []
   },
   "outputs": [
    {
     "name": "stdout",
     "output_type": "stream",
     "text": [
      "Using the spline weights as in MCC9.1 Genie V3 tune 1\n",
      "All plots are scaled to 4.84e+19 POT, Beam_on data corresponds to 4.84e+19 POT\n",
      "Loaded all daughter dataframes.\n",
      "Started loading systematic weights.\n",
      "\n",
      "Loaded all universes for weightsFlux.\n",
      "Loaded all universes for weightsGenie.\n",
      "Initialisation completed!\n",
      "CPU times: user 13.3 s, sys: 42.4 s, total: 55.7 s\n",
      "Wall time: 1min 2s\n"
     ]
    }
   ],
   "source": [
    "%%time\n",
    "plotter = plot_class.Plotter(\n",
    "    input_file,\n",
    "    signal=\"numu\",\n",
    "    genie_version=\"mcc9.1\",\n",
    "    beam_on=beam_on,\n",
    "    pot_dict=pot_dict,\n",
    "    master_query=master_query,\n",
    "    load_syst=[\"weightsFlux\", \"weightsGenie\"],\n",
    "    show_lee=False,\n",
    "    pi0_scaling=False\n",
    ")"
   ]
  },
  {
   "cell_type": "code",
   "execution_count": 8,
   "metadata": {
    "scrolled": true,
    "tags": []
   },
   "outputs": [
    {
     "name": "stdout",
     "output_type": "stream",
     "text": [
      "{'weightSplineTimesTune', 'backtracked_start_x', 'numu_ev_considered', 'backtracked_overlay_purity', 'trk_theta_v', 'npi0', 'trk_score_v', 'all_end_contained', 'secondshower_Y_nhit', 'nmuon', 'reco_nu_vtx_y', 'n_tracks', 'hits_ratio', 'npion', 'CosmicIPAll3D', 'contained_fraction', 'backtracked_purity', 'backtracked_py', 'leeweight', 'slpdg', 'pfp_shr_daughters_v', 'trk_llr_pid_score_v', 'backtracked_start_y', 'nproton', 'interaction', 'muon_candidate', 'CosmicDirAll3D', 'backtracked_px', 'event_scale', 'n_showers_contained', 'non_muon_cand_minll', 'n_showers', 'muon_candidate_no_pid', 'pfp_trk_daughters_v', 'evt', 'optical_filter', 'n_mu_cand', 'run', 'pfp_generation_v', 'merge_bestdist', 'reco_e', 'true_fid_vol', 'backtracked_e', 'nueccinc', 'nu_pdg', 'trk_phi_v', 'all_start_contained', 'topological_score', 'ismerged', 'reco_nu_vtx_sce_y', 'true_vtx_distance', 'backtracked_start_z', 'nu_e', 'trk_len_v', 'reco_nu_vtx_x', 'non_muon_cand_maxll', 'nelec', 'pfnhits', 'sub', 'weightSplineTimesTune_pi0scaled', 'ccnc', 'is_trk_at_vtx', 'SliceCaloEnergy2', 'trk_at_vtx', 'n_pfps', 'NeutrinoEnergy2', 'numu_ev_selected', 'nu_purity_from_pfp', 'reco_nu_vtx_sce_x', 'backtracked_pz', 'reco_fid_vol', 'category', 'backtracked_pdg', 'reco_nu_vtx_z', 'merge_bestdot', 'reco_nu_vtx_sce_z', 'n_tracks_contained', 'backtracked_completeness'}\n"
     ]
    }
   ],
   "source": [
    "print(plotter.keys)"
   ]
  },
  {
   "cell_type": "code",
   "execution_count": 9,
   "metadata": {
    "tags": []
   },
   "outputs": [
    {
     "name": "stdout",
     "output_type": "stream",
     "text": [
      "MicroBooNE 4.8e19$\\,$POT, Internal\n"
     ]
    }
   ],
   "source": [
    "print(plotter.title_str)"
   ]
  },
  {
   "cell_type": "code",
   "execution_count": 10,
   "metadata": {},
   "outputs": [],
   "source": [
    "plotter.title_str = r'MicroBooNE 4.84 $\\times 10^{{19}}\\,$POT'"
   ]
  },
  {
   "cell_type": "markdown",
   "metadata": {},
   "source": [
    "### Plots"
   ]
  },
  {
   "cell_type": "markdown",
   "metadata": {},
   "source": [
    "#### Data/MC comparison"
   ]
  },
  {
   "cell_type": "code",
   "execution_count": 11,
   "metadata": {},
   "outputs": [
    {
     "name": "stdout",
     "output_type": "stream",
     "text": [
      "MC category: $p$: 631. \t#entries 113229\n",
      "MC category: $\\mu$: 1941. \t#entries 218835\n",
      "MC category: $e$: 1.9 \t#entries 3265\n",
      "MC category: $\\pi^{\\pm}$: 222. \t#entries 78968\n",
      "MC category: Cosmic: 556. \t#entries 53690\n",
      "Calculating ratio and purity\n"
     ]
    },
    {
     "name": "stderr",
     "output_type": "stream",
     "text": [
      "/home/nic/Dropbox/MicroBooNE/bnb_nue_analysis/nuecc_python/helpers/plot_class.py:470: RuntimeWarning: divide by zero encountered in true_divide\n",
      "  3 / (1 / beam_on_bins + 2 / prediction),\n"
     ]
    },
    {
     "data": {
      "text/plain": [
       "<matplotlib.legend.Legend at 0x7f9ebf110390>"
      ]
     },
     "execution_count": 11,
     "metadata": {},
     "output_type": "execute_result"
    },
    {
     "data": {
      "image/png": "[encoded data removed]",
      "text/plain": [
       "<Figure size 396x334.8 with 2 Axes>"
      ]
     },
     "metadata": {
      "needs_background": "light"
     },
     "output_type": "display_data"
    }
   ],
   "source": [
    "# first track\n",
    "fig, ax = get_fig(1,1)\n",
    "\n",
    "ratio, purity, ks_p, cnp, text_loc = plotter.plot_panel_data_mc(\n",
    "    ax.T[0],\n",
    "    \"trk_llr_pid_score_v\",\n",
    "    \"Track PID\",\n",
    "    N_bins=25,\n",
    "    x_min=-1,\n",
    "    x_max=1,\n",
    "    query=\"numu_ev_considered & muon_candidate_no_pid\",\n",
    "    legend=True,\n",
    "    title_str=\"Muon Candidate\",\n",
    "    kind=\"pdg\",\n",
    "    y_max_scaler= 1.15,\n",
    "    legend_in=True,\n",
    ")\n",
    "plot_class.add_text(ax[0][0], [ratio,None,None,None], text_loc)\n",
    "\n",
    "handles, labels = ax[0][0].get_legend_handles_labels()\n",
    "labels_dict = dict(\n",
    "    zip(('BNB On', 'Cosmic', '$\\\\pi^{\\\\pm}$', '$\\\\mu$', '$p$', 'BNB Off'),\n",
    "        ('DATA Beam ON', 'cosmic', 'pion', 'muon', 'proton', 'DATA Beam OFF'))\n",
    "    )\n",
    "new_handles = []\n",
    "new_labels = []\n",
    "for i, (h, l) in enumerate(zip(handles, labels)):\n",
    "    if '$e$' in l:\n",
    "        continue\n",
    "    else:\n",
    "        new_handles.append(h)\n",
    "        new_labels.append(labels_dict[l.split(\":\", 1)[0]])\n",
    "new_handles = [new_handles[0]] + new_handles[1:][::-1]\n",
    "new_labels = [new_labels[0]] + new_labels[1:][::-1]\n",
    "ax[0][0].legend(new_handles, new_labels, loc=\"upper left\", frameon=False)\n",
    "\n",
    "# fig.savefig(output_dir + \"muon_candidate_pid_pdg.pdf\", bbox_inches=\"tight\")\n",
    "\n",
    "\n",
    "# fig, ax = get_fig(1,1)\n",
    "\n",
    "# ratio, purity, ks_p, cnp, text_loc = plotter.plot_panel_data_mc(\n",
    "#     ax.T[0],\n",
    "#     \"trk_llr_pid_score_v\",\n",
    "#     \"Track PID\",\n",
    "#     N_bins=25,\n",
    "#     x_min=-1,\n",
    "#     x_max=1,\n",
    "#     query=\"numu_ev_considered & muon_candidate_no_pid\",\n",
    "#     legend=True,\n",
    "#     title_str=\"\",\n",
    "#     kind=\"cat\",\n",
    "#     y_max_scaler= 1.15\n",
    "# )\n",
    "# plot_class.add_text(ax[0][0], [ratio,None,None,None], text_loc)\n",
    "\n",
    "# fig.savefig(output_dir + \"muon_candidate_pid_cat.pdf\", bbox_inches=\"tight\")"
   ]
  },
  {
   "cell_type": "code",
   "execution_count": 15,
   "metadata": {},
   "outputs": [
    {
     "data": {
      "text/plain": [
       "Index(['n_pfps', 'n_tracks', 'merge_bestdot', 'hits_ratio', 'NeutrinoEnergy2',\n",
       "       'run', 'n_showers_contained', 'pfp_trk_daughters_v', 'trk_len_v',\n",
       "       'trk_score_v', 'reco_nu_vtx_sce_x', 'n_tracks_contained',\n",
       "       'CosmicDirAll3D', 'trk_phi_v', 'pfnhits', 'n_showers',\n",
       "       'pfp_generation_v', 'reco_nu_vtx_y', 'SliceCaloEnergy2',\n",
       "       'reco_nu_vtx_sce_z', 'secondshower_Y_nhit', 'evt', 'trk_theta_v',\n",
       "       'trk_llr_pid_score_v', 'merge_bestdist', 'reco_nu_vtx_z',\n",
       "       'reco_nu_vtx_x', 'CosmicIPAll3D', 'topological_score',\n",
       "       'contained_fraction', 'sub', 'reco_nu_vtx_sce_y', 'pfp_shr_daughters_v',\n",
       "       'ismerged', 'slpdg', 'reco_e', 'optical_filter', 'reco_fid_vol',\n",
       "       'all_start_contained', 'all_end_contained', 'is_trk_at_vtx',\n",
       "       'trk_at_vtx', 'numu_ev_considered', 'muon_candidate_no_pid',\n",
       "       'n_mu_cand', 'muon_candidate', 'numu_ev_selected',\n",
       "       'non_muon_cand_maxll', 'non_muon_cand_minll', 'plot_weight'],\n",
       "      dtype='object')"
      ]
     },
     "execution_count": 15,
     "metadata": {},
     "output_type": "execute_result"
    }
   ],
   "source": [
    "plotter.on_daughters.columns"
   ]
  },
  {
   "cell_type": "code",
   "execution_count": 41,
   "metadata": {},
   "outputs": [],
   "source": [
    "aux_max_theta_track = plotter.on_daughters['trk_theta_v'].groupby([\"sample\", \"Run\", \"event\"]).transform('max')# == plotter.on_daughters['trk_theta_v'])\n",
    "plotter.on_daughters.loc[:, 'aux_max_theta_track'] = aux_max_theta_track"
   ]
  },
  {
   "cell_type": "code",
   "execution_count": 42,
   "metadata": {},
   "outputs": [
    {
     "data": {
      "text/plain": [
       "sample  Run  event  daughter\n",
       "1       1    3      0           2.576200\n",
       "                    1           2.576200\n",
       "                    2           2.576200\n",
       "             11     0           1.367946\n",
       "             15     0           1.460650\n",
       "                                  ...   \n",
       "        3    27983  0           2.527322\n",
       "                    1           2.527322\n",
       "             27993  0           0.903103\n",
       "             27996  0           0.645717\n",
       "             28002  0           1.224886\n",
       "Name: aux_max_theta_track, Length: 88910, dtype: float32"
      ]
     },
     "execution_count": 42,
     "metadata": {},
     "output_type": "execute_result"
    }
   ],
   "source": [
    "plotter.on_daughters['aux_max_theta_track']"
   ]
  },
  {
   "cell_type": "code",
   "execution_count": 44,
   "metadata": {},
   "outputs": [
    {
     "data": {
      "text/plain": [
       "1.0471975511965976"
      ]
     },
     "execution_count": 44,
     "metadata": {},
     "output_type": "execute_result"
    }
   ],
   "source": [
    "np.pi/3"
   ]
  },
  {
   "cell_type": "code",
   "execution_count": null,
   "metadata": {},
   "outputs": [],
   "source": [
    "plotter.on_daughters['trk_theta_v'].groupby([\"sample\", \"Run\", \"event\"]).transform('max')"
   ]
  },
  {
   "cell_type": "code",
   "execution_count": 54,
   "metadata": {},
   "outputs": [],
   "source": [
    "plotter.on_daughters.query(\"numu_ev_selected &\\\n",
    "                           (trk_llr_pid_score_v<-0.5) &\\\n",
    "                           (trk_at_vtx==2) &\\\n",
    "                           non_muon_cand_maxll &\\\n",
    "                           (trk_len_v > 10) &\\\n",
    "                           (trk_len_v < 40) &\\\n",
    "                           (aux_max_theta_track < 1)\")[[\"evt\", \n",
    "                                                      \"run\", \n",
    "                                                      \"sub\", \n",
    "                                                      \"reco_nu_vtx_z\",\n",
    "                                                      'reco_nu_vtx_sce_x',\n",
    "                                                      \"trk_theta_v\",\n",
    "                                                      \"trk_phi_v\",\n",
    "                                                      \"trk_len_v\",\n",
    "                                                      \"trk_llr_pid_score_v\", \n",
    "                                                      ]].to_csv('good_ccqe_events_tight_proton')"
   ]
  },
  {
   "cell_type": "code",
   "execution_count": null,
   "metadata": {},
   "outputs": [],
   "source": [
    "# second track\n",
    "fig, ax = get_fig(1,1.5)\n",
    "\n",
    "ratio, purity, ks_p, cnp, text_loc = plotter.plot_panel_data_mc(\n",
    "    ax.T[0],\n",
    "    \"trk_llr_pid_score_v\",\n",
    "    \"Track PID\",\n",
    "    N_bins=25,\n",
    "    x_min=-1,\n",
    "    x_max=1,\n",
    "    query=\"numu_ev_selected & non_muon_cand_maxll & trk_at_vtx==2\",\n",
    "    legend=True,\n",
    "    title_str=r\"Second track PID - $\\nu_{\\mu}CC$ + 1 track selection\",\n",
    "    kind=\"pdg\",\n",
    "    y_max_scaler= 1.15\n",
    ")\n",
    "plot_class.add_text(ax[0][0], [ratio,None,None,None], text_loc)\n",
    "\n",
    "fig.savefig(output_dir + \"two_tracks_pid_pdg.pdf\", bbox_inches=\"tight\")\n",
    "\n",
    "# second track\n",
    "fig, ax = get_fig(1,1.5)\n",
    "\n",
    "ratio, purity, ks_p, cnp, text_loc = plotter.plot_panel_data_mc(\n",
    "    ax.T[0],\n",
    "    \"trk_llr_pid_score_v\",\n",
    "    \"Track PID\",\n",
    "    N_bins=25,\n",
    "    x_min=-1,\n",
    "    x_max=1,\n",
    "    query=\"numu_ev_selected & non_muon_cand_maxll & trk_at_vtx==2\",\n",
    "    legend=True,\n",
    "    title_str=\"\",\n",
    "    kind=\"cat\",\n",
    "    y_max_scaler= 1.15\n",
    ")\n",
    "plot_class.add_text(ax[0][0], [ratio,None,None,None], text_loc)\n",
    "\n",
    "fig.savefig(output_dir + \"two_tracks_pid_cat.pdf\", bbox_inches=\"tight\")"
   ]
  },
  {
   "cell_type": "code",
   "execution_count": null,
   "metadata": {
    "scrolled": true
   },
   "outputs": [],
   "source": [
    "# third track\n",
    "fig, ax = get_fig(1,1.5)\n",
    "\n",
    "ratio, purity, ks_p, cnp, text_loc = plotter.plot_panel_data_mc(\n",
    "    ax.T[0],\n",
    "    \"trk_llr_pid_score_v\",\n",
    "    \"Track PID\",\n",
    "    N_bins=25,\n",
    "    x_min=-1,\n",
    "    x_max=1,\n",
    "    query=\"numu_ev_selected & non_muon_cand_maxll & trk_at_vtx==3\",\n",
    "    legend=True,\n",
    "#     title_str=r\"Max PID track - $\\nu_{\\mu}CC$ + 2 track selection\",\n",
    "    kind=\"pdg\",\n",
    "    y_max_scaler= 1.15\n",
    ")\n",
    "plot_class.add_text(ax[0][0], [ratio,None,None,None], text_loc)\n",
    "\n",
    "# fig.savefig(output_dir + \"three_tracks_pid_pdg.pdf\", bbox_inches=\"tight\")\n",
    "\n",
    "# third track\n",
    "fig, ax = get_fig(1,1.5)\n",
    "\n",
    "ratio, purity, ks_p, cnp, text_loc = plotter.plot_panel_data_mc(\n",
    "    ax.T[0],\n",
    "    \"trk_llr_pid_score_v\",\n",
    "    \"Track PID\",\n",
    "    N_bins=25,\n",
    "    x_min=-1,\n",
    "    x_max=1,\n",
    "    query=\"numu_ev_selected & non_muon_cand_maxll & trk_at_vtx==3\",\n",
    "    legend=True,\n",
    "#     title_str=r\"Max PID track - $\\nu_{\\mu}CC$ + 2 track selection\",\n",
    "    kind=\"cat\",\n",
    "    y_max_scaler= 1.15\n",
    ")\n",
    "plot_class.add_text(ax[0][0], [ratio,None,None,None], text_loc)\n",
    "\n",
    "# fig.savefig(output_dir + \"three_tracks_pid_cat.pdf\", bbox_inches=\"tight\")"
   ]
  },
  {
   "cell_type": "code",
   "execution_count": null,
   "metadata": {},
   "outputs": [],
   "source": [
    "# second and third track together, for paper\n",
    "fig, ax = plt.subplots(\n",
    "    ncols=2,\n",
    "    nrows=2,\n",
    "    figsize=(7 * plotter.gr, 4.5),\n",
    "    gridspec_kw={\"height_ratios\": [3, 1]},\n",
    ")\n",
    "\n",
    "ratio, purity, ks_p, cnp, text_loc = plotter.plot_panel_data_mc(\n",
    "    ax.T[0],\n",
    "    \"trk_llr_pid_score_v\",\n",
    "    \"Track PID\",\n",
    "    N_bins=25,\n",
    "    x_min=-1,\n",
    "    x_max=1,\n",
    "    query=\"numu_ev_selected & non_muon_cand_maxll & trk_at_vtx==2\",\n",
    "    title_str=\"Second Track\",\n",
    "    legend=False,\n",
    "    kind=\"cat\",\n",
    "    y_max_scaler= 1.15\n",
    ")\n",
    "\n",
    "ratio, purity, ks_p, cnp, text_loc = plotter.plot_panel_data_mc(\n",
    "    ax.T[1],\n",
    "    \"trk_llr_pid_score_v\",\n",
    "    \"Track PID\",\n",
    "    N_bins=25,\n",
    "    x_min=-1,\n",
    "    x_max=1,\n",
    "    query=\"numu_ev_selected & non_muon_cand_maxll & trk_at_vtx==3\",\n",
    "    title_str=\"Third Track\",\n",
    "    legend=True,\n",
    "    kind=\"cat\",\n",
    "    y_max_scaler= 1.15\n",
    ")\n",
    "\n",
    "handles, labels = ax[0][1].get_legend_handles_labels()\n",
    "# labels_dict = dict(\n",
    "#     zip(('BNB On', 'Cosmic', '$\\\\pi^{\\\\pm}$', '$\\\\mu$', '$p$', 'BNB Off'),\n",
    "#         ('DATA ON', 'cosmic', 'pion', 'muon', 'proton', 'DATA OFF'))\n",
    "#     )\n",
    "new_handles = []\n",
    "new_labels = []\n",
    "for i, (h, l) in enumerate(zip(handles, labels)):\n",
    "    aux_l = l.split(\":\", 1)[0]\n",
    "    if aux_l == 'BNB On':\n",
    "        aux_l = 'DATA Beam ON'\n",
    "    elif aux_l == 'BNB Off':\n",
    "        aux_l = 'DATA Beam OFF'\n",
    "    elif aux_l == 'Cosmic':\n",
    "        aux_l = 'cosmic or\\nout of cryostat'\n",
    "    elif aux_l == 'Out of Cryo':\n",
    "        continue\n",
    "    new_labels.append(aux_l)\n",
    "    new_handles.append(h)\n",
    "new_handles = [new_handles[0]] + new_handles[1:][::-1]\n",
    "new_labels = [new_labels[0]] + new_labels[1:][::-1]\n",
    "ax[0][1].legend(new_handles, new_labels, bbox_to_anchor=(1.02, 0.5), loc=\"center left\", frameon=False)\n",
    "\n",
    "fig.tight_layout()\n",
    "fig.savefig(output_dir + \"two_three_tracks_pid_pdg.pdf\", bbox_inches=\"tight\")"
   ]
  },
  {
   "cell_type": "code",
   "execution_count": null,
   "metadata": {},
   "outputs": [],
   "source": []
  }
 ],
 "metadata": {
  "kernelspec": {
   "display_name": "Python 3",
   "language": "python",
   "name": "python3"
  },
  "language_info": {
   "codemirror_mode": {
    "name": "ipython",
    "version": 3
   },
   "file_extension": ".py",
   "mimetype": "text/x-python",
   "name": "python",
   "nbconvert_exporter": "python",
   "pygments_lexer": "ipython3",
   "version": "3.7.9"
  }
 },
 "nbformat": 4,
 "nbformat_minor": 4
}
